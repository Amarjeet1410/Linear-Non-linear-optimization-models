{
  "nbformat": 4,
  "nbformat_minor": 0,
  "metadata": {
    "colab": {
      "provenance": []
    },
    "kernelspec": {
      "name": "python3",
      "display_name": "Python 3"
    },
    "language_info": {
      "name": "python"
    }
  },
  "cells": [
    {
      "cell_type": "code",
      "execution_count": 37,
      "metadata": {
        "id": "fgJEY0-zIRPG"
      },
      "outputs": [],
      "source": [
        "!pip install -q pyomo\n",
        "from pyomo.environ import *\n",
        "!apt-get install -y -qq glpk-utils\n",
        "!apt-get install -y -qq coinor-cbc"
      ]
    },
    {
      "cell_type": "code",
      "source": [
        "import pandas as pd\n",
        "import numpy as np\n",
        "import matplotlib.pyplot as plt\n"
      ],
      "metadata": {
        "id": "uocVjhoXQINE"
      },
      "execution_count": 38,
      "outputs": []
    },
    {
      "cell_type": "code",
      "source": [
        "!pip -q install qpsolvers[open_source_solvers]\n",
        "from qpsolvers import solve_qp"
      ],
      "metadata": {
        "id": "Htaq9X-jPzBO"
      },
      "execution_count": 39,
      "outputs": []
    },
    {
      "cell_type": "code",
      "source": [
        "!pip install -i https://pypi.gurobi.com gurobipy\n",
        "import gurobipy as gp"
      ],
      "metadata": {
        "colab": {
          "base_uri": "https://localhost:8080/"
        },
        "id": "-yfDdSX4RYeh",
        "outputId": "bae98587-9a51-470d-8ebc-9cc881990bc5"
      },
      "execution_count": 40,
      "outputs": [
        {
          "output_type": "stream",
          "name": "stdout",
          "text": [
            "Looking in indexes: https://pypi.gurobi.com\n",
            "Requirement already satisfied: gurobipy in /usr/local/lib/python3.10/dist-packages (10.0.3)\n"
          ]
        }
      ]
    },
    {
      "cell_type": "markdown",
      "source": [
        "**Question 1**"
      ],
      "metadata": {
        "id": "wCjMkI6kmSUS"
      }
    },
    {
      "cell_type": "code",
      "source": [
        "# Question-1\n",
        "n=5\n",
        "a=[1,1,1,1,1]\n",
        "b=[85,92,45,27,31]\n",
        "c=[92,54,22,20,7]\n",
        "d=[96,67,29,20,11]\n",
        "e=[-91,-57,-33,-23,-12]\n",
        "f=[-99,-75,-26,-24,-41]\n",
        "g=[-98,-99,-57,-45,-65]\n",
        "h= [1,1,1,1,1,1]\n",
        "lst=[a,b,c,d,e,f,g]\n",
        "coeffOP1=pd.DataFrame(lst)\n"
      ],
      "metadata": {
        "id": "VQ3nGzM3R2qB"
      },
      "execution_count": 117,
      "outputs": []
    },
    {
      "cell_type": "code",
      "source": [
        "coeffOP1"
      ],
      "metadata": {
        "colab": {
          "base_uri": "https://localhost:8080/",
          "height": 268
        },
        "id": "BrT2Se4HVw10",
        "outputId": "fcaeb6b4-7b02-409b-8735-42f175feb132"
      },
      "execution_count": 118,
      "outputs": [
        {
          "output_type": "execute_result",
          "data": {
            "text/plain": [
              "    0   1   2   3   4\n",
              "0   1   1   1   1   1\n",
              "1  85  92  45  27  31\n",
              "2  92  54  22  20   7\n",
              "3  96  67  29  20  11\n",
              "4 -91 -57 -33 -23 -12\n",
              "5 -99 -75 -26 -24 -41\n",
              "6 -98 -99 -57 -45 -65"
            ],
            "text/html": [
              "\n",
              "  <div id=\"df-c39e6f58-f89d-4d87-8fce-decba5208c3b\" class=\"colab-df-container\">\n",
              "    <div>\n",
              "<style scoped>\n",
              "    .dataframe tbody tr th:only-of-type {\n",
              "        vertical-align: middle;\n",
              "    }\n",
              "\n",
              "    .dataframe tbody tr th {\n",
              "        vertical-align: top;\n",
              "    }\n",
              "\n",
              "    .dataframe thead th {\n",
              "        text-align: right;\n",
              "    }\n",
              "</style>\n",
              "<table border=\"1\" class=\"dataframe\">\n",
              "  <thead>\n",
              "    <tr style=\"text-align: right;\">\n",
              "      <th></th>\n",
              "      <th>0</th>\n",
              "      <th>1</th>\n",
              "      <th>2</th>\n",
              "      <th>3</th>\n",
              "      <th>4</th>\n",
              "    </tr>\n",
              "  </thead>\n",
              "  <tbody>\n",
              "    <tr>\n",
              "      <th>0</th>\n",
              "      <td>1</td>\n",
              "      <td>1</td>\n",
              "      <td>1</td>\n",
              "      <td>1</td>\n",
              "      <td>1</td>\n",
              "    </tr>\n",
              "    <tr>\n",
              "      <th>1</th>\n",
              "      <td>85</td>\n",
              "      <td>92</td>\n",
              "      <td>45</td>\n",
              "      <td>27</td>\n",
              "      <td>31</td>\n",
              "    </tr>\n",
              "    <tr>\n",
              "      <th>2</th>\n",
              "      <td>92</td>\n",
              "      <td>54</td>\n",
              "      <td>22</td>\n",
              "      <td>20</td>\n",
              "      <td>7</td>\n",
              "    </tr>\n",
              "    <tr>\n",
              "      <th>3</th>\n",
              "      <td>96</td>\n",
              "      <td>67</td>\n",
              "      <td>29</td>\n",
              "      <td>20</td>\n",
              "      <td>11</td>\n",
              "    </tr>\n",
              "    <tr>\n",
              "      <th>4</th>\n",
              "      <td>-91</td>\n",
              "      <td>-57</td>\n",
              "      <td>-33</td>\n",
              "      <td>-23</td>\n",
              "      <td>-12</td>\n",
              "    </tr>\n",
              "    <tr>\n",
              "      <th>5</th>\n",
              "      <td>-99</td>\n",
              "      <td>-75</td>\n",
              "      <td>-26</td>\n",
              "      <td>-24</td>\n",
              "      <td>-41</td>\n",
              "    </tr>\n",
              "    <tr>\n",
              "      <th>6</th>\n",
              "      <td>-98</td>\n",
              "      <td>-99</td>\n",
              "      <td>-57</td>\n",
              "      <td>-45</td>\n",
              "      <td>-65</td>\n",
              "    </tr>\n",
              "  </tbody>\n",
              "</table>\n",
              "</div>\n",
              "    <div class=\"colab-df-buttons\">\n",
              "\n",
              "  <div class=\"colab-df-container\">\n",
              "    <button class=\"colab-df-convert\" onclick=\"convertToInteractive('df-c39e6f58-f89d-4d87-8fce-decba5208c3b')\"\n",
              "            title=\"Convert this dataframe to an interactive table.\"\n",
              "            style=\"display:none;\">\n",
              "\n",
              "  <svg xmlns=\"http://www.w3.org/2000/svg\" height=\"24px\" viewBox=\"0 -960 960 960\">\n",
              "    <path d=\"M120-120v-720h720v720H120Zm60-500h600v-160H180v160Zm220 220h160v-160H400v160Zm0 220h160v-160H400v160ZM180-400h160v-160H180v160Zm440 0h160v-160H620v160ZM180-180h160v-160H180v160Zm440 0h160v-160H620v160Z\"/>\n",
              "  </svg>\n",
              "    </button>\n",
              "\n",
              "  <style>\n",
              "    .colab-df-container {\n",
              "      display:flex;\n",
              "      gap: 12px;\n",
              "    }\n",
              "\n",
              "    .colab-df-convert {\n",
              "      background-color: #E8F0FE;\n",
              "      border: none;\n",
              "      border-radius: 50%;\n",
              "      cursor: pointer;\n",
              "      display: none;\n",
              "      fill: #1967D2;\n",
              "      height: 32px;\n",
              "      padding: 0 0 0 0;\n",
              "      width: 32px;\n",
              "    }\n",
              "\n",
              "    .colab-df-convert:hover {\n",
              "      background-color: #E2EBFA;\n",
              "      box-shadow: 0px 1px 2px rgba(60, 64, 67, 0.3), 0px 1px 3px 1px rgba(60, 64, 67, 0.15);\n",
              "      fill: #174EA6;\n",
              "    }\n",
              "\n",
              "    .colab-df-buttons div {\n",
              "      margin-bottom: 4px;\n",
              "    }\n",
              "\n",
              "    [theme=dark] .colab-df-convert {\n",
              "      background-color: #3B4455;\n",
              "      fill: #D2E3FC;\n",
              "    }\n",
              "\n",
              "    [theme=dark] .colab-df-convert:hover {\n",
              "      background-color: #434B5C;\n",
              "      box-shadow: 0px 1px 3px 1px rgba(0, 0, 0, 0.15);\n",
              "      filter: drop-shadow(0px 1px 2px rgba(0, 0, 0, 0.3));\n",
              "      fill: #FFFFFF;\n",
              "    }\n",
              "  </style>\n",
              "\n",
              "    <script>\n",
              "      const buttonEl =\n",
              "        document.querySelector('#df-c39e6f58-f89d-4d87-8fce-decba5208c3b button.colab-df-convert');\n",
              "      buttonEl.style.display =\n",
              "        google.colab.kernel.accessAllowed ? 'block' : 'none';\n",
              "\n",
              "      async function convertToInteractive(key) {\n",
              "        const element = document.querySelector('#df-c39e6f58-f89d-4d87-8fce-decba5208c3b');\n",
              "        const dataTable =\n",
              "          await google.colab.kernel.invokeFunction('convertToInteractive',\n",
              "                                                    [key], {});\n",
              "        if (!dataTable) return;\n",
              "\n",
              "        const docLinkHtml = 'Like what you see? Visit the ' +\n",
              "          '<a target=\"_blank\" href=https://colab.research.google.com/notebooks/data_table.ipynb>data table notebook</a>'\n",
              "          + ' to learn more about interactive tables.';\n",
              "        element.innerHTML = '';\n",
              "        dataTable['output_type'] = 'display_data';\n",
              "        await google.colab.output.renderOutput(dataTable, element);\n",
              "        const docLink = document.createElement('div');\n",
              "        docLink.innerHTML = docLinkHtml;\n",
              "        element.appendChild(docLink);\n",
              "      }\n",
              "    </script>\n",
              "  </div>\n",
              "\n",
              "\n",
              "<div id=\"df-6f2690f7-571d-417c-a158-2ba76bcb7ff6\">\n",
              "  <button class=\"colab-df-quickchart\" onclick=\"quickchart('df-6f2690f7-571d-417c-a158-2ba76bcb7ff6')\"\n",
              "            title=\"Suggest charts.\"\n",
              "            style=\"display:none;\">\n",
              "\n",
              "<svg xmlns=\"http://www.w3.org/2000/svg\" height=\"24px\"viewBox=\"0 0 24 24\"\n",
              "     width=\"24px\">\n",
              "    <g>\n",
              "        <path d=\"M19 3H5c-1.1 0-2 .9-2 2v14c0 1.1.9 2 2 2h14c1.1 0 2-.9 2-2V5c0-1.1-.9-2-2-2zM9 17H7v-7h2v7zm4 0h-2V7h2v10zm4 0h-2v-4h2v4z\"/>\n",
              "    </g>\n",
              "</svg>\n",
              "  </button>\n",
              "\n",
              "<style>\n",
              "  .colab-df-quickchart {\n",
              "      --bg-color: #E8F0FE;\n",
              "      --fill-color: #1967D2;\n",
              "      --hover-bg-color: #E2EBFA;\n",
              "      --hover-fill-color: #174EA6;\n",
              "      --disabled-fill-color: #AAA;\n",
              "      --disabled-bg-color: #DDD;\n",
              "  }\n",
              "\n",
              "  [theme=dark] .colab-df-quickchart {\n",
              "      --bg-color: #3B4455;\n",
              "      --fill-color: #D2E3FC;\n",
              "      --hover-bg-color: #434B5C;\n",
              "      --hover-fill-color: #FFFFFF;\n",
              "      --disabled-bg-color: #3B4455;\n",
              "      --disabled-fill-color: #666;\n",
              "  }\n",
              "\n",
              "  .colab-df-quickchart {\n",
              "    background-color: var(--bg-color);\n",
              "    border: none;\n",
              "    border-radius: 50%;\n",
              "    cursor: pointer;\n",
              "    display: none;\n",
              "    fill: var(--fill-color);\n",
              "    height: 32px;\n",
              "    padding: 0;\n",
              "    width: 32px;\n",
              "  }\n",
              "\n",
              "  .colab-df-quickchart:hover {\n",
              "    background-color: var(--hover-bg-color);\n",
              "    box-shadow: 0 1px 2px rgba(60, 64, 67, 0.3), 0 1px 3px 1px rgba(60, 64, 67, 0.15);\n",
              "    fill: var(--button-hover-fill-color);\n",
              "  }\n",
              "\n",
              "  .colab-df-quickchart-complete:disabled,\n",
              "  .colab-df-quickchart-complete:disabled:hover {\n",
              "    background-color: var(--disabled-bg-color);\n",
              "    fill: var(--disabled-fill-color);\n",
              "    box-shadow: none;\n",
              "  }\n",
              "\n",
              "  .colab-df-spinner {\n",
              "    border: 2px solid var(--fill-color);\n",
              "    border-color: transparent;\n",
              "    border-bottom-color: var(--fill-color);\n",
              "    animation:\n",
              "      spin 1s steps(1) infinite;\n",
              "  }\n",
              "\n",
              "  @keyframes spin {\n",
              "    0% {\n",
              "      border-color: transparent;\n",
              "      border-bottom-color: var(--fill-color);\n",
              "      border-left-color: var(--fill-color);\n",
              "    }\n",
              "    20% {\n",
              "      border-color: transparent;\n",
              "      border-left-color: var(--fill-color);\n",
              "      border-top-color: var(--fill-color);\n",
              "    }\n",
              "    30% {\n",
              "      border-color: transparent;\n",
              "      border-left-color: var(--fill-color);\n",
              "      border-top-color: var(--fill-color);\n",
              "      border-right-color: var(--fill-color);\n",
              "    }\n",
              "    40% {\n",
              "      border-color: transparent;\n",
              "      border-right-color: var(--fill-color);\n",
              "      border-top-color: var(--fill-color);\n",
              "    }\n",
              "    60% {\n",
              "      border-color: transparent;\n",
              "      border-right-color: var(--fill-color);\n",
              "    }\n",
              "    80% {\n",
              "      border-color: transparent;\n",
              "      border-right-color: var(--fill-color);\n",
              "      border-bottom-color: var(--fill-color);\n",
              "    }\n",
              "    90% {\n",
              "      border-color: transparent;\n",
              "      border-bottom-color: var(--fill-color);\n",
              "    }\n",
              "  }\n",
              "</style>\n",
              "\n",
              "  <script>\n",
              "    async function quickchart(key) {\n",
              "      const quickchartButtonEl =\n",
              "        document.querySelector('#' + key + ' button');\n",
              "      quickchartButtonEl.disabled = true;  // To prevent multiple clicks.\n",
              "      quickchartButtonEl.classList.add('colab-df-spinner');\n",
              "      try {\n",
              "        const charts = await google.colab.kernel.invokeFunction(\n",
              "            'suggestCharts', [key], {});\n",
              "      } catch (error) {\n",
              "        console.error('Error during call to suggestCharts:', error);\n",
              "      }\n",
              "      quickchartButtonEl.classList.remove('colab-df-spinner');\n",
              "      quickchartButtonEl.classList.add('colab-df-quickchart-complete');\n",
              "    }\n",
              "    (() => {\n",
              "      let quickchartButtonEl =\n",
              "        document.querySelector('#df-6f2690f7-571d-417c-a158-2ba76bcb7ff6 button');\n",
              "      quickchartButtonEl.style.display =\n",
              "        google.colab.kernel.accessAllowed ? 'block' : 'none';\n",
              "    })();\n",
              "  </script>\n",
              "</div>\n",
              "    </div>\n",
              "  </div>\n"
            ]
          },
          "metadata": {},
          "execution_count": 118
        }
      ]
    },
    {
      "cell_type": "code",
      "source": [
        "model =ConcreteModel()\n",
        "model.constraints= ConstraintList()\n",
        "model.x= Var(np.arange(n),domain=Reals)\n",
        "model.u=Var(np.arange(n),domain=Reals)\n",
        "\n",
        "model.objective = Objective(expr=sum(model.u[i]*coeffOP1[i][0] for i in range(5)), sense=minimize)\n",
        "for i in range(6):\n",
        "  model.constraints.add(sum(coeffOP1[j][i+1]*model.x[j] for j in range(5)) >= b[i])\n",
        "\n",
        "for i in range(n):\n",
        "\n",
        "\n",
        "    model.constraints.add(expr = model.u[i] >= model.x[i])\n",
        "    model.constraints.add(expr = model.u[i] >= -model.x[i])\n",
        "    model.constraints.add(expr = model.u[i]>=0)\n",
        "\n"
      ],
      "metadata": {
        "id": "sQ-8_J0TR2c2"
      },
      "execution_count": 43,
      "outputs": []
    },
    {
      "cell_type": "code",
      "source": [
        "model.pprint()"
      ],
      "metadata": {
        "colab": {
          "base_uri": "https://localhost:8080/"
        },
        "id": "CAQsu3DwZ-Dq",
        "outputId": "199eb4ab-10c7-4c52-dad5-0ae9d26db4b8"
      },
      "execution_count": 44,
      "outputs": [
        {
          "output_type": "stream",
          "name": "stdout",
          "text": [
            "3 Set Declarations\n",
            "    constraints_index : Size=1, Index=None, Ordered=Insertion\n",
            "        Key  : Dimen : Domain : Size : Members\n",
            "        None :     1 :    Any :   21 : {1, 2, 3, 4, 5, 6, 7, 8, 9, 10, 11, 12, 13, 14, 15, 16, 17, 18, 19, 20, 21}\n",
            "    u_index : Size=1, Index=None, Ordered=False\n",
            "        Key  : Dimen : Domain : Size : Members\n",
            "        None :     1 :    Any :    5 : {0, 1, 2, 3, 4}\n",
            "    x_index : Size=1, Index=None, Ordered=False\n",
            "        Key  : Dimen : Domain : Size : Members\n",
            "        None :     1 :    Any :    5 : {0, 1, 2, 3, 4}\n",
            "\n",
            "2 Var Declarations\n",
            "    u : Size=5, Index=u_index\n",
            "        Key : Lower : Value : Upper : Fixed : Stale : Domain\n",
            "          0 :  None :  None :  None : False :  True :  Reals\n",
            "          1 :  None :  None :  None : False :  True :  Reals\n",
            "          2 :  None :  None :  None : False :  True :  Reals\n",
            "          3 :  None :  None :  None : False :  True :  Reals\n",
            "          4 :  None :  None :  None : False :  True :  Reals\n",
            "    x : Size=5, Index=x_index\n",
            "        Key : Lower : Value : Upper : Fixed : Stale : Domain\n",
            "          0 :  None :  None :  None : False :  True :  Reals\n",
            "          1 :  None :  None :  None : False :  True :  Reals\n",
            "          2 :  None :  None :  None : False :  True :  Reals\n",
            "          3 :  None :  None :  None : False :  True :  Reals\n",
            "          4 :  None :  None :  None : False :  True :  Reals\n",
            "\n",
            "1 Objective Declarations\n",
            "    objective : Size=1, Index=None, Active=True\n",
            "        Key  : Active : Sense    : Expression\n",
            "        None :   True : minimize : u[0] + u[1] + u[2] + u[3] + u[4]\n",
            "\n",
            "1 Constraint Declarations\n",
            "    constraints : Size=21, Index=constraints_index, Active=True\n",
            "        Key : Lower : Body                                             : Upper : Active\n",
            "          1 :   1.0 :  85*x[0] + 92*x[1] + 45*x[2] + 27*x[3] + 31*x[4] :  +Inf :   True\n",
            "          2 :   1.0 :   92*x[0] + 54*x[1] + 22*x[2] + 20*x[3] + 7*x[4] :  +Inf :   True\n",
            "          3 :   1.0 :  96*x[0] + 67*x[1] + 29*x[2] + 20*x[3] + 11*x[4] :  +Inf :   True\n",
            "          4 :   1.0 : -91*x[0] - 57*x[1] - 33*x[2] - 23*x[3] - 12*x[4] :  +Inf :   True\n",
            "          5 :   1.0 : -99*x[0] - 75*x[1] - 26*x[2] - 24*x[3] - 41*x[4] :  +Inf :   True\n",
            "          6 :   1.0 : -98*x[0] - 99*x[1] - 57*x[2] - 45*x[3] - 65*x[4] :  +Inf :   True\n",
            "          7 :  -Inf :                                      x[0] - u[0] :   0.0 :   True\n",
            "          8 :  -Inf :                                    - x[0] - u[0] :   0.0 :   True\n",
            "          9 :   0.0 :                                             u[0] :  +Inf :   True\n",
            "         10 :  -Inf :                                      x[1] - u[1] :   0.0 :   True\n",
            "         11 :  -Inf :                                    - x[1] - u[1] :   0.0 :   True\n",
            "         12 :   0.0 :                                             u[1] :  +Inf :   True\n",
            "         13 :  -Inf :                                      x[2] - u[2] :   0.0 :   True\n",
            "         14 :  -Inf :                                    - x[2] - u[2] :   0.0 :   True\n",
            "         15 :   0.0 :                                             u[2] :  +Inf :   True\n",
            "         16 :  -Inf :                                      x[3] - u[3] :   0.0 :   True\n",
            "         17 :  -Inf :                                    - x[3] - u[3] :   0.0 :   True\n",
            "         18 :   0.0 :                                             u[3] :  +Inf :   True\n",
            "         19 :  -Inf :                                      x[4] - u[4] :   0.0 :   True\n",
            "         20 :  -Inf :                                    - x[4] - u[4] :   0.0 :   True\n",
            "         21 :   0.0 :                                             u[4] :  +Inf :   True\n",
            "\n",
            "7 Declarations: constraints_index constraints x_index x u_index u objective\n"
          ]
        }
      ]
    },
    {
      "cell_type": "code",
      "source": [
        "optLP = SolverFactory('cbc')\n",
        "result = optLP.solve(model)"
      ],
      "metadata": {
        "id": "jgepXCVPad55"
      },
      "execution_count": 45,
      "outputs": []
    },
    {
      "cell_type": "code",
      "source": [
        "print(result)"
      ],
      "metadata": {
        "colab": {
          "base_uri": "https://localhost:8080/"
        },
        "id": "OXOUEmEAa5Iu",
        "outputId": "01a060c7-02ff-49d1-f496-ec33df93cf58"
      },
      "execution_count": 46,
      "outputs": [
        {
          "output_type": "stream",
          "name": "stdout",
          "text": [
            "\n",
            "Problem: \n",
            "- Name: unknown\n",
            "  Lower bound: 0.5479557323\n",
            "  Upper bound: 0.5479557323\n",
            "  Number of objectives: 1\n",
            "  Number of constraints: 21\n",
            "  Number of variables: 10\n",
            "  Number of nonzeros: 5\n",
            "  Sense: minimize\n",
            "Solver: \n",
            "- Status: ok\n",
            "  User time: -1.0\n",
            "  System time: 0.0\n",
            "  Wallclock time: 0.0\n",
            "  Termination condition: optimal\n",
            "  Termination message: Model was solved to optimality (subject to tolerances), and an optimal solution is available.\n",
            "  Statistics: \n",
            "    Branch and bound: \n",
            "      Number of bounded subproblems: None\n",
            "      Number of created subproblems: None\n",
            "    Black box: \n",
            "      Number of iterations: 13\n",
            "  Error rc: 0\n",
            "  Time: 0.020319700241088867\n",
            "Solution: \n",
            "- number of solutions: 0\n",
            "  number of solutions displayed: 0\n",
            "\n"
          ]
        }
      ]
    },
    {
      "cell_type": "code",
      "source": [
        "model.objective()"
      ],
      "metadata": {
        "colab": {
          "base_uri": "https://localhost:8080/"
        },
        "id": "VGDXA3iLa98-",
        "outputId": "fd3aca57-7651-4742-9433-a60a6ff205eb"
      },
      "execution_count": 47,
      "outputs": [
        {
          "output_type": "execute_result",
          "data": {
            "text/plain": [
              "0.547955725"
            ]
          },
          "metadata": {},
          "execution_count": 47
        }
      ]
    },
    {
      "cell_type": "code",
      "source": [
        "for i in range(5):\n",
        "  print('x',[i],model.x[i]())\n",
        "  end=''\n",
        "  print('u',[i],model.u[i]())"
      ],
      "metadata": {
        "colab": {
          "base_uri": "https://localhost:8080/"
        },
        "id": "qW-k9o5xfc4H",
        "outputId": "7ce4fba6-22e7-4fa5-8318-672d99383b98"
      },
      "execution_count": 48,
      "outputs": [
        {
          "output_type": "stream",
          "name": "stdout",
          "text": [
            "x [0] -0.046448575\n",
            "u [0] 0.046448575\n",
            "x [1] 0.18612441\n",
            "u [1] 0.18612441\n",
            "x [2] -0.17131802\n",
            "u [2] 0.17131802\n",
            "x [3] 0.0\n",
            "u [3] 0.0\n",
            "x [4] -0.14406472\n",
            "u [4] 0.14406472\n"
          ]
        }
      ]
    },
    {
      "cell_type": "code",
      "source": [
        "model2 =ConcreteModel()\n",
        "model2.constraints= ConstraintList()\n",
        "model2.a= Var(np.arange(n),domain=NonNegativeReals)\n",
        "model2.b=Var(np.arange(n),domain=NonNegativeReals)\n",
        "\n",
        "model2.objective = Objective(expr=sum(model2.b[i]+model2.a[i] for i in range(5)), sense=minimize)\n",
        "for i in range(6):\n",
        "  model2.constraints.add(sum(coeffOP1[j][i+1]*(model2.a[j]-model2.b[j]) for j in range(5)) >= b[i])\n",
        "\n"
      ],
      "metadata": {
        "id": "PDJhflmSrS5j"
      },
      "execution_count": 49,
      "outputs": []
    },
    {
      "cell_type": "code",
      "source": [
        "model2.pprint()"
      ],
      "metadata": {
        "colab": {
          "base_uri": "https://localhost:8080/"
        },
        "id": "m_iiZGZ0s8Ks",
        "outputId": "3a467791-8b94-4e7a-d5e9-520a6cebfffc"
      },
      "execution_count": 50,
      "outputs": [
        {
          "output_type": "stream",
          "name": "stdout",
          "text": [
            "3 Set Declarations\n",
            "    a_index : Size=1, Index=None, Ordered=False\n",
            "        Key  : Dimen : Domain : Size : Members\n",
            "        None :     1 :    Any :    5 : {0, 1, 2, 3, 4}\n",
            "    b_index : Size=1, Index=None, Ordered=False\n",
            "        Key  : Dimen : Domain : Size : Members\n",
            "        None :     1 :    Any :    5 : {0, 1, 2, 3, 4}\n",
            "    constraints_index : Size=1, Index=None, Ordered=Insertion\n",
            "        Key  : Dimen : Domain : Size : Members\n",
            "        None :     1 :    Any :    6 : {1, 2, 3, 4, 5, 6}\n",
            "\n",
            "2 Var Declarations\n",
            "    a : Size=5, Index=a_index\n",
            "        Key : Lower : Value : Upper : Fixed : Stale : Domain\n",
            "          0 :     0 :  None :  None : False :  True : NonNegativeReals\n",
            "          1 :     0 :  None :  None : False :  True : NonNegativeReals\n",
            "          2 :     0 :  None :  None : False :  True : NonNegativeReals\n",
            "          3 :     0 :  None :  None : False :  True : NonNegativeReals\n",
            "          4 :     0 :  None :  None : False :  True : NonNegativeReals\n",
            "    b : Size=5, Index=b_index\n",
            "        Key : Lower : Value : Upper : Fixed : Stale : Domain\n",
            "          0 :     0 :  None :  None : False :  True : NonNegativeReals\n",
            "          1 :     0 :  None :  None : False :  True : NonNegativeReals\n",
            "          2 :     0 :  None :  None : False :  True : NonNegativeReals\n",
            "          3 :     0 :  None :  None : False :  True : NonNegativeReals\n",
            "          4 :     0 :  None :  None : False :  True : NonNegativeReals\n",
            "\n",
            "1 Objective Declarations\n",
            "    objective : Size=1, Index=None, Active=True\n",
            "        Key  : Active : Sense    : Expression\n",
            "        None :   True : minimize : b[0] + a[0] + b[1] + a[1] + b[2] + a[2] + b[3] + a[3] + b[4] + a[4]\n",
            "\n",
            "1 Constraint Declarations\n",
            "    constraints : Size=6, Index=constraints_index, Active=True\n",
            "        Key : Lower : Body                                                                                          : Upper : Active\n",
            "          1 :   1.0 :  85*(a[0] - b[0]) + 92*(a[1] - b[1]) + 45*(a[2] - b[2]) + 27*(a[3] - b[3]) + 31*(a[4] - b[4]) :  +Inf :   True\n",
            "          2 :   1.0 :   92*(a[0] - b[0]) + 54*(a[1] - b[1]) + 22*(a[2] - b[2]) + 20*(a[3] - b[3]) + 7*(a[4] - b[4]) :  +Inf :   True\n",
            "          3 :   1.0 :  96*(a[0] - b[0]) + 67*(a[1] - b[1]) + 29*(a[2] - b[2]) + 20*(a[3] - b[3]) + 11*(a[4] - b[4]) :  +Inf :   True\n",
            "          4 :   1.0 : -91*(a[0] - b[0]) - 57*(a[1] - b[1]) - 33*(a[2] - b[2]) - 23*(a[3] - b[3]) - 12*(a[4] - b[4]) :  +Inf :   True\n",
            "          5 :   1.0 : -99*(a[0] - b[0]) - 75*(a[1] - b[1]) - 26*(a[2] - b[2]) - 24*(a[3] - b[3]) - 41*(a[4] - b[4]) :  +Inf :   True\n",
            "          6 :   1.0 : -98*(a[0] - b[0]) - 99*(a[1] - b[1]) - 57*(a[2] - b[2]) - 45*(a[3] - b[3]) - 65*(a[4] - b[4]) :  +Inf :   True\n",
            "\n",
            "7 Declarations: constraints_index constraints a_index a b_index b objective\n"
          ]
        }
      ]
    },
    {
      "cell_type": "code",
      "source": [
        "optOP = SolverFactory('cbc')\n",
        "result1 = optOP.solve(model2)\n",
        "print(result1)"
      ],
      "metadata": {
        "colab": {
          "base_uri": "https://localhost:8080/"
        },
        "id": "_EOidnkQtoJ0",
        "outputId": "677409e8-b190-404e-f4ea-b86e97ab87f6"
      },
      "execution_count": 51,
      "outputs": [
        {
          "output_type": "stream",
          "name": "stdout",
          "text": [
            "\n",
            "Problem: \n",
            "- Name: unknown\n",
            "  Lower bound: 0.5479557323\n",
            "  Upper bound: 0.5479557323\n",
            "  Number of objectives: 1\n",
            "  Number of constraints: 6\n",
            "  Number of variables: 10\n",
            "  Number of nonzeros: 10\n",
            "  Sense: minimize\n",
            "Solver: \n",
            "- Status: ok\n",
            "  User time: -1.0\n",
            "  System time: 0.0\n",
            "  Wallclock time: 0.0\n",
            "  Termination condition: optimal\n",
            "  Termination message: Model was solved to optimality (subject to tolerances), and an optimal solution is available.\n",
            "  Statistics: \n",
            "    Branch and bound: \n",
            "      Number of bounded subproblems: None\n",
            "      Number of created subproblems: None\n",
            "    Black box: \n",
            "      Number of iterations: 5\n",
            "  Error rc: 0\n",
            "  Time: 0.02456188201904297\n",
            "Solution: \n",
            "- number of solutions: 0\n",
            "  number of solutions displayed: 0\n",
            "\n"
          ]
        }
      ]
    },
    {
      "cell_type": "code",
      "source": [
        "for i in range(5):\n",
        "  print('a',[i],model2.a[i]())\n",
        "  end=''\n",
        "  print('b',[i],model2.b[i]())"
      ],
      "metadata": {
        "colab": {
          "base_uri": "https://localhost:8080/"
        },
        "id": "rHQkzupLuK6U",
        "outputId": "3e70cfe5-0892-40a5-dbb1-cb38b4647bf4"
      },
      "execution_count": 52,
      "outputs": [
        {
          "output_type": "stream",
          "name": "stdout",
          "text": [
            "a [0] 0.0\n",
            "b [0] 0.046448575\n",
            "a [1] 0.18612441\n",
            "b [1] 0.0\n",
            "a [2] 0.0\n",
            "b [2] 0.17131802\n",
            "a [3] 0.0\n",
            "b [3] 0.0\n",
            "a [4] 0.0\n",
            "b [4] 0.14406472\n"
          ]
        }
      ]
    },
    {
      "cell_type": "code",
      "source": [
        "#Answer-1\n",
        "IR = pd.read_csv('/content/Lab08_InterestRate (1).csv')\n",
        "IR"
      ],
      "metadata": {
        "id": "VS-PNmZQvBaa",
        "colab": {
          "base_uri": "https://localhost:8080/",
          "height": 676
        },
        "outputId": "8a07d291-b094-426e-d8bd-1a92820cbcb9"
      },
      "execution_count": 83,
      "outputs": [
        {
          "output_type": "execute_result",
          "data": {
            "text/plain": [
              "    Year  Interest Rate   Ratio  Rating\n",
              "0   2003         0.0416  0.3615    85.6\n",
              "1   2004         0.0312  0.2820    91.9\n",
              "2   2005         0.0354  0.3010    89.1\n",
              "3   2006         0.0331  0.3862    90.4\n",
              "4   2007         0.0399  0.3578    86.3\n",
              "5   2008         0.0501  0.4413    74.7\n",
              "6   2009         0.0421  0.6753    79.8\n",
              "7   2010         0.0507  0.6777    74.3\n",
              "8   2011         0.0431  0.6585    84.4\n",
              "9   2012         0.0437  0.6702    84.1\n",
              "10  2013         0.0398  0.3289    86.8\n",
              "11  2014         0.0274  0.2473    93.7\n",
              "12  2015         0.0298  0.2762    92.3\n",
              "13  2016         0.0261  0.3222    94.0\n",
              "14  2017         0.0358  0.2792    88.9\n",
              "15  2018         0.0504  0.3609    74.3\n",
              "16  2019         0.0478  0.6187    74.0\n",
              "17  2020         0.0549  0.6176    69.8\n",
              "18  2021         0.0468  0.6004    81.6\n",
              "19  2022         0.0478  0.6119    81.0"
            ],
            "text/html": [
              "\n",
              "  <div id=\"df-9de5a04d-16f9-4abe-9da3-04917ad44125\" class=\"colab-df-container\">\n",
              "    <div>\n",
              "<style scoped>\n",
              "    .dataframe tbody tr th:only-of-type {\n",
              "        vertical-align: middle;\n",
              "    }\n",
              "\n",
              "    .dataframe tbody tr th {\n",
              "        vertical-align: top;\n",
              "    }\n",
              "\n",
              "    .dataframe thead th {\n",
              "        text-align: right;\n",
              "    }\n",
              "</style>\n",
              "<table border=\"1\" class=\"dataframe\">\n",
              "  <thead>\n",
              "    <tr style=\"text-align: right;\">\n",
              "      <th></th>\n",
              "      <th>Year</th>\n",
              "      <th>Interest Rate</th>\n",
              "      <th>Ratio</th>\n",
              "      <th>Rating</th>\n",
              "    </tr>\n",
              "  </thead>\n",
              "  <tbody>\n",
              "    <tr>\n",
              "      <th>0</th>\n",
              "      <td>2003</td>\n",
              "      <td>0.0416</td>\n",
              "      <td>0.3615</td>\n",
              "      <td>85.6</td>\n",
              "    </tr>\n",
              "    <tr>\n",
              "      <th>1</th>\n",
              "      <td>2004</td>\n",
              "      <td>0.0312</td>\n",
              "      <td>0.2820</td>\n",
              "      <td>91.9</td>\n",
              "    </tr>\n",
              "    <tr>\n",
              "      <th>2</th>\n",
              "      <td>2005</td>\n",
              "      <td>0.0354</td>\n",
              "      <td>0.3010</td>\n",
              "      <td>89.1</td>\n",
              "    </tr>\n",
              "    <tr>\n",
              "      <th>3</th>\n",
              "      <td>2006</td>\n",
              "      <td>0.0331</td>\n",
              "      <td>0.3862</td>\n",
              "      <td>90.4</td>\n",
              "    </tr>\n",
              "    <tr>\n",
              "      <th>4</th>\n",
              "      <td>2007</td>\n",
              "      <td>0.0399</td>\n",
              "      <td>0.3578</td>\n",
              "      <td>86.3</td>\n",
              "    </tr>\n",
              "    <tr>\n",
              "      <th>5</th>\n",
              "      <td>2008</td>\n",
              "      <td>0.0501</td>\n",
              "      <td>0.4413</td>\n",
              "      <td>74.7</td>\n",
              "    </tr>\n",
              "    <tr>\n",
              "      <th>6</th>\n",
              "      <td>2009</td>\n",
              "      <td>0.0421</td>\n",
              "      <td>0.6753</td>\n",
              "      <td>79.8</td>\n",
              "    </tr>\n",
              "    <tr>\n",
              "      <th>7</th>\n",
              "      <td>2010</td>\n",
              "      <td>0.0507</td>\n",
              "      <td>0.6777</td>\n",
              "      <td>74.3</td>\n",
              "    </tr>\n",
              "    <tr>\n",
              "      <th>8</th>\n",
              "      <td>2011</td>\n",
              "      <td>0.0431</td>\n",
              "      <td>0.6585</td>\n",
              "      <td>84.4</td>\n",
              "    </tr>\n",
              "    <tr>\n",
              "      <th>9</th>\n",
              "      <td>2012</td>\n",
              "      <td>0.0437</td>\n",
              "      <td>0.6702</td>\n",
              "      <td>84.1</td>\n",
              "    </tr>\n",
              "    <tr>\n",
              "      <th>10</th>\n",
              "      <td>2013</td>\n",
              "      <td>0.0398</td>\n",
              "      <td>0.3289</td>\n",
              "      <td>86.8</td>\n",
              "    </tr>\n",
              "    <tr>\n",
              "      <th>11</th>\n",
              "      <td>2014</td>\n",
              "      <td>0.0274</td>\n",
              "      <td>0.2473</td>\n",
              "      <td>93.7</td>\n",
              "    </tr>\n",
              "    <tr>\n",
              "      <th>12</th>\n",
              "      <td>2015</td>\n",
              "      <td>0.0298</td>\n",
              "      <td>0.2762</td>\n",
              "      <td>92.3</td>\n",
              "    </tr>\n",
              "    <tr>\n",
              "      <th>13</th>\n",
              "      <td>2016</td>\n",
              "      <td>0.0261</td>\n",
              "      <td>0.3222</td>\n",
              "      <td>94.0</td>\n",
              "    </tr>\n",
              "    <tr>\n",
              "      <th>14</th>\n",
              "      <td>2017</td>\n",
              "      <td>0.0358</td>\n",
              "      <td>0.2792</td>\n",
              "      <td>88.9</td>\n",
              "    </tr>\n",
              "    <tr>\n",
              "      <th>15</th>\n",
              "      <td>2018</td>\n",
              "      <td>0.0504</td>\n",
              "      <td>0.3609</td>\n",
              "      <td>74.3</td>\n",
              "    </tr>\n",
              "    <tr>\n",
              "      <th>16</th>\n",
              "      <td>2019</td>\n",
              "      <td>0.0478</td>\n",
              "      <td>0.6187</td>\n",
              "      <td>74.0</td>\n",
              "    </tr>\n",
              "    <tr>\n",
              "      <th>17</th>\n",
              "      <td>2020</td>\n",
              "      <td>0.0549</td>\n",
              "      <td>0.6176</td>\n",
              "      <td>69.8</td>\n",
              "    </tr>\n",
              "    <tr>\n",
              "      <th>18</th>\n",
              "      <td>2021</td>\n",
              "      <td>0.0468</td>\n",
              "      <td>0.6004</td>\n",
              "      <td>81.6</td>\n",
              "    </tr>\n",
              "    <tr>\n",
              "      <th>19</th>\n",
              "      <td>2022</td>\n",
              "      <td>0.0478</td>\n",
              "      <td>0.6119</td>\n",
              "      <td>81.0</td>\n",
              "    </tr>\n",
              "  </tbody>\n",
              "</table>\n",
              "</div>\n",
              "    <div class=\"colab-df-buttons\">\n",
              "\n",
              "  <div class=\"colab-df-container\">\n",
              "    <button class=\"colab-df-convert\" onclick=\"convertToInteractive('df-9de5a04d-16f9-4abe-9da3-04917ad44125')\"\n",
              "            title=\"Convert this dataframe to an interactive table.\"\n",
              "            style=\"display:none;\">\n",
              "\n",
              "  <svg xmlns=\"http://www.w3.org/2000/svg\" height=\"24px\" viewBox=\"0 -960 960 960\">\n",
              "    <path d=\"M120-120v-720h720v720H120Zm60-500h600v-160H180v160Zm220 220h160v-160H400v160Zm0 220h160v-160H400v160ZM180-400h160v-160H180v160Zm440 0h160v-160H620v160ZM180-180h160v-160H180v160Zm440 0h160v-160H620v160Z\"/>\n",
              "  </svg>\n",
              "    </button>\n",
              "\n",
              "  <style>\n",
              "    .colab-df-container {\n",
              "      display:flex;\n",
              "      gap: 12px;\n",
              "    }\n",
              "\n",
              "    .colab-df-convert {\n",
              "      background-color: #E8F0FE;\n",
              "      border: none;\n",
              "      border-radius: 50%;\n",
              "      cursor: pointer;\n",
              "      display: none;\n",
              "      fill: #1967D2;\n",
              "      height: 32px;\n",
              "      padding: 0 0 0 0;\n",
              "      width: 32px;\n",
              "    }\n",
              "\n",
              "    .colab-df-convert:hover {\n",
              "      background-color: #E2EBFA;\n",
              "      box-shadow: 0px 1px 2px rgba(60, 64, 67, 0.3), 0px 1px 3px 1px rgba(60, 64, 67, 0.15);\n",
              "      fill: #174EA6;\n",
              "    }\n",
              "\n",
              "    .colab-df-buttons div {\n",
              "      margin-bottom: 4px;\n",
              "    }\n",
              "\n",
              "    [theme=dark] .colab-df-convert {\n",
              "      background-color: #3B4455;\n",
              "      fill: #D2E3FC;\n",
              "    }\n",
              "\n",
              "    [theme=dark] .colab-df-convert:hover {\n",
              "      background-color: #434B5C;\n",
              "      box-shadow: 0px 1px 3px 1px rgba(0, 0, 0, 0.15);\n",
              "      filter: drop-shadow(0px 1px 2px rgba(0, 0, 0, 0.3));\n",
              "      fill: #FFFFFF;\n",
              "    }\n",
              "  </style>\n",
              "\n",
              "    <script>\n",
              "      const buttonEl =\n",
              "        document.querySelector('#df-9de5a04d-16f9-4abe-9da3-04917ad44125 button.colab-df-convert');\n",
              "      buttonEl.style.display =\n",
              "        google.colab.kernel.accessAllowed ? 'block' : 'none';\n",
              "\n",
              "      async function convertToInteractive(key) {\n",
              "        const element = document.querySelector('#df-9de5a04d-16f9-4abe-9da3-04917ad44125');\n",
              "        const dataTable =\n",
              "          await google.colab.kernel.invokeFunction('convertToInteractive',\n",
              "                                                    [key], {});\n",
              "        if (!dataTable) return;\n",
              "\n",
              "        const docLinkHtml = 'Like what you see? Visit the ' +\n",
              "          '<a target=\"_blank\" href=https://colab.research.google.com/notebooks/data_table.ipynb>data table notebook</a>'\n",
              "          + ' to learn more about interactive tables.';\n",
              "        element.innerHTML = '';\n",
              "        dataTable['output_type'] = 'display_data';\n",
              "        await google.colab.output.renderOutput(dataTable, element);\n",
              "        const docLink = document.createElement('div');\n",
              "        docLink.innerHTML = docLinkHtml;\n",
              "        element.appendChild(docLink);\n",
              "      }\n",
              "    </script>\n",
              "  </div>\n",
              "\n",
              "\n",
              "<div id=\"df-1b8c5e2b-eb7a-4bf8-9dbe-56cc72e5e883\">\n",
              "  <button class=\"colab-df-quickchart\" onclick=\"quickchart('df-1b8c5e2b-eb7a-4bf8-9dbe-56cc72e5e883')\"\n",
              "            title=\"Suggest charts.\"\n",
              "            style=\"display:none;\">\n",
              "\n",
              "<svg xmlns=\"http://www.w3.org/2000/svg\" height=\"24px\"viewBox=\"0 0 24 24\"\n",
              "     width=\"24px\">\n",
              "    <g>\n",
              "        <path d=\"M19 3H5c-1.1 0-2 .9-2 2v14c0 1.1.9 2 2 2h14c1.1 0 2-.9 2-2V5c0-1.1-.9-2-2-2zM9 17H7v-7h2v7zm4 0h-2V7h2v10zm4 0h-2v-4h2v4z\"/>\n",
              "    </g>\n",
              "</svg>\n",
              "  </button>\n",
              "\n",
              "<style>\n",
              "  .colab-df-quickchart {\n",
              "      --bg-color: #E8F0FE;\n",
              "      --fill-color: #1967D2;\n",
              "      --hover-bg-color: #E2EBFA;\n",
              "      --hover-fill-color: #174EA6;\n",
              "      --disabled-fill-color: #AAA;\n",
              "      --disabled-bg-color: #DDD;\n",
              "  }\n",
              "\n",
              "  [theme=dark] .colab-df-quickchart {\n",
              "      --bg-color: #3B4455;\n",
              "      --fill-color: #D2E3FC;\n",
              "      --hover-bg-color: #434B5C;\n",
              "      --hover-fill-color: #FFFFFF;\n",
              "      --disabled-bg-color: #3B4455;\n",
              "      --disabled-fill-color: #666;\n",
              "  }\n",
              "\n",
              "  .colab-df-quickchart {\n",
              "    background-color: var(--bg-color);\n",
              "    border: none;\n",
              "    border-radius: 50%;\n",
              "    cursor: pointer;\n",
              "    display: none;\n",
              "    fill: var(--fill-color);\n",
              "    height: 32px;\n",
              "    padding: 0;\n",
              "    width: 32px;\n",
              "  }\n",
              "\n",
              "  .colab-df-quickchart:hover {\n",
              "    background-color: var(--hover-bg-color);\n",
              "    box-shadow: 0 1px 2px rgba(60, 64, 67, 0.3), 0 1px 3px 1px rgba(60, 64, 67, 0.15);\n",
              "    fill: var(--button-hover-fill-color);\n",
              "  }\n",
              "\n",
              "  .colab-df-quickchart-complete:disabled,\n",
              "  .colab-df-quickchart-complete:disabled:hover {\n",
              "    background-color: var(--disabled-bg-color);\n",
              "    fill: var(--disabled-fill-color);\n",
              "    box-shadow: none;\n",
              "  }\n",
              "\n",
              "  .colab-df-spinner {\n",
              "    border: 2px solid var(--fill-color);\n",
              "    border-color: transparent;\n",
              "    border-bottom-color: var(--fill-color);\n",
              "    animation:\n",
              "      spin 1s steps(1) infinite;\n",
              "  }\n",
              "\n",
              "  @keyframes spin {\n",
              "    0% {\n",
              "      border-color: transparent;\n",
              "      border-bottom-color: var(--fill-color);\n",
              "      border-left-color: var(--fill-color);\n",
              "    }\n",
              "    20% {\n",
              "      border-color: transparent;\n",
              "      border-left-color: var(--fill-color);\n",
              "      border-top-color: var(--fill-color);\n",
              "    }\n",
              "    30% {\n",
              "      border-color: transparent;\n",
              "      border-left-color: var(--fill-color);\n",
              "      border-top-color: var(--fill-color);\n",
              "      border-right-color: var(--fill-color);\n",
              "    }\n",
              "    40% {\n",
              "      border-color: transparent;\n",
              "      border-right-color: var(--fill-color);\n",
              "      border-top-color: var(--fill-color);\n",
              "    }\n",
              "    60% {\n",
              "      border-color: transparent;\n",
              "      border-right-color: var(--fill-color);\n",
              "    }\n",
              "    80% {\n",
              "      border-color: transparent;\n",
              "      border-right-color: var(--fill-color);\n",
              "      border-bottom-color: var(--fill-color);\n",
              "    }\n",
              "    90% {\n",
              "      border-color: transparent;\n",
              "      border-bottom-color: var(--fill-color);\n",
              "    }\n",
              "  }\n",
              "</style>\n",
              "\n",
              "  <script>\n",
              "    async function quickchart(key) {\n",
              "      const quickchartButtonEl =\n",
              "        document.querySelector('#' + key + ' button');\n",
              "      quickchartButtonEl.disabled = true;  // To prevent multiple clicks.\n",
              "      quickchartButtonEl.classList.add('colab-df-spinner');\n",
              "      try {\n",
              "        const charts = await google.colab.kernel.invokeFunction(\n",
              "            'suggestCharts', [key], {});\n",
              "      } catch (error) {\n",
              "        console.error('Error during call to suggestCharts:', error);\n",
              "      }\n",
              "      quickchartButtonEl.classList.remove('colab-df-spinner');\n",
              "      quickchartButtonEl.classList.add('colab-df-quickchart-complete');\n",
              "    }\n",
              "    (() => {\n",
              "      let quickchartButtonEl =\n",
              "        document.querySelector('#df-1b8c5e2b-eb7a-4bf8-9dbe-56cc72e5e883 button');\n",
              "      quickchartButtonEl.style.display =\n",
              "        google.colab.kernel.accessAllowed ? 'block' : 'none';\n",
              "    })();\n",
              "  </script>\n",
              "</div>\n",
              "    </div>\n",
              "  </div>\n"
            ]
          },
          "metadata": {},
          "execution_count": 83
        }
      ]
    },
    {
      "cell_type": "code",
      "source": [
        "IR.iloc[0][1]"
      ],
      "metadata": {
        "colab": {
          "base_uri": "https://localhost:8080/"
        },
        "id": "7L3RO3owV6nr",
        "outputId": "55dc1c31-61e4-4326-b8db-77ef26f76ab9"
      },
      "execution_count": 84,
      "outputs": [
        {
          "output_type": "execute_result",
          "data": {
            "text/plain": [
              "0.0416"
            ]
          },
          "metadata": {},
          "execution_count": 84
        }
      ]
    },
    {
      "cell_type": "code",
      "source": [
        "ActualRate=[]\n",
        "for i in range(20):\n",
        "  ActualRate.append(IR.iloc[i][1])\n",
        "\n",
        "ActualRate=np.array(ActualRate)"
      ],
      "metadata": {
        "id": "8wgtzeaBW0Qw"
      },
      "execution_count": 89,
      "outputs": []
    },
    {
      "cell_type": "code",
      "source": [
        "A=[]\n",
        "for i in range(20):\n",
        "  a=[]\n",
        "  a.append(1)\n",
        "  a.append(IR.iloc[i][2])\n",
        "  a.append(IR.iloc[i][3])\n",
        "  A.append(a)\n",
        "A=np.array(A)\n",
        "A"
      ],
      "metadata": {
        "id": "NJh4VJ5JvBz4",
        "colab": {
          "base_uri": "https://localhost:8080/"
        },
        "outputId": "0385cf33-25d7-4867-9cbb-f18faaebc8ba"
      },
      "execution_count": 90,
      "outputs": [
        {
          "output_type": "execute_result",
          "data": {
            "text/plain": [
              "array([[ 1.    ,  0.3615, 85.6   ],\n",
              "       [ 1.    ,  0.282 , 91.9   ],\n",
              "       [ 1.    ,  0.301 , 89.1   ],\n",
              "       [ 1.    ,  0.3862, 90.4   ],\n",
              "       [ 1.    ,  0.3578, 86.3   ],\n",
              "       [ 1.    ,  0.4413, 74.7   ],\n",
              "       [ 1.    ,  0.6753, 79.8   ],\n",
              "       [ 1.    ,  0.6777, 74.3   ],\n",
              "       [ 1.    ,  0.6585, 84.4   ],\n",
              "       [ 1.    ,  0.6702, 84.1   ],\n",
              "       [ 1.    ,  0.3289, 86.8   ],\n",
              "       [ 1.    ,  0.2473, 93.7   ],\n",
              "       [ 1.    ,  0.2762, 92.3   ],\n",
              "       [ 1.    ,  0.3222, 94.    ],\n",
              "       [ 1.    ,  0.2792, 88.9   ],\n",
              "       [ 1.    ,  0.3609, 74.3   ],\n",
              "       [ 1.    ,  0.6187, 74.    ],\n",
              "       [ 1.    ,  0.6176, 69.8   ],\n",
              "       [ 1.    ,  0.6004, 81.6   ],\n",
              "       [ 1.    ,  0.6119, 81.    ]])"
            ]
          },
          "metadata": {},
          "execution_count": 90
        }
      ]
    },
    {
      "cell_type": "code",
      "source": [
        "p=2*np.matmul(A.transpose(),A)\n",
        "p\n",
        "\n"
      ],
      "metadata": {
        "id": "EBlBxMcRgryL",
        "colab": {
          "base_uri": "https://localhost:8080/"
        },
        "outputId": "354d2753-42a6-438f-b92c-d0dbe85686a6"
      },
      "execution_count": 91,
      "outputs": [
        {
          "output_type": "execute_result",
          "data": {
            "text/plain": [
              "array([[4.00000000e+01, 1.81496000e+01, 3.35400000e+03],\n",
              "       [1.81496000e+01, 9.25515268e+00, 1.49040692e+03],\n",
              "       [3.35400000e+03, 1.49040692e+03, 2.83313880e+05]])"
            ]
          },
          "metadata": {},
          "execution_count": 91
        }
      ]
    },
    {
      "cell_type": "code",
      "source": [
        "q=-2*np.matmul(ActualRate.transpose(),A)\n",
        "q"
      ],
      "metadata": {
        "colab": {
          "base_uri": "https://localhost:8080/"
        },
        "id": "bWUCTGCPbH7K",
        "outputId": "1cff65df-1137-4abb-93e7-3ff54399d807"
      },
      "execution_count": 92,
      "outputs": [
        {
          "output_type": "execute_result",
          "data": {
            "text/plain": [
              "array([  -1.635     ,   -0.77927632, -134.82612   ])"
            ]
          },
          "metadata": {},
          "execution_count": 92
        }
      ]
    },
    {
      "cell_type": "code",
      "source": [
        "result=solve_qp(p,q,G=None,h=None,A=None,b=None,lb=None,ub=None,solver='osqp')\n",
        "result"
      ],
      "metadata": {
        "id": "uOTdEv1gewc8",
        "colab": {
          "base_uri": "https://localhost:8080/"
        },
        "outputId": "29dd8227-f064-4977-c6c3-2b51c40dbdde"
      },
      "execution_count": 59,
      "outputs": [
        {
          "output_type": "stream",
          "name": "stderr",
          "text": [
            "/usr/local/lib/python3.10/dist-packages/qpsolvers/conversions/ensure_sparse_matrices.py:38: UserWarning: Converted P to scipy.sparse.csc.csc_matrix\n",
            "For best performance, build P as a scipy.sparse.csc_matrix rather than as a numpy.ndarray\n",
            "  warnings.warn(\n"
          ]
        },
        {
          "output_type": "execute_result",
          "data": {
            "text/plain": [
              "array([ 0.12237613,  0.00576031, -0.00100316])"
            ]
          },
          "metadata": {},
          "execution_count": 59
        }
      ]
    },
    {
      "cell_type": "code",
      "source": [
        "import seaborn as sns"
      ],
      "metadata": {
        "id": "E9GesJwqeY8-"
      },
      "execution_count": 60,
      "outputs": []
    },
    {
      "cell_type": "code",
      "source": [
        "x=np.array(result)\n",
        "forecast=np.matmul(A,x)\n",
        "years = IR.Year.to_list()\n",
        "sns.lineplot(x = years, y= ActualRate, palette='pastel', marker='o',color = 'green', label = 'Actualrate')\n",
        "sns.lineplot(x = years, y = forecast, palette = 'pastel', marker='s', color = 'red', label = 'Predicted')\n",
        "plt.xticks(years, rotation = 90)\n",
        "plt.show()"
      ],
      "metadata": {
        "colab": {
          "base_uri": "https://localhost:8080/",
          "height": 523
        },
        "id": "wyJbfmBud0xq",
        "outputId": "31a0f037-6714-41f7-f9b5-f26a78907a98"
      },
      "execution_count": 95,
      "outputs": [
        {
          "output_type": "stream",
          "name": "stderr",
          "text": [
            "<ipython-input-95-eab664350aa6>:4: UserWarning: Ignoring `palette` because no `hue` variable has been assigned.\n",
            "  sns.lineplot(x = years, y= ActualRate, palette='pastel', marker='o',color = 'green', label = 'Actualrate')\n",
            "<ipython-input-95-eab664350aa6>:5: UserWarning: Ignoring `palette` because no `hue` variable has been assigned.\n",
            "  sns.lineplot(x = years, y = forecast, palette = 'pastel', marker='s', color = 'red', label = 'Predicted')\n"
          ]
        },
        {
          "output_type": "display_data",
          "data": {
            "text/plain": [
              "<Figure size 640x480 with 1 Axes>"
            ],
            "image/png": "[encoded data removed]"
          },
          "metadata": {}
        }
      ]
    },
    {
      "cell_type": "code",
      "source": [
        "#with lower bound of b0\n",
        "l=np.array([0,-np.Inf,-np.Inf])\n",
        "result_l=solve_qp(p,q,G=None,h=None,A=None,b=None,lb=l,ub=None,solver='osqp')\n",
        "result_l"
      ],
      "metadata": {
        "colab": {
          "base_uri": "https://localhost:8080/"
        },
        "id": "Ay24hPjHd0eY",
        "outputId": "de4caf9c-2729-4018-83dc-5ee8fc34445f"
      },
      "execution_count": 62,
      "outputs": [
        {
          "output_type": "stream",
          "name": "stderr",
          "text": [
            "/usr/local/lib/python3.10/dist-packages/qpsolvers/conversions/ensure_sparse_matrices.py:38: UserWarning: Converted P to scipy.sparse.csc.csc_matrix\n",
            "For best performance, build P as a scipy.sparse.csc_matrix rather than as a numpy.ndarray\n",
            "  warnings.warn(\n",
            "/usr/local/lib/python3.10/dist-packages/osqp/utils.py:122: UserWarning: Converting sparse A to a CSC (compressed sparse column) matrix. (It may take a while...)\n",
            "  warn(\"Converting sparse A to a CSC \" +\n"
          ]
        },
        {
          "output_type": "execute_result",
          "data": {
            "text/plain": [
              "array([ 0.09128332,  0.01686998, -0.00069351])"
            ]
          },
          "metadata": {},
          "execution_count": 62
        }
      ]
    },
    {
      "cell_type": "code",
      "source": [
        "x1=np.array(result_l)\n",
        "forecast=np.matmul(A,x1)\n",
        "years = IR.Year.to_list()\n",
        "sns.lineplot(x = years, y= ActualRate, palette='pastel', marker='o',color = 'green', label = 'Actualrate')\n",
        "sns.lineplot(x = years, y = forecast, palette = 'pastel', marker='s', color = 'red', label = 'Predicted')\n",
        "plt.xticks(years, rotation = 90)\n",
        "plt.show()"
      ],
      "metadata": {
        "colab": {
          "base_uri": "https://localhost:8080/",
          "height": 523
        },
        "id": "-l3rpvcWnmf2",
        "outputId": "cb0ec939-1d06-48de-a689-0587dc2eda28"
      },
      "execution_count": 96,
      "outputs": [
        {
          "output_type": "stream",
          "name": "stderr",
          "text": [
            "<ipython-input-96-d60bb4fefb8e>:4: UserWarning: Ignoring `palette` because no `hue` variable has been assigned.\n",
            "  sns.lineplot(x = years, y= ActualRate, palette='pastel', marker='o',color = 'green', label = 'Actualrate')\n",
            "<ipython-input-96-d60bb4fefb8e>:5: UserWarning: Ignoring `palette` because no `hue` variable has been assigned.\n",
            "  sns.lineplot(x = years, y = forecast, palette = 'pastel', marker='s', color = 'red', label = 'Predicted')\n"
          ]
        },
        {
          "output_type": "display_data",
          "data": {
            "text/plain": [
              "<Figure size 640x480 with 1 Axes>"
            ],
            "image/png": "[encoded data removed]"
          },
          "metadata": {}
        }
      ]
    },
    {
      "cell_type": "code",
      "source": [
        "forecast"
      ],
      "metadata": {
        "colab": {
          "base_uri": "https://localhost:8080/"
        },
        "id": "6fvgVLMYxOLl",
        "outputId": "da6d2746-f839-4b1c-d39a-7955a8fc94f7"
      },
      "execution_count": 97,
      "outputs": [
        {
          "output_type": "execute_result",
          "data": {
            "text/plain": [
              "array([0.0380174 , 0.03230713, 0.03456948, 0.03510524, 0.03746952,\n",
              "       0.04692288, 0.04733355, 0.05118835, 0.04385999, 0.04426543,\n",
              "       0.03663523, 0.03047342, 0.03193188, 0.03152893, 0.03434042,\n",
              "       0.04584394, 0.05040107, 0.05329525, 0.04482168, 0.04543179])"
            ]
          },
          "metadata": {},
          "execution_count": 97
        }
      ]
    },
    {
      "cell_type": "code",
      "source": [
        "ActualRate[1]"
      ],
      "metadata": {
        "colab": {
          "base_uri": "https://localhost:8080/"
        },
        "id": "CPytD1XqyLfH",
        "outputId": "1673ebfd-1706-4216-da1c-8251b4dead16"
      },
      "execution_count": 98,
      "outputs": [
        {
          "output_type": "execute_result",
          "data": {
            "text/plain": [
              "0.0312"
            ]
          },
          "metadata": {},
          "execution_count": 98
        }
      ]
    },
    {
      "cell_type": "code",
      "source": [
        "model_2 =ConcreteModel()\n",
        "model_2.constraints= ConstraintList()\n",
        "model_2.x= Var(np.arange(3),domain=Reals)\n",
        "model_2.u=Var(np.arange(3),domain=Reals)\n",
        "\n",
        "model_2.objective = Objective(expr=sum(ActualRate[i]-(1*model_2.u[0]+IR.iloc[i][2]*model_2.u[1]+IR.iloc[i][3]*model_2.u[2]) for i in range(20)), sense=minimize)\n",
        "for i in range(20):\n",
        "  model_2.constraints.add(expr=ActualRate[i]-(1*model_2.u[0]+IR.iloc[i][2]*model_2.u[1]+IR.iloc[i][3]*model_2.u[2])>=0)\n",
        "for i in range(3):\n",
        "\n",
        "\n",
        "    model_2.constraints.add(expr = model_2.u[i] >= model_2.x[i])\n",
        "    model_2.constraints.add(expr = model_2.u[i] >= -model_2.x[i])\n",
        "    model_2.constraints.add(expr = model_2.u[i]>=0)\n",
        "\n"
      ],
      "metadata": {
        "id": "9LWbSvvVoVEX"
      },
      "execution_count": 99,
      "outputs": []
    },
    {
      "cell_type": "code",
      "source": [
        "model_2.pprint()"
      ],
      "metadata": {
        "colab": {
          "base_uri": "https://localhost:8080/"
        },
        "id": "toblW4eaxYof",
        "outputId": "5676abd9-a959-4dcc-f38e-d42562526231"
      },
      "execution_count": 100,
      "outputs": [
        {
          "output_type": "stream",
          "name": "stdout",
          "text": [
            "3 Set Declarations\n",
            "    constraints_index : Size=1, Index=None, Ordered=Insertion\n",
            "        Key  : Dimen : Domain : Size : Members\n",
            "        None :     1 :    Any :   29 : {1, 2, 3, 4, 5, 6, 7, 8, 9, 10, 11, 12, 13, 14, 15, 16, 17, 18, 19, 20, 21, 22, 23, 24, 25, 26, 27, 28, 29}\n",
            "    u_index : Size=1, Index=None, Ordered=False\n",
            "        Key  : Dimen : Domain : Size : Members\n",
            "        None :     1 :    Any :    3 : {0, 1, 2}\n",
            "    x_index : Size=1, Index=None, Ordered=False\n",
            "        Key  : Dimen : Domain : Size : Members\n",
            "        None :     1 :    Any :    3 : {0, 1, 2}\n",
            "\n",
            "2 Var Declarations\n",
            "    u : Size=3, Index=u_index\n",
            "        Key : Lower : Value : Upper : Fixed : Stale : Domain\n",
            "          0 :  None :  None :  None : False :  True :  Reals\n",
            "          1 :  None :  None :  None : False :  True :  Reals\n",
            "          2 :  None :  None :  None : False :  True :  Reals\n",
            "    x : Size=3, Index=x_index\n",
            "        Key : Lower : Value : Upper : Fixed : Stale : Domain\n",
            "          0 :  None :  None :  None : False :  True :  Reals\n",
            "          1 :  None :  None :  None : False :  True :  Reals\n",
            "          2 :  None :  None :  None : False :  True :  Reals\n",
            "\n",
            "1 Objective Declarations\n",
            "    objective : Size=1, Index=None, Active=True\n",
            "        Key  : Active : Sense    : Expression\n",
            "        None :   True : minimize : 0.0416 - (u[0] + 0.3615*u[1] + 85.6*u[2]) + 0.0312 - (u[0] + 0.282*u[1] + 91.9*u[2]) + 0.0354 - (u[0] + 0.301*u[1] + 89.1*u[2]) + 0.0331 - (u[0] + 0.3862*u[1] + 90.4*u[2]) + 0.0399 - (u[0] + 0.3578*u[1] + 86.3*u[2]) + 0.0501 - (u[0] + 0.4413*u[1] + 74.7*u[2]) + 0.0421 - (u[0] + 0.6753*u[1] + 79.8*u[2]) + 0.0507 - (u[0] + 0.6777*u[1] + 74.3*u[2]) + 0.0431 - (u[0] + 0.6585*u[1] + 84.4*u[2]) + 0.0437 - (u[0] + 0.6702*u[1] + 84.1*u[2]) + 0.0398 - (u[0] + 0.3289*u[1] + 86.8*u[2]) + 0.0274 - (u[0] + 0.2473*u[1] + 93.7*u[2]) + 0.0298 - (u[0] + 0.2762*u[1] + 92.3*u[2]) + 0.0261 - (u[0] + 0.3222*u[1] + 94.0*u[2]) + 0.0358 - (u[0] + 0.2792*u[1] + 88.9*u[2]) + 0.0504 - (u[0] + 0.3609*u[1] + 74.3*u[2]) + 0.0478 - (u[0] + 0.6187*u[1] + 74.0*u[2]) + 0.0549 - (u[0] + 0.6176*u[1] + 69.8*u[2]) + 0.0468 - (u[0] + 0.6004*u[1] + 81.6*u[2]) + 0.0478 - (u[0] + 0.6119*u[1] + 81.0*u[2])\n",
            "\n",
            "1 Constraint Declarations\n",
            "    constraints : Size=29, Index=constraints_index, Active=True\n",
            "        Key : Lower : Body                                      : Upper : Active\n",
            "          1 :   0.0 : 0.0416 - (u[0] + 0.3615*u[1] + 85.6*u[2]) :  +Inf :   True\n",
            "          2 :   0.0 :  0.0312 - (u[0] + 0.282*u[1] + 91.9*u[2]) :  +Inf :   True\n",
            "          3 :   0.0 :  0.0354 - (u[0] + 0.301*u[1] + 89.1*u[2]) :  +Inf :   True\n",
            "          4 :   0.0 : 0.0331 - (u[0] + 0.3862*u[1] + 90.4*u[2]) :  +Inf :   True\n",
            "          5 :   0.0 : 0.0399 - (u[0] + 0.3578*u[1] + 86.3*u[2]) :  +Inf :   True\n",
            "          6 :   0.0 : 0.0501 - (u[0] + 0.4413*u[1] + 74.7*u[2]) :  +Inf :   True\n",
            "          7 :   0.0 : 0.0421 - (u[0] + 0.6753*u[1] + 79.8*u[2]) :  +Inf :   True\n",
            "          8 :   0.0 : 0.0507 - (u[0] + 0.6777*u[1] + 74.3*u[2]) :  +Inf :   True\n",
            "          9 :   0.0 : 0.0431 - (u[0] + 0.6585*u[1] + 84.4*u[2]) :  +Inf :   True\n",
            "         10 :   0.0 : 0.0437 - (u[0] + 0.6702*u[1] + 84.1*u[2]) :  +Inf :   True\n",
            "         11 :   0.0 : 0.0398 - (u[0] + 0.3289*u[1] + 86.8*u[2]) :  +Inf :   True\n",
            "         12 :   0.0 : 0.0274 - (u[0] + 0.2473*u[1] + 93.7*u[2]) :  +Inf :   True\n",
            "         13 :   0.0 : 0.0298 - (u[0] + 0.2762*u[1] + 92.3*u[2]) :  +Inf :   True\n",
            "         14 :   0.0 : 0.0261 - (u[0] + 0.3222*u[1] + 94.0*u[2]) :  +Inf :   True\n",
            "         15 :   0.0 : 0.0358 - (u[0] + 0.2792*u[1] + 88.9*u[2]) :  +Inf :   True\n",
            "         16 :   0.0 : 0.0504 - (u[0] + 0.3609*u[1] + 74.3*u[2]) :  +Inf :   True\n",
            "         17 :   0.0 : 0.0478 - (u[0] + 0.6187*u[1] + 74.0*u[2]) :  +Inf :   True\n",
            "         18 :   0.0 : 0.0549 - (u[0] + 0.6176*u[1] + 69.8*u[2]) :  +Inf :   True\n",
            "         19 :   0.0 : 0.0468 - (u[0] + 0.6004*u[1] + 81.6*u[2]) :  +Inf :   True\n",
            "         20 :   0.0 : 0.0478 - (u[0] + 0.6119*u[1] + 81.0*u[2]) :  +Inf :   True\n",
            "         21 :  -Inf :                               x[0] - u[0] :   0.0 :   True\n",
            "         22 :  -Inf :                             - x[0] - u[0] :   0.0 :   True\n",
            "         23 :   0.0 :                                      u[0] :  +Inf :   True\n",
            "         24 :  -Inf :                               x[1] - u[1] :   0.0 :   True\n",
            "         25 :  -Inf :                             - x[1] - u[1] :   0.0 :   True\n",
            "         26 :   0.0 :                                      u[1] :  +Inf :   True\n",
            "         27 :  -Inf :                               x[2] - u[2] :   0.0 :   True\n",
            "         28 :  -Inf :                             - x[2] - u[2] :   0.0 :   True\n",
            "         29 :   0.0 :                                      u[2] :  +Inf :   True\n",
            "\n",
            "7 Declarations: constraints_index constraints x_index x u_index u objective\n"
          ]
        }
      ]
    },
    {
      "cell_type": "code",
      "source": [
        "optOP = SolverFactory('cbc')\n",
        "result_1 = optOP.solve(model_2)\n",
        "print(result_1)"
      ],
      "metadata": {
        "colab": {
          "base_uri": "https://localhost:8080/"
        },
        "id": "1Wm3sfMGy2dP",
        "outputId": "4faa9d01-16c2-44d9-ade3-b431e31c1c13"
      },
      "execution_count": 101,
      "outputs": [
        {
          "output_type": "stream",
          "name": "stdout",
          "text": [
            "\n",
            "Problem: \n",
            "- Name: unknown\n",
            "  Lower bound: 0.1762907108\n",
            "  Upper bound: 0.1762907108\n",
            "  Number of objectives: 1\n",
            "  Number of constraints: 29\n",
            "  Number of variables: 7\n",
            "  Number of nonzeros: 3\n",
            "  Sense: minimize\n",
            "Solver: \n",
            "- Status: ok\n",
            "  User time: -1.0\n",
            "  System time: 0.0\n",
            "  Wallclock time: 0.0\n",
            "  Termination condition: optimal\n",
            "  Termination message: Model was solved to optimality (subject to tolerances), and an optimal solution is available.\n",
            "  Statistics: \n",
            "    Branch and bound: \n",
            "      Number of bounded subproblems: None\n",
            "      Number of created subproblems: None\n",
            "    Black box: \n",
            "      Number of iterations: 4\n",
            "  Error rc: 0\n",
            "  Time: 0.017780542373657227\n",
            "Solution: \n",
            "- number of solutions: 0\n",
            "  number of solutions displayed: 0\n",
            "\n"
          ]
        }
      ]
    },
    {
      "cell_type": "code",
      "source": [],
      "metadata": {
        "id": "03oozpxY4Be7"
      },
      "execution_count": 68,
      "outputs": []
    },
    {
      "cell_type": "code",
      "source": [
        "for i in range(3):\n",
        "  print('x',[i],model_2.x[i]())\n",
        "  end=''\n",
        "  print('u',[i],model_2.u[i]())"
      ],
      "metadata": {
        "colab": {
          "base_uri": "https://localhost:8080/"
        },
        "id": "82P5EZGMyY3q",
        "outputId": "8eca2e97-6864-4a53-ee32-86019e5d67bc"
      },
      "execution_count": 102,
      "outputs": [
        {
          "output_type": "stream",
          "name": "stdout",
          "text": [
            "x [0] 0.01150017\n",
            "u [0] 0.01150017\n",
            "x [1] 0.045312943\n",
            "u [1] 0.045312943\n",
            "x [2] 0.0\n",
            "u [2] 0.0\n"
          ]
        }
      ]
    },
    {
      "cell_type": "code",
      "source": [
        "print(model_2.objective())\n"
      ],
      "metadata": {
        "colab": {
          "base_uri": "https://localhost:8080/"
        },
        "id": "GmYswAmp4ayq",
        "outputId": "53b1c25c-2ae0-49f7-f17b-7a0600a18075"
      },
      "execution_count": 103,
      "outputs": [
        {
          "output_type": "stream",
          "name": "stdout",
          "text": [
            "0.17629070486360002\n"
          ]
        }
      ]
    },
    {
      "cell_type": "code",
      "source": [],
      "metadata": {
        "id": "gu5OgkT4sxue"
      },
      "execution_count": 71,
      "outputs": []
    },
    {
      "cell_type": "markdown",
      "source": [
        "**Answer - 3**"
      ],
      "metadata": {
        "id": "x1ZmUcCRfjxk"
      }
    },
    {
      "cell_type": "code",
      "source": [
        "#Op-1\n",
        "model_op1 = ConcreteModel()\n",
        "n = 20\n",
        "model_op1.z = Var(np.arange(n))\n",
        "model_op1.b= Var(np.arange(3))\n",
        "model_op1.obj = Objective(expr = sum(model_op1.z[i] for i in range(n)), sense = minimize)\n",
        "model_op1.constraints = ConstraintList()\n",
        "for i in range(n):\n",
        "  model_op1.constraints.add( expr = ActualRate[i] - model_op1.b[0] - model_op1.b[1]*IR.iloc[i][2] - model_op1.b[2]*IR.iloc[i][3] <= model_op1.z[i])\n",
        "  model_op1.constraints.add( expr = -ActualRate[i] + model_op1.b[0] + model_op1.b[1]*IR.iloc[i][2] + model_op1.b[2]*IR.iloc[i][3] <= model_op1.z[i])\n",
        "  model_op1.constraints.add(expr = model_op1.z[i]>=0)\n",
        "model_op1.constraints.add(expr = model_op1.b[0] >= 0)\n",
        "model_op1.pprint()"
      ],
      "metadata": {
        "id": "zLJm5x1jxiwF",
        "colab": {
          "base_uri": "https://localhost:8080/"
        },
        "outputId": "5db5b9c4-9cca-4dcb-e8c1-1420d2225740"
      },
      "execution_count": 105,
      "outputs": [
        {
          "output_type": "stream",
          "name": "stdout",
          "text": [
            "3 Set Declarations\n",
            "    b_index : Size=1, Index=None, Ordered=False\n",
            "        Key  : Dimen : Domain : Size : Members\n",
            "        None :     1 :    Any :    3 : {0, 1, 2}\n",
            "    constraints_index : Size=1, Index=None, Ordered=Insertion\n",
            "        Key  : Dimen : Domain : Size : Members\n",
            "        None :     1 :    Any :   61 : {1, 2, 3, 4, 5, 6, 7, 8, 9, 10, 11, 12, 13, 14, 15, 16, 17, 18, 19, 20, 21, 22, 23, 24, 25, 26, 27, 28, 29, 30, 31, 32, 33, 34, 35, 36, 37, 38, 39, 40, 41, 42, 43, 44, 45, 46, 47, 48, 49, 50, 51, 52, 53, 54, 55, 56, 57, 58, 59, 60, 61}\n",
            "    z_index : Size=1, Index=None, Ordered=False\n",
            "        Key  : Dimen : Domain : Size : Members\n",
            "        None :     1 :    Any :   20 : {0, 1, 2, 3, 4, 5, 6, 7, 8, 9, 10, 11, 12, 13, 14, 15, 16, 17, 18, 19}\n",
            "\n",
            "2 Var Declarations\n",
            "    b : Size=3, Index=b_index\n",
            "        Key : Lower : Value : Upper : Fixed : Stale : Domain\n",
            "          0 :  None :  None :  None : False :  True :  Reals\n",
            "          1 :  None :  None :  None : False :  True :  Reals\n",
            "          2 :  None :  None :  None : False :  True :  Reals\n",
            "    z : Size=20, Index=z_index\n",
            "        Key : Lower : Value : Upper : Fixed : Stale : Domain\n",
            "          0 :  None :  None :  None : False :  True :  Reals\n",
            "          1 :  None :  None :  None : False :  True :  Reals\n",
            "          2 :  None :  None :  None : False :  True :  Reals\n",
            "          3 :  None :  None :  None : False :  True :  Reals\n",
            "          4 :  None :  None :  None : False :  True :  Reals\n",
            "          5 :  None :  None :  None : False :  True :  Reals\n",
            "          6 :  None :  None :  None : False :  True :  Reals\n",
            "          7 :  None :  None :  None : False :  True :  Reals\n",
            "          8 :  None :  None :  None : False :  True :  Reals\n",
            "          9 :  None :  None :  None : False :  True :  Reals\n",
            "         10 :  None :  None :  None : False :  True :  Reals\n",
            "         11 :  None :  None :  None : False :  True :  Reals\n",
            "         12 :  None :  None :  None : False :  True :  Reals\n",
            "         13 :  None :  None :  None : False :  True :  Reals\n",
            "         14 :  None :  None :  None : False :  True :  Reals\n",
            "         15 :  None :  None :  None : False :  True :  Reals\n",
            "         16 :  None :  None :  None : False :  True :  Reals\n",
            "         17 :  None :  None :  None : False :  True :  Reals\n",
            "         18 :  None :  None :  None : False :  True :  Reals\n",
            "         19 :  None :  None :  None : False :  True :  Reals\n",
            "\n",
            "1 Objective Declarations\n",
            "    obj : Size=1, Index=None, Active=True\n",
            "        Key  : Active : Sense    : Expression\n",
            "        None :   True : minimize : z[0] + z[1] + z[2] + z[3] + z[4] + z[5] + z[6] + z[7] + z[8] + z[9] + z[10] + z[11] + z[12] + z[13] + z[14] + z[15] + z[16] + z[17] + z[18] + z[19]\n",
            "\n",
            "1 Constraint Declarations\n",
            "    constraints : Size=61, Index=constraints_index, Active=True\n",
            "        Key : Lower : Body                                             : Upper : Active\n",
            "          1 :  -Inf :   0.0416 - b[0] - 0.3615*b[1] - 85.6*b[2] - z[0] :   0.0 :   True\n",
            "          2 :  -Inf :  -0.0416 + b[0] + 0.3615*b[1] + 85.6*b[2] - z[0] :   0.0 :   True\n",
            "          3 :   0.0 :                                             z[0] :  +Inf :   True\n",
            "          4 :  -Inf :    0.0312 - b[0] - 0.282*b[1] - 91.9*b[2] - z[1] :   0.0 :   True\n",
            "          5 :  -Inf :   -0.0312 + b[0] + 0.282*b[1] + 91.9*b[2] - z[1] :   0.0 :   True\n",
            "          6 :   0.0 :                                             z[1] :  +Inf :   True\n",
            "          7 :  -Inf :    0.0354 - b[0] - 0.301*b[1] - 89.1*b[2] - z[2] :   0.0 :   True\n",
            "          8 :  -Inf :   -0.0354 + b[0] + 0.301*b[1] + 89.1*b[2] - z[2] :   0.0 :   True\n",
            "          9 :   0.0 :                                             z[2] :  +Inf :   True\n",
            "         10 :  -Inf :   0.0331 - b[0] - 0.3862*b[1] - 90.4*b[2] - z[3] :   0.0 :   True\n",
            "         11 :  -Inf :  -0.0331 + b[0] + 0.3862*b[1] + 90.4*b[2] - z[3] :   0.0 :   True\n",
            "         12 :   0.0 :                                             z[3] :  +Inf :   True\n",
            "         13 :  -Inf :   0.0399 - b[0] - 0.3578*b[1] - 86.3*b[2] - z[4] :   0.0 :   True\n",
            "         14 :  -Inf :  -0.0399 + b[0] + 0.3578*b[1] + 86.3*b[2] - z[4] :   0.0 :   True\n",
            "         15 :   0.0 :                                             z[4] :  +Inf :   True\n",
            "         16 :  -Inf :   0.0501 - b[0] - 0.4413*b[1] - 74.7*b[2] - z[5] :   0.0 :   True\n",
            "         17 :  -Inf :  -0.0501 + b[0] + 0.4413*b[1] + 74.7*b[2] - z[5] :   0.0 :   True\n",
            "         18 :   0.0 :                                             z[5] :  +Inf :   True\n",
            "         19 :  -Inf :   0.0421 - b[0] - 0.6753*b[1] - 79.8*b[2] - z[6] :   0.0 :   True\n",
            "         20 :  -Inf :  -0.0421 + b[0] + 0.6753*b[1] + 79.8*b[2] - z[6] :   0.0 :   True\n",
            "         21 :   0.0 :                                             z[6] :  +Inf :   True\n",
            "         22 :  -Inf :   0.0507 - b[0] - 0.6777*b[1] - 74.3*b[2] - z[7] :   0.0 :   True\n",
            "         23 :  -Inf :  -0.0507 + b[0] + 0.6777*b[1] + 74.3*b[2] - z[7] :   0.0 :   True\n",
            "         24 :   0.0 :                                             z[7] :  +Inf :   True\n",
            "         25 :  -Inf :   0.0431 - b[0] - 0.6585*b[1] - 84.4*b[2] - z[8] :   0.0 :   True\n",
            "         26 :  -Inf :  -0.0431 + b[0] + 0.6585*b[1] + 84.4*b[2] - z[8] :   0.0 :   True\n",
            "         27 :   0.0 :                                             z[8] :  +Inf :   True\n",
            "         28 :  -Inf :   0.0437 - b[0] - 0.6702*b[1] - 84.1*b[2] - z[9] :   0.0 :   True\n",
            "         29 :  -Inf :  -0.0437 + b[0] + 0.6702*b[1] + 84.1*b[2] - z[9] :   0.0 :   True\n",
            "         30 :   0.0 :                                             z[9] :  +Inf :   True\n",
            "         31 :  -Inf :  0.0398 - b[0] - 0.3289*b[1] - 86.8*b[2] - z[10] :   0.0 :   True\n",
            "         32 :  -Inf : -0.0398 + b[0] + 0.3289*b[1] + 86.8*b[2] - z[10] :   0.0 :   True\n",
            "         33 :   0.0 :                                            z[10] :  +Inf :   True\n",
            "         34 :  -Inf :  0.0274 - b[0] - 0.2473*b[1] - 93.7*b[2] - z[11] :   0.0 :   True\n",
            "         35 :  -Inf : -0.0274 + b[0] + 0.2473*b[1] + 93.7*b[2] - z[11] :   0.0 :   True\n",
            "         36 :   0.0 :                                            z[11] :  +Inf :   True\n",
            "         37 :  -Inf :  0.0298 - b[0] - 0.2762*b[1] - 92.3*b[2] - z[12] :   0.0 :   True\n",
            "         38 :  -Inf : -0.0298 + b[0] + 0.2762*b[1] + 92.3*b[2] - z[12] :   0.0 :   True\n",
            "         39 :   0.0 :                                            z[12] :  +Inf :   True\n",
            "         40 :  -Inf :  0.0261 - b[0] - 0.3222*b[1] - 94.0*b[2] - z[13] :   0.0 :   True\n",
            "         41 :  -Inf : -0.0261 + b[0] + 0.3222*b[1] + 94.0*b[2] - z[13] :   0.0 :   True\n",
            "         42 :   0.0 :                                            z[13] :  +Inf :   True\n",
            "         43 :  -Inf :  0.0358 - b[0] - 0.2792*b[1] - 88.9*b[2] - z[14] :   0.0 :   True\n",
            "         44 :  -Inf : -0.0358 + b[0] + 0.2792*b[1] + 88.9*b[2] - z[14] :   0.0 :   True\n",
            "         45 :   0.0 :                                            z[14] :  +Inf :   True\n",
            "         46 :  -Inf :  0.0504 - b[0] - 0.3609*b[1] - 74.3*b[2] - z[15] :   0.0 :   True\n",
            "         47 :  -Inf : -0.0504 + b[0] + 0.3609*b[1] + 74.3*b[2] - z[15] :   0.0 :   True\n",
            "         48 :   0.0 :                                            z[15] :  +Inf :   True\n",
            "         49 :  -Inf :  0.0478 - b[0] - 0.6187*b[1] - 74.0*b[2] - z[16] :   0.0 :   True\n",
            "         50 :  -Inf : -0.0478 + b[0] + 0.6187*b[1] + 74.0*b[2] - z[16] :   0.0 :   True\n",
            "         51 :   0.0 :                                            z[16] :  +Inf :   True\n",
            "         52 :  -Inf :  0.0549 - b[0] - 0.6176*b[1] - 69.8*b[2] - z[17] :   0.0 :   True\n",
            "         53 :  -Inf : -0.0549 + b[0] + 0.6176*b[1] + 69.8*b[2] - z[17] :   0.0 :   True\n",
            "         54 :   0.0 :                                            z[17] :  +Inf :   True\n",
            "         55 :  -Inf :  0.0468 - b[0] - 0.6004*b[1] - 81.6*b[2] - z[18] :   0.0 :   True\n",
            "         56 :  -Inf : -0.0468 + b[0] + 0.6004*b[1] + 81.6*b[2] - z[18] :   0.0 :   True\n",
            "         57 :   0.0 :                                            z[18] :  +Inf :   True\n",
            "         58 :  -Inf :  0.0478 - b[0] - 0.6119*b[1] - 81.0*b[2] - z[19] :   0.0 :   True\n",
            "         59 :  -Inf : -0.0478 + b[0] + 0.6119*b[1] + 81.0*b[2] - z[19] :   0.0 :   True\n",
            "         60 :   0.0 :                                            z[19] :  +Inf :   True\n",
            "         61 :   0.0 :                                             b[0] :  +Inf :   True\n",
            "\n",
            "7 Declarations: z_index z b_index b obj constraints_index constraints\n"
          ]
        }
      ]
    },
    {
      "cell_type": "code",
      "source": [],
      "metadata": {
        "id": "iRys2jNLeiXC"
      },
      "execution_count": 73,
      "outputs": []
    },
    {
      "cell_type": "code",
      "source": [
        "#OP2:\n",
        "model_op2 = ConcreteModel()\n",
        "n = 20\n",
        "model_op2.x = Var(np.arange(n))\n",
        "model_op2.y= Var(np.arange(n))\n",
        "model_op2.b = Var(np.arange(3))\n",
        "model_op2.obj = Objective(expr = sum(model_op2.x[i] + model_op2.y[i] for i in range(n)), sense = minimize)\n",
        "model_op2.constraints = ConstraintList()\n",
        "for i in range(n):\n",
        "  model_op2.constraints.add( expr = ActualRate[i] - model_op2.b[0] - model_op2.b[1]*IR.iloc[i][2] - model_op2.b[2]*IR.iloc[i][3] == model_op2.x[i]- model_op2.y[i])\n",
        "  model_op2.constraints.add(expr = model_op2.x[i]>=0)\n",
        "  model_op2.constraints.add(expr = model_op2.y[i]>=0)\n",
        "model_op2.constraints.add(expr = model_op2.b[0] >= 0)\n",
        "model_op2.pprint()"
      ],
      "metadata": {
        "colab": {
          "base_uri": "https://localhost:8080/"
        },
        "id": "pv_VMT2KV64x",
        "outputId": "7edf2edd-05a2-414f-dff0-b83175d61d0a"
      },
      "execution_count": 106,
      "outputs": [
        {
          "output_type": "stream",
          "name": "stdout",
          "text": [
            "4 Set Declarations\n",
            "    b_index : Size=1, Index=None, Ordered=False\n",
            "        Key  : Dimen : Domain : Size : Members\n",
            "        None :     1 :    Any :    3 : {0, 1, 2}\n",
            "    constraints_index : Size=1, Index=None, Ordered=Insertion\n",
            "        Key  : Dimen : Domain : Size : Members\n",
            "        None :     1 :    Any :   61 : {1, 2, 3, 4, 5, 6, 7, 8, 9, 10, 11, 12, 13, 14, 15, 16, 17, 18, 19, 20, 21, 22, 23, 24, 25, 26, 27, 28, 29, 30, 31, 32, 33, 34, 35, 36, 37, 38, 39, 40, 41, 42, 43, 44, 45, 46, 47, 48, 49, 50, 51, 52, 53, 54, 55, 56, 57, 58, 59, 60, 61}\n",
            "    x_index : Size=1, Index=None, Ordered=False\n",
            "        Key  : Dimen : Domain : Size : Members\n",
            "        None :     1 :    Any :   20 : {0, 1, 2, 3, 4, 5, 6, 7, 8, 9, 10, 11, 12, 13, 14, 15, 16, 17, 18, 19}\n",
            "    y_index : Size=1, Index=None, Ordered=False\n",
            "        Key  : Dimen : Domain : Size : Members\n",
            "        None :     1 :    Any :   20 : {0, 1, 2, 3, 4, 5, 6, 7, 8, 9, 10, 11, 12, 13, 14, 15, 16, 17, 18, 19}\n",
            "\n",
            "3 Var Declarations\n",
            "    b : Size=3, Index=b_index\n",
            "        Key : Lower : Value : Upper : Fixed : Stale : Domain\n",
            "          0 :  None :  None :  None : False :  True :  Reals\n",
            "          1 :  None :  None :  None : False :  True :  Reals\n",
            "          2 :  None :  None :  None : False :  True :  Reals\n",
            "    x : Size=20, Index=x_index\n",
            "        Key : Lower : Value : Upper : Fixed : Stale : Domain\n",
            "          0 :  None :  None :  None : False :  True :  Reals\n",
            "          1 :  None :  None :  None : False :  True :  Reals\n",
            "          2 :  None :  None :  None : False :  True :  Reals\n",
            "          3 :  None :  None :  None : False :  True :  Reals\n",
            "          4 :  None :  None :  None : False :  True :  Reals\n",
            "          5 :  None :  None :  None : False :  True :  Reals\n",
            "          6 :  None :  None :  None : False :  True :  Reals\n",
            "          7 :  None :  None :  None : False :  True :  Reals\n",
            "          8 :  None :  None :  None : False :  True :  Reals\n",
            "          9 :  None :  None :  None : False :  True :  Reals\n",
            "         10 :  None :  None :  None : False :  True :  Reals\n",
            "         11 :  None :  None :  None : False :  True :  Reals\n",
            "         12 :  None :  None :  None : False :  True :  Reals\n",
            "         13 :  None :  None :  None : False :  True :  Reals\n",
            "         14 :  None :  None :  None : False :  True :  Reals\n",
            "         15 :  None :  None :  None : False :  True :  Reals\n",
            "         16 :  None :  None :  None : False :  True :  Reals\n",
            "         17 :  None :  None :  None : False :  True :  Reals\n",
            "         18 :  None :  None :  None : False :  True :  Reals\n",
            "         19 :  None :  None :  None : False :  True :  Reals\n",
            "    y : Size=20, Index=y_index\n",
            "        Key : Lower : Value : Upper : Fixed : Stale : Domain\n",
            "          0 :  None :  None :  None : False :  True :  Reals\n",
            "          1 :  None :  None :  None : False :  True :  Reals\n",
            "          2 :  None :  None :  None : False :  True :  Reals\n",
            "          3 :  None :  None :  None : False :  True :  Reals\n",
            "          4 :  None :  None :  None : False :  True :  Reals\n",
            "          5 :  None :  None :  None : False :  True :  Reals\n",
            "          6 :  None :  None :  None : False :  True :  Reals\n",
            "          7 :  None :  None :  None : False :  True :  Reals\n",
            "          8 :  None :  None :  None : False :  True :  Reals\n",
            "          9 :  None :  None :  None : False :  True :  Reals\n",
            "         10 :  None :  None :  None : False :  True :  Reals\n",
            "         11 :  None :  None :  None : False :  True :  Reals\n",
            "         12 :  None :  None :  None : False :  True :  Reals\n",
            "         13 :  None :  None :  None : False :  True :  Reals\n",
            "         14 :  None :  None :  None : False :  True :  Reals\n",
            "         15 :  None :  None :  None : False :  True :  Reals\n",
            "         16 :  None :  None :  None : False :  True :  Reals\n",
            "         17 :  None :  None :  None : False :  True :  Reals\n",
            "         18 :  None :  None :  None : False :  True :  Reals\n",
            "         19 :  None :  None :  None : False :  True :  Reals\n",
            "\n",
            "1 Objective Declarations\n",
            "    obj : Size=1, Index=None, Active=True\n",
            "        Key  : Active : Sense    : Expression\n",
            "        None :   True : minimize : x[0] + y[0] + x[1] + y[1] + x[2] + y[2] + x[3] + y[3] + x[4] + y[4] + x[5] + y[5] + x[6] + y[6] + x[7] + y[7] + x[8] + y[8] + x[9] + y[9] + x[10] + y[10] + x[11] + y[11] + x[12] + y[12] + x[13] + y[13] + x[14] + y[14] + x[15] + y[15] + x[16] + y[16] + x[17] + y[17] + x[18] + y[18] + x[19] + y[19]\n",
            "\n",
            "1 Constraint Declarations\n",
            "    constraints : Size=61, Index=constraints_index, Active=True\n",
            "        Key : Lower : Body                                                      : Upper : Active\n",
            "          1 :   0.0 :   0.0416 - b[0] - 0.3615*b[1] - 85.6*b[2] - (x[0] - y[0]) :   0.0 :   True\n",
            "          2 :   0.0 :                                                      x[0] :  +Inf :   True\n",
            "          3 :   0.0 :                                                      y[0] :  +Inf :   True\n",
            "          4 :   0.0 :    0.0312 - b[0] - 0.282*b[1] - 91.9*b[2] - (x[1] - y[1]) :   0.0 :   True\n",
            "          5 :   0.0 :                                                      x[1] :  +Inf :   True\n",
            "          6 :   0.0 :                                                      y[1] :  +Inf :   True\n",
            "          7 :   0.0 :    0.0354 - b[0] - 0.301*b[1] - 89.1*b[2] - (x[2] - y[2]) :   0.0 :   True\n",
            "          8 :   0.0 :                                                      x[2] :  +Inf :   True\n",
            "          9 :   0.0 :                                                      y[2] :  +Inf :   True\n",
            "         10 :   0.0 :   0.0331 - b[0] - 0.3862*b[1] - 90.4*b[2] - (x[3] - y[3]) :   0.0 :   True\n",
            "         11 :   0.0 :                                                      x[3] :  +Inf :   True\n",
            "         12 :   0.0 :                                                      y[3] :  +Inf :   True\n",
            "         13 :   0.0 :   0.0399 - b[0] - 0.3578*b[1] - 86.3*b[2] - (x[4] - y[4]) :   0.0 :   True\n",
            "         14 :   0.0 :                                                      x[4] :  +Inf :   True\n",
            "         15 :   0.0 :                                                      y[4] :  +Inf :   True\n",
            "         16 :   0.0 :   0.0501 - b[0] - 0.4413*b[1] - 74.7*b[2] - (x[5] - y[5]) :   0.0 :   True\n",
            "         17 :   0.0 :                                                      x[5] :  +Inf :   True\n",
            "         18 :   0.0 :                                                      y[5] :  +Inf :   True\n",
            "         19 :   0.0 :   0.0421 - b[0] - 0.6753*b[1] - 79.8*b[2] - (x[6] - y[6]) :   0.0 :   True\n",
            "         20 :   0.0 :                                                      x[6] :  +Inf :   True\n",
            "         21 :   0.0 :                                                      y[6] :  +Inf :   True\n",
            "         22 :   0.0 :   0.0507 - b[0] - 0.6777*b[1] - 74.3*b[2] - (x[7] - y[7]) :   0.0 :   True\n",
            "         23 :   0.0 :                                                      x[7] :  +Inf :   True\n",
            "         24 :   0.0 :                                                      y[7] :  +Inf :   True\n",
            "         25 :   0.0 :   0.0431 - b[0] - 0.6585*b[1] - 84.4*b[2] - (x[8] - y[8]) :   0.0 :   True\n",
            "         26 :   0.0 :                                                      x[8] :  +Inf :   True\n",
            "         27 :   0.0 :                                                      y[8] :  +Inf :   True\n",
            "         28 :   0.0 :   0.0437 - b[0] - 0.6702*b[1] - 84.1*b[2] - (x[9] - y[9]) :   0.0 :   True\n",
            "         29 :   0.0 :                                                      x[9] :  +Inf :   True\n",
            "         30 :   0.0 :                                                      y[9] :  +Inf :   True\n",
            "         31 :   0.0 : 0.0398 - b[0] - 0.3289*b[1] - 86.8*b[2] - (x[10] - y[10]) :   0.0 :   True\n",
            "         32 :   0.0 :                                                     x[10] :  +Inf :   True\n",
            "         33 :   0.0 :                                                     y[10] :  +Inf :   True\n",
            "         34 :   0.0 : 0.0274 - b[0] - 0.2473*b[1] - 93.7*b[2] - (x[11] - y[11]) :   0.0 :   True\n",
            "         35 :   0.0 :                                                     x[11] :  +Inf :   True\n",
            "         36 :   0.0 :                                                     y[11] :  +Inf :   True\n",
            "         37 :   0.0 : 0.0298 - b[0] - 0.2762*b[1] - 92.3*b[2] - (x[12] - y[12]) :   0.0 :   True\n",
            "         38 :   0.0 :                                                     x[12] :  +Inf :   True\n",
            "         39 :   0.0 :                                                     y[12] :  +Inf :   True\n",
            "         40 :   0.0 : 0.0261 - b[0] - 0.3222*b[1] - 94.0*b[2] - (x[13] - y[13]) :   0.0 :   True\n",
            "         41 :   0.0 :                                                     x[13] :  +Inf :   True\n",
            "         42 :   0.0 :                                                     y[13] :  +Inf :   True\n",
            "         43 :   0.0 : 0.0358 - b[0] - 0.2792*b[1] - 88.9*b[2] - (x[14] - y[14]) :   0.0 :   True\n",
            "         44 :   0.0 :                                                     x[14] :  +Inf :   True\n",
            "         45 :   0.0 :                                                     y[14] :  +Inf :   True\n",
            "         46 :   0.0 : 0.0504 - b[0] - 0.3609*b[1] - 74.3*b[2] - (x[15] - y[15]) :   0.0 :   True\n",
            "         47 :   0.0 :                                                     x[15] :  +Inf :   True\n",
            "         48 :   0.0 :                                                     y[15] :  +Inf :   True\n",
            "         49 :   0.0 : 0.0478 - b[0] - 0.6187*b[1] - 74.0*b[2] - (x[16] - y[16]) :   0.0 :   True\n",
            "         50 :   0.0 :                                                     x[16] :  +Inf :   True\n",
            "         51 :   0.0 :                                                     y[16] :  +Inf :   True\n",
            "         52 :   0.0 : 0.0549 - b[0] - 0.6176*b[1] - 69.8*b[2] - (x[17] - y[17]) :   0.0 :   True\n",
            "         53 :   0.0 :                                                     x[17] :  +Inf :   True\n",
            "         54 :   0.0 :                                                     y[17] :  +Inf :   True\n",
            "         55 :   0.0 : 0.0468 - b[0] - 0.6004*b[1] - 81.6*b[2] - (x[18] - y[18]) :   0.0 :   True\n",
            "         56 :   0.0 :                                                     x[18] :  +Inf :   True\n",
            "         57 :   0.0 :                                                     y[18] :  +Inf :   True\n",
            "         58 :   0.0 : 0.0478 - b[0] - 0.6119*b[1] - 81.0*b[2] - (x[19] - y[19]) :   0.0 :   True\n",
            "         59 :   0.0 :                                                     x[19] :  +Inf :   True\n",
            "         60 :   0.0 :                                                     y[19] :  +Inf :   True\n",
            "         61 :   0.0 :                                                      b[0] :  +Inf :   True\n",
            "\n",
            "9 Declarations: x_index x y_index y b_index b obj constraints_index constraints\n"
          ]
        }
      ]
    },
    {
      "cell_type": "code",
      "source": [
        "optOP = SolverFactory('cbc')\n",
        "result_op1 = optOP.solve(model_op1)\n",
        "print(result_op1)"
      ],
      "metadata": {
        "colab": {
          "base_uri": "https://localhost:8080/"
        },
        "id": "MZJjASauWV2T",
        "outputId": "675a577b-b5ea-48c9-f422-8e5f0b55f47c"
      },
      "execution_count": 107,
      "outputs": [
        {
          "output_type": "stream",
          "name": "stdout",
          "text": [
            "\n",
            "Problem: \n",
            "- Name: unknown\n",
            "  Lower bound: 0.0379290902\n",
            "  Upper bound: 0.0379290902\n",
            "  Number of objectives: 1\n",
            "  Number of constraints: 61\n",
            "  Number of variables: 23\n",
            "  Number of nonzeros: 20\n",
            "  Sense: minimize\n",
            "Solver: \n",
            "- Status: ok\n",
            "  User time: -1.0\n",
            "  System time: 0.0\n",
            "  Wallclock time: 0.0\n",
            "  Termination condition: optimal\n",
            "  Termination message: Model was solved to optimality (subject to tolerances), and an optimal solution is available.\n",
            "  Statistics: \n",
            "    Branch and bound: \n",
            "      Number of bounded subproblems: None\n",
            "      Number of created subproblems: None\n",
            "    Black box: \n",
            "      Number of iterations: 22\n",
            "  Error rc: 0\n",
            "  Time: 0.01565241813659668\n",
            "Solution: \n",
            "- number of solutions: 0\n",
            "  number of solutions displayed: 0\n",
            "\n"
          ]
        }
      ]
    },
    {
      "cell_type": "code",
      "source": [
        "model_op1.obj()"
      ],
      "metadata": {
        "colab": {
          "base_uri": "https://localhost:8080/"
        },
        "id": "wtP-hyeKX0C8",
        "outputId": "f1f84d04-7327-460a-f702-e4d35ff9adf3"
      },
      "execution_count": 108,
      "outputs": [
        {
          "output_type": "execute_result",
          "data": {
            "text/plain": [
              "0.0379290903"
            ]
          },
          "metadata": {},
          "execution_count": 108
        }
      ]
    },
    {
      "cell_type": "code",
      "source": [
        "aoptOP = SolverFactory('cbc')\n",
        "result_op2= optOP.solve(model_op2)\n",
        "print(result_op2)"
      ],
      "metadata": {
        "colab": {
          "base_uri": "https://localhost:8080/"
        },
        "id": "B5qUCvEoX4qU",
        "outputId": "346c23e9-3f5e-4c2d-83b0-114a5258c715"
      },
      "execution_count": 109,
      "outputs": [
        {
          "output_type": "stream",
          "name": "stdout",
          "text": [
            "\n",
            "Problem: \n",
            "- Name: unknown\n",
            "  Lower bound: 0.0379290902\n",
            "  Upper bound: 0.0379290902\n",
            "  Number of objectives: 1\n",
            "  Number of constraints: 61\n",
            "  Number of variables: 43\n",
            "  Number of nonzeros: 40\n",
            "  Sense: minimize\n",
            "Solver: \n",
            "- Status: ok\n",
            "  User time: -1.0\n",
            "  System time: 0.0\n",
            "  Wallclock time: 0.0\n",
            "  Termination condition: optimal\n",
            "  Termination message: Model was solved to optimality (subject to tolerances), and an optimal solution is available.\n",
            "  Statistics: \n",
            "    Branch and bound: \n",
            "      Number of bounded subproblems: None\n",
            "      Number of created subproblems: None\n",
            "    Black box: \n",
            "      Number of iterations: 20\n",
            "  Error rc: 0\n",
            "  Time: 0.03856492042541504\n",
            "Solution: \n",
            "- number of solutions: 0\n",
            "  number of solutions displayed: 0\n",
            "\n"
          ]
        }
      ]
    },
    {
      "cell_type": "code",
      "source": [
        "model_op2.obj()"
      ],
      "metadata": {
        "colab": {
          "base_uri": "https://localhost:8080/"
        },
        "id": "jdfEQm28Xz0e",
        "outputId": "ac5b5daf-3a5f-40b2-ed66-b6259afd6674"
      },
      "execution_count": 110,
      "outputs": [
        {
          "output_type": "execute_result",
          "data": {
            "text/plain": [
              "0.0379290903"
            ]
          },
          "metadata": {},
          "execution_count": 110
        }
      ]
    },
    {
      "cell_type": "code",
      "source": [
        "bi=[]\n",
        "for i in range(3):\n",
        "  a=model_op1.b[i]()\n",
        "  bi.append(a)\n",
        "bi"
      ],
      "metadata": {
        "colab": {
          "base_uri": "https://localhost:8080/"
        },
        "id": "L-yuZIzoZrv6",
        "outputId": "eda8e66c-bb8a-42a7-c066-fd5b7a52b09e"
      },
      "execution_count": 79,
      "outputs": [
        {
          "output_type": "execute_result",
          "data": {
            "text/plain": [
              "[0.11547155, 0.0093102734, -0.00093012282]"
            ]
          },
          "metadata": {},
          "execution_count": 79
        }
      ]
    },
    {
      "cell_type": "code",
      "source": [
        "forecast_linear=[]\n",
        "for i in range(20):\n",
        "  forecast_linear.append(bi[0]+IR.iloc[i][2]*bi[1]+IR.iloc[i][3]*bi[2])\n",
        "forecast_linear=np.array(forecast_linear)\n",
        "forecast_linear"
      ],
      "metadata": {
        "colab": {
          "base_uri": "https://localhost:8080/"
        },
        "id": "jFX3h5NOaZFq",
        "outputId": "f1eef53b-3868-4e92-d6a6-d3dc3fefcf61"
      },
      "execution_count": 111,
      "outputs": [
        {
          "output_type": "execute_result",
          "data": {
            "text/plain": [
              "array([0.0392187 , 0.03261876, 0.0354    , 0.03498407, 0.03853317,\n",
              "       0.0501    , 0.04753498, 0.052673  , 0.0431    , 0.04348797,\n",
              "       0.03779904, 0.03062147, 0.03219271, 0.03103978, 0.03538306,\n",
              "       0.0497235 , 0.05240273, 0.056299  , 0.04516342, 0.04582856])"
            ]
          },
          "metadata": {},
          "execution_count": 111
        }
      ]
    },
    {
      "cell_type": "code",
      "source": [
        "\n",
        "years = IR.Year.to_list()\n",
        "sns.lineplot(x = years, y= ActualRate, palette='pastel', marker='o',color = 'green', label = 'Actual rate')\n",
        "sns.lineplot(x = years, y = forecast, palette = 'pastel', marker='s', color = 'yellow', label = 'Forecast')\n",
        "sns.lineplot(x = years, y = forecast_linear, palette = 'pastel', marker='d', color = 'blue', label = 'Forecast linear')\n",
        "plt.xticks(years, rotation = 90)\n",
        "plt.show()"
      ],
      "metadata": {
        "colab": {
          "base_uri": "https://localhost:8080/",
          "height": 560
        },
        "id": "0cDpFicpZKOi",
        "outputId": "f0a0b2fa-7a68-4bda-97c3-2bb054c757a1"
      },
      "execution_count": 114,
      "outputs": [
        {
          "output_type": "stream",
          "name": "stderr",
          "text": [
            "<ipython-input-114-663eeb9d5677>:2: UserWarning: Ignoring `palette` because no `hue` variable has been assigned.\n",
            "  sns.lineplot(x = years, y= ActualRate, palette='pastel', marker='o',color = 'green', label = 'Actual rate')\n",
            "<ipython-input-114-663eeb9d5677>:3: UserWarning: Ignoring `palette` because no `hue` variable has been assigned.\n",
            "  sns.lineplot(x = years, y = forecast, palette = 'pastel', marker='s', color = 'yellow', label = 'Forecast')\n",
            "<ipython-input-114-663eeb9d5677>:4: UserWarning: Ignoring `palette` because no `hue` variable has been assigned.\n",
            "  sns.lineplot(x = years, y = forecast_linear, palette = 'pastel', marker='d', color = 'blue', label = 'Forecast linear')\n"
          ]
        },
        {
          "output_type": "display_data",
          "data": {
            "text/plain": [
              "<Figure size 640x480 with 1 Axes>"
            ],
            "image/png": "[encoded data removed]"
          },
          "metadata": {}
        }
      ]
    },
    {
      "cell_type": "markdown",
      "source": [
        "**Question - 2**"
      ],
      "metadata": {
        "id": "sj8hnFEWnrNj"
      }
    },
    {
      "cell_type": "code",
      "source": [
        "!pip -q install qpsolvers[open_source_solvers]\n",
        "from qpsolvers import solve_qp\n",
        "import numpy as np\n",
        "\n",
        "# P represents quadratic cost coefficients\n",
        "P = np.array([[12.982, 0, 0, 0],\n",
        "            [0, 2.4, 0, 0],\n",
        "            [0, 0, 0.44, -0.051],\n",
        "            [0, 0, -0.051,0.068]])\n",
        "# q represents linear cost coefficients\n",
        "q = np.array([-6748, -1184, -420.625, -70.41]) # it will be an array\n",
        "\n",
        "\n",
        "# G matrix representation of coefficients of inequality constraints\n",
        "G = np.array([[-25.964, -96, -7.08, 0.025],\n",
        "            [-58.419, -2.4, -5.56, 17.39],\n",
        "            [1, 0, 0, 0],\n",
        "            [0, 1, 0, 0],\n",
        "            [0, 0, 0.22, -0.025],\n",
        "            [0, 0, -0.026,0.034]])\n",
        "# h vector representation of capacity bounds for inequality constraints\n",
        "h = np.array([59861805, 74921464, 1039.59, 986.66, 420.625,70.41]) # it will be an array\n",
        "\n",
        "p=solve_qp(P, q, G, h, None, None, None, None,solver=\"osqp\")"
      ],
      "metadata": {
        "colab": {
          "base_uri": "https://localhost:8080/"
        },
        "id": "krJhs_b9MFtp",
        "outputId": "bcd708a7-2453-49ec-a3c5-1cdebb33e018"
      },
      "execution_count": 119,
      "outputs": [
        {
          "output_type": "stream",
          "name": "stderr",
          "text": [
            "/usr/local/lib/python3.10/dist-packages/qpsolvers/conversions/ensure_sparse_matrices.py:38: UserWarning: Converted P to scipy.sparse.csc.csc_matrix\n",
            "For best performance, build P as a scipy.sparse.csc_matrix rather than as a numpy.ndarray\n",
            "  warnings.warn(\n",
            "/usr/local/lib/python3.10/dist-packages/qpsolvers/conversions/ensure_sparse_matrices.py:38: UserWarning: Converted G to scipy.sparse.csc.csc_matrix\n",
            "For best performance, build G as a scipy.sparse.csc_matrix rather than as a numpy.ndarray\n",
            "  warnings.warn(\n"
          ]
        }
      ]
    },
    {
      "cell_type": "code",
      "source": [
        "P"
      ],
      "metadata": {
        "colab": {
          "base_uri": "https://localhost:8080/"
        },
        "id": "GbVxrIBGna2M",
        "outputId": "07d42bcf-241d-4868-a2c1-560d342feb7d"
      },
      "execution_count": 120,
      "outputs": [
        {
          "output_type": "execute_result",
          "data": {
            "text/plain": [
              "array([[12.982,  0.   ,  0.   ,  0.   ],\n",
              "       [ 0.   ,  2.4  ,  0.   ,  0.   ],\n",
              "       [ 0.   ,  0.   ,  0.44 , -0.051],\n",
              "       [ 0.   ,  0.   , -0.051,  0.068]])"
            ]
          },
          "metadata": {},
          "execution_count": 120
        }
      ]
    },
    {
      "cell_type": "code",
      "source": [
        "import numpy as np\n",
        "import matplotlib.pyplot as plt\n",
        "\n",
        "# Assuming optimal_prices contains the optimal prices calculated previously\n",
        "optimal_prices = p\n",
        "\n",
        "# Define the range of change in disposable income (-10% to 10%)\n",
        "disposable_income_change = np.arange(-0.10, 0.06, 0.05)\n",
        "\n",
        "# Calculate revenue for each change in disposable income\n",
        "revenues = []\n",
        "for change in disposable_income_change:\n",
        "    # Calculate new prices based on the change in disposable income\n",
        "    new_prices = optimal_prices * (1 + change)\n",
        "    # Calculate revenue using the new prices and last year's consumption data\n",
        "    revenue = np.dot(new_prices, np.array([4820, 320, 210,70]))  # Assuming last year's consumption data for P1, P2, P3\n",
        "    revenues.append(revenue)\n",
        "\n",
        "# Plot the sensitivity curve\n",
        "plt.figure(figsize=(8, 6))\n",
        "plt.plot(disposable_income_change * 100, revenues, marker='o', color='g', linestyle='-', linewidth=2, markersize=8)\n",
        "plt.xlabel('Change in disposable income (%)')\n",
        "plt.ylabel('Revenue')\n",
        "plt.title('Sensitivity of revenue to changes in disposable income')\n",
        "plt.grid(True)\n",
        "plt.show()"
      ],
      "metadata": {
        "colab": {
          "base_uri": "https://localhost:8080/",
          "height": 564
        },
        "id": "qtrkGf-0MH1F",
        "outputId": "14d57d2d-cdff-42fb-cdd9-38ebede4ecec"
      },
      "execution_count": 122,
      "outputs": [
        {
          "output_type": "display_data",
          "data": {
            "text/plain": [
              "<Figure size 800x600 with 1 Axes>"
            ],
            "image/png": "[encoded data removed]"
          },
          "metadata": {}
        }
      ]
    },
    {
      "cell_type": "code",
      "source": [],
      "metadata": {
        "id": "eHuLy3M2oAQN"
      },
      "execution_count": null,
      "outputs": []
    },
    {
      "cell_type": "markdown",
      "source": [
        "**Question 3(A1)**"
      ],
      "metadata": {
        "id": "pIyW2EmHpgzf"
      }
    },
    {
      "cell_type": "code",
      "source": [],
      "metadata": {
        "id": "ZoAE_WTQppda"
      },
      "execution_count": null,
      "outputs": []
    },
    {
      "cell_type": "code",
      "source": [
        "import numpy as np\n",
        "import matplotlib.pyplot as plt\n",
        "\n",
        "\n",
        "M = np.array([4.27, 0.15, 2.85]) / 100\n",
        "Sigma = np.array([[10, 0.18, 0.11],\n",
        "                  [0.12, 10.44, 0.26],\n",
        "                  [0.11, 0.26, 14.11]]) / 10000\n",
        "\n",
        "iterations = 10000\n",
        "\n",
        "M0 = 0.01\n",
        "\n",
        "# Random search algorithm\n",
        "results = []\n",
        "for _ in range(iterations):\n",
        "    weights = np.random.rand(3)\n",
        "    weights /= weights.sum()\n",
        "    portfolio_return = np.dot(weights, M)\n",
        "    portfolio_risk = np.sqrt(np.dot(weights.T, np.dot(Sigma, weights)))\n",
        "    if portfolio_return >= M0:\n",
        "        results.append((portfolio_return, portfolio_risk))\n",
        "\n",
        "# Separate the results into return and risk\n",
        "return_values, risk_values = zip(*results)\n",
        "\n",
        "# Plot the risk-return trade-off and the Pareto-Frontier\n",
        "plt.figure(figsize=(8, 6))\n",
        "plt.scatter(risk_values, return_values, label=\"Feasible Portfolios\", color=\"blue\", marker=\"o\")\n",
        "plt.xlabel(\"Risk (Standard Deviation)\")\n",
        "plt.ylabel(\"Return\")\n",
        "plt.title(\"Risk-Return Trade-Off\")\n",
        "plt.grid(True)\n",
        "\n",
        "# Calculate Pareto-Frontier\n",
        "pareto_frontier = []\n",
        "min_risk = float('inf')\n",
        "for r, risk in results:\n",
        "    if risk < min_risk:\n",
        "        pareto_frontier.append((r, risk))\n",
        "        min_risk = risk\n",
        "\n",
        "# Separate the Pareto-Frontier into return and risk\n",
        "pareto_return, pareto_risk = zip(*pareto_frontier)\n",
        "plt.plot(pareto_risk, pareto_return, label=\"Pareto-Frontier\", color=\"green\", linestyle=\"-\")\n",
        "plt.legend()\n",
        "\n",
        "# Print Pareto-Frontier points\n",
        "print(\"Pareto-Frontier Points (Return, Risk):\")\n",
        "for point in pareto_frontier:\n",
        "    print(point)\n",
        "\n",
        "plt.show()"
      ],
      "metadata": {
        "colab": {
          "base_uri": "https://localhost:8080/",
          "height": 738
        },
        "id": "e7eLTPQGXYWj",
        "outputId": "9434c2e0-a28a-4dcf-9641-ff1e5ae76ab4"
      },
      "execution_count": null,
      "outputs": [
        {
          "output_type": "stream",
          "name": "stdout",
          "text": [
            "Pareto-Frontier Points (Return, Risk):\n",
            "(0.02329635771240516, 0.020673499242195845)\n",
            "(0.025185147533601387, 0.020438277480799478)\n",
            "(0.024071735912466218, 0.019794593050237258)\n",
            "(0.024546098321439804, 0.01975803689932704)\n",
            "(0.024326873299103526, 0.0196537805469832)\n",
            "(0.02429083920019085, 0.019653774309288906)\n",
            "(0.0240206951881873, 0.019652900584369762)\n",
            "(0.02411132873356347, 0.01965220943274332)\n",
            "(0.024253457288098235, 0.01965202595605612)\n"
          ]
        },
        {
          "output_type": "display_data",
          "data": {
            "text/plain": [
              "<Figure size 800x600 with 1 Axes>"
            ],
            "image/png": "[encoded data removed]"
          },
          "metadata": {}
        }
      ]
    },
    {
      "cell_type": "markdown",
      "source": [
        "**Question 3(A3)**"
      ],
      "metadata": {
        "id": "uHecIBh4qsPc"
      }
    },
    {
      "cell_type": "code",
      "source": [
        "\n",
        "\n",
        "import numpy as np\n",
        "import matplotlib.pyplot as plt\n",
        "from scipy.optimize import minimize\n",
        "\n",
        "# Given data\n",
        "M = np.array([4.27, 0.15, 2.85]) / 100  # Mean returns (as decimals)\n",
        "Sigma = np.array([[10, 0.18, 0.11],\n",
        "                  [0.12, 10.44, 0.26],\n",
        "                  [0.11, 0.26, 14.11]]) / 10000  # Covariance matrix (as decimals)\n",
        "\n",
        "# Parameters\n",
        "N = 100  # Number of lambda values to consider\n",
        "returns = []\n",
        "risks = []\n",
        "\n",
        "# Loop through different values of nu to calculate lambda\n",
        "for nu in range(1, N + 1):\n",
        "    lambda_val = 10**(5 * (nu / N) - 1)\n",
        "\n",
        "    # Define utility function to maximize\n",
        "    def utility(w):\n",
        "        portfolio_return = np.dot(w, M)\n",
        "        portfolio_risk = np.sqrt(np.dot(w.T, np.dot(Sigma, w)))\n",
        "        return -portfolio_return + 0.5 * lambda_val * portfolio_risk**2\n",
        "\n",
        "    # Initial guess for portfolio weights\n",
        "    initial_weights = np.ones(len(M)) / len(M)\n",
        "\n",
        "    # Constraints\n",
        "    constraints = ({'type': 'eq', 'fun': lambda w: np.sum(w) - 1},\n",
        "                   {'type': 'ineq', 'fun': lambda w: w})\n",
        "\n",
        "    # Solve the optimization problem\n",
        "    result = minimize(utility, initial_weights, constraints=constraints)\n",
        "\n",
        "    # Append results to lists\n",
        "    returns.append(-result.fun)  # Negative sign due to maximization\n",
        "    risks.append(np.sqrt(np.dot(result.x.T, np.dot(Sigma, result.x))))\n",
        "\n",
        "# Plot the Pareto-Frontier trajectory\n",
        "plt.figure(figsize=(10, 6))\n",
        "plt.scatter(risks, returns, marker='o', label='Pareto-Frontier', color='yellow')\n",
        "plt.xlabel('Standard_deviation of risk')\n",
        "plt.ylabel('Expected Return')\n",
        "plt.title('Pareto-Frontier')"
      ],
      "metadata": {
        "id": "cCsFiKKoXhT0"
      },
      "execution_count": null,
      "outputs": []
    },
    {
      "cell_type": "markdown",
      "source": [
        "Question - 3(B)"
      ],
      "metadata": {
        "id": "jAQ5DFOCxHe2"
      }
    },
    {
      "cell_type": "code",
      "source": [],
      "metadata": {
        "id": "1OrdjUIaq2e-"
      },
      "execution_count": null,
      "outputs": []
    },
    {
      "cell_type": "code",
      "source": [
        "import cvxpy as cp\n",
        "import numpy as np\n",
        "\n",
        "# Given data\n",
        "tax_base = np.array([34329, 3269, 811, 702, 2935, 30809, 4200])\n",
        "coefficients = np.array([\n",
        "    [12.61, 0.108, 0],\n",
        "    [10.16, 0.020, 0.276],\n",
        "    [10.97, 0.044, 0],\n",
        "    [9.79, 0.027, 0.102],\n",
        "    [10.37, 0.036, 0],\n",
        "    [11.89, 0.160, 0],\n",
        "    [211.09, 0.112, 0]\n",
        "])\n",
        "variance_covariance = np.array([\n",
        "    [0.00070, -0.00007, 0.00108, -0.00002, 0.00050, 0.00114, 0.00105],\n",
        "    [-0.00007, 0.00115, 0.00054, -0.00002, 0.00058, -0.00055, 0.00139],\n",
        "    [0.00108, 0.00054, 0.00279, 0.00016, 0.00142, 0.00112, 0.00183],\n",
        "    [-0.00002, -0.00002, 0.00016, 0.00010, 0.00009, -0.00007, -0.00003],\n",
        "    [0.00050, 0.00058, 0.00142, 0.00009, 0.00156, 0.00047, 0.00177],\n",
        "    [0.00114, -0.00055, 0.00112, -0.00007, 0.00047, 0.00274, 0.00177],\n",
        "    [0.00105, 0.00139, 0.00183, -0.00003, 0.00177, 0.00177, 0.00652]\n",
        "])\n",
        "\n",
        "# Constraints\n",
        "T = 3300  # Total expected tax revenue\n",
        "u = np.array([2 * base for base in tax_base])  # Upper bounds\n",
        "\n",
        "# Solve the optimization problem for g = 9%\n",
        "g_values = [0.09, 0.13]  # Growth rates\n",
        "for g in g_values:\n",
        "    x = cp.Variable(len(tax_base))\n",
        "    Q = cp.quad_form(x, variance_covariance)\n",
        "    objective = cp.Minimize(Q)\n",
        "    constraints = [x >= 0, x <= u, cp.sum(x) == T, cp.sum(x * coefficients[:, 1]) / T == g]\n",
        "\n",
        "    problem = cp.Problem(objective, constraints)\n",
        "    problem.solve()\n",
        "\n",
        "    # Output optimal tax rates\n",
        "    print(f\"Optimal Tax Rates for g = {g * 100}%:\")\n",
        "    print(\"Tax Rate for Sales Tax:\", x[0].value)\n",
        "    print(\"Tax Rate for Motor Fuel Tax:\", x[1].value)\n",
        "    print(\"Tax Rate for Alcoholic Beverages Tax:\", x[2].value)\n",
        "    print(\"Tax Rate for Tobacco Tax:\", x[3].value)\n",
        "    print(\"Tax Rate for Motor Vehicle Tax:\", x[4].value)\n",
        "    print(\"Tax Rate for Personal Income Tax:\", x[5].value)\n",
        "    print(\"Tax Rate for Corporate Tax:\", x[6].value)\n",
        "    print(\"Total Tax Revenue:\", T)\n",
        "    print(\"=\" * 40)"
      ],
      "metadata": {
        "colab": {
          "base_uri": "https://localhost:8080/",
          "height": 581
        },
        "id": "OYs_Ns_vYASL",
        "outputId": "6321545b-ecaf-496e-d430-e20304d4a01d"
      },
      "execution_count": null,
      "outputs": [
        {
          "output_type": "execute_result",
          "data": {
            "text/plain": [
              "Text(0.5, 1.0, 'Pareto-Frontier')"
            ]
          },
          "metadata": {},
          "execution_count": 10
        },
        {
          "output_type": "display_data",
          "data": {
            "text/plain": [
              "<Figure size 1000x600 with 1 Axes>"
            ],
            "image/png": "[encoded data removed]"
          },
          "metadata": {}
        }
      ]
    },
    {
      "cell_type": "code",
      "source": [],
      "metadata": {
        "id": "bDrKOoo9x3HY"
      },
      "execution_count": null,
      "outputs": []
    },
    {
      "cell_type": "code",
      "source": [
        "import cvxpy as cp\n",
        "import numpy as np\n",
        "\n",
        "# Given data\n",
        "M = np.array([4.27, 0.15, 2.85]) / 100  # Mean returns (as decimals)\n",
        "Sigma = np.array([[10, 0.18, 0.11],\n",
        "                  [0.18, 10.44, 0.26],\n",
        "                  [0.11, 0.26, 14.11]]) / 10000  # Covariance matrix (as decimals)\n",
        "N = 100  # Number of lambda values\n",
        "num_assets = len(M)\n",
        "\n",
        "# Initialize variables\n",
        "x = cp.Variable(num_assets)  # Portfolio weights\n",
        "Lambda_values = [10 ** (5 * (nu / N) - 1) for nu in range(1, N + 1)]  # Lambda values\n",
        "\n",
        "# Define the objective function and constraints for each lambda value\n",
        "optimal_portfolios = []\n",
        "for idx, Lambda in enumerate(Lambda_values):\n",
        "    objective = cp.Maximize(x.T @ M - Lambda * cp.quad_form(x, Sigma))\n",
        "    constraints = [cp.sum(x) == 1, x >= 0]  # Sum of weights equals 1, and weights are non-negative\n",
        "\n",
        "    # Solve the optimization problem for the current lambda value\n",
        "    problem = cp.Problem(objective, constraints)\n",
        "    problem.solve(solver=cp.ECOS)\n",
        "\n",
        "    # Save the optimal portfolio weights and objective value\n",
        "    optimal_portfolios.append((x.value, problem.value))\n",
        "\n",
        "# Print the optimal portfolios for each lambda value\n",
        "for idx, (portfolio, objective_value) in enumerate(optimal_portfolios):\n",
        "    print(f\"Optimal Portfolio for Lambda = {Lambda_values[idx]}:\")\n",
        "    print(\"Weights:\", portfolio)\n",
        "    print(\"Objective Value:\", objective_value)\n",
        "    print(\"=\" * 40)"
      ],
      "metadata": {
        "colab": {
          "base_uri": "https://localhost:8080/"
        },
        "id": "VvRJq1EKYSz_",
        "outputId": "6f979e18-34a2-443a-ca4c-fd1a609f2cd5"
      },
      "execution_count": null,
      "outputs": [
        {
          "output_type": "stream",
          "name": "stdout",
          "text": [
            "Optimal Portfolio for Lambda = 0.11220184543019636:\n",
            "Weights: [9.99999999e-01 1.65382421e-10 4.27716806e-10]\n",
            "Objective Value: 0.04258779814181388\n",
            "========================================\n",
            "Optimal Portfolio for Lambda = 0.12589254117941673:\n",
            "Weights: [1.00000000e+00 1.38364384e-10 3.44727643e-10]\n",
            "Objective Value: 0.042574107448344896\n",
            "========================================\n",
            "Optimal Portfolio for Lambda = 0.14125375446227545:\n",
            "Weights: [1.00000000e+00 1.12325627e-10 2.66148246e-10]\n",
            "Objective Value: 0.0425587462372361\n",
            "========================================\n",
            "Optimal Portfolio for Lambda = 0.15848931924611134:\n",
            "Weights: [1.00000000e+00 9.00874831e-11 2.01271807e-10]\n",
            "Objective Value: 0.04254151067427531\n",
            "========================================\n",
            "Optimal Portfolio for Lambda = 0.1778279410038923:\n",
            "Weights: [1.00000000e+00 7.31615795e-11 1.55295436e-10]\n",
            "Objective Value: 0.04252217205385678\n",
            "========================================\n",
            "Optimal Portfolio for Lambda = 0.19952623149688797:\n",
            "Weights: [1.00000000e+00 6.63144886e-11 1.37214976e-10]\n",
            "Objective Value: 0.04250047376390257\n",
            "========================================\n",
            "Optimal Portfolio for Lambda = 0.223872113856834:\n",
            "Weights: [1.00000000e+00 7.17040282e-11 1.51311824e-10]\n",
            "Objective Value: 0.042476127881138796\n",
            "========================================\n",
            "Optimal Portfolio for Lambda = 0.251188643150958:\n",
            "Weights: [1.00000000e+00 6.27595266e-11 1.39671683e-10]\n",
            "Objective Value: 0.04244881135238031\n",
            "========================================\n",
            "Optimal Portfolio for Lambda = 0.28183829312644537:\n",
            "Weights: [9.99999986e-01 4.25320561e-09 9.96022265e-09]\n",
            "Objective Value: 0.04241816139811286\n",
            "========================================\n",
            "Optimal Portfolio for Lambda = 0.31622776601683794:\n",
            "Weights: [9.99999990e-01 2.99855808e-09 7.20902529e-09]\n",
            "Objective Value: 0.04238377201444569\n",
            "========================================\n",
            "Optimal Portfolio for Lambda = 0.35481338923357547:\n",
            "Weights: [9.99999993e-01 2.05035508e-09 4.59931337e-09]\n",
            "Objective Value: 0.042345186465638\n",
            "========================================\n",
            "Optimal Portfolio for Lambda = 0.3981071705534972:\n",
            "Weights: [9.99999996e-01 1.45603028e-09 2.53233816e-09]\n",
            "Objective Value: 0.042301892736631194\n",
            "========================================\n",
            "Optimal Portfolio for Lambda = 0.44668359215096315:\n",
            "Weights: [9.99999998e-01 1.10870235e-09 1.34643498e-09]\n",
            "Objective Value: 0.042253316345213246\n",
            "========================================\n",
            "Optimal Portfolio for Lambda = 0.5011872336272724:\n",
            "Weights: [9.99999998e-01 7.57844801e-10 8.09134358e-10]\n",
            "Objective Value: 0.04219881272520784\n",
            "========================================\n",
            "Optimal Portfolio for Lambda = 0.5623413251903491:\n",
            "Weights: [9.99999999e-01 4.14675008e-10 3.99708770e-10]\n",
            "Objective Value: 0.04213765865295175\n",
            "========================================\n",
            "Optimal Portfolio for Lambda = 0.6309573444801934:\n",
            "Weights: [9.99999999e-01 4.51963779e-10 3.23959543e-10]\n",
            "Objective Value: 0.042069042633263075\n",
            "========================================\n",
            "Optimal Portfolio for Lambda = 0.707945784384138:\n",
            "Weights: [9.99999999e-01 3.78423475e-10 2.58536552e-10]\n",
            "Objective Value: 0.04199205419724185\n",
            "========================================\n",
            "Optimal Portfolio for Lambda = 0.7943282347242814:\n",
            "Weights: [9.99999999e-01 3.09734607e-10 6.59877445e-10]\n",
            "Objective Value: 0.041905671744665\n",
            "========================================\n",
            "Optimal Portfolio for Lambda = 0.8912509381337455:\n",
            "Weights: [1.00000000e+00 1.08009206e-10 3.11570858e-10]\n",
            "Objective Value: 0.04180874905373031\n",
            "========================================\n",
            "Optimal Portfolio for Lambda = 1.0:\n",
            "Weights: [9.99999999e-01 2.18090147e-10 7.09644969e-10]\n",
            "Objective Value: 0.04169999998276966\n",
            "========================================\n",
            "Optimal Portfolio for Lambda = 1.1220184543019636:\n",
            "Weights: [9.99999999e-01 3.38948233e-10 1.14703215e-09]\n",
            "Objective Value: 0.04157798151873841\n",
            "========================================\n",
            "Optimal Portfolio for Lambda = 1.2589254117941675:\n",
            "Weights: [9.99999991e-01 2.04769334e-09 6.99926862e-09]\n",
            "Objective Value: 0.041441074426943794\n",
            "========================================\n",
            "Optimal Portfolio for Lambda = 1.4125375446227548:\n",
            "Weights: [9.99999963e-01 8.19835858e-09 2.83997217e-08]\n",
            "Objective Value: 0.04128746181642139\n",
            "========================================\n",
            "Optimal Portfolio for Lambda = 1.5848931924611134:\n",
            "Weights: [9.99999989e-01 2.39250001e-09 8.29409529e-09]\n",
            "Objective Value: 0.04111510662464022\n",
            "========================================\n",
            "Optimal Portfolio for Lambda = 1.7782794100389228:\n",
            "Weights: [9.99999997e-01 7.34308793e-10 2.69395880e-09]\n",
            "Objective Value: 0.04092172053349425\n",
            "========================================\n",
            "Optimal Portfolio for Lambda = 1.9952623149688797:\n",
            "Weights: [9.99999989e-01 2.32317708e-09 8.71266206e-09]\n",
            "Objective Value: 0.04070473750908699\n",
            "========================================\n",
            "Optimal Portfolio for Lambda = 2.23872113856834:\n",
            "Weights: [9.99999977e-01 4.81440207e-09 1.86065320e-08]\n",
            "Objective Value: 0.04046127850242896\n",
            "========================================\n",
            "Optimal Portfolio for Lambda = 2.511886431509581:\n",
            "Weights: [9.99999961e-01 7.76637840e-09 3.11936228e-08]\n",
            "Objective Value: 0.04018811299886928\n",
            "========================================\n",
            "Optimal Portfolio for Lambda = 2.8183829312644537:\n",
            "Weights: [9.99999993e-01 1.33056511e-09 5.61579031e-09]\n",
            "Objective Value: 0.03988161697284392\n",
            "========================================\n",
            "Optimal Portfolio for Lambda = 3.1622776601683795:\n",
            "Weights: [9.99999991e-01 1.67557879e-09 7.51971850e-09]\n",
            "Objective Value: 0.0395377222214602\n",
            "========================================\n",
            "Optimal Portfolio for Lambda = 3.548133892335755:\n",
            "Weights: [9.99999989e-01 1.83308795e-09 8.90008375e-09]\n",
            "Objective Value: 0.03915186598099663\n",
            "========================================\n",
            "Optimal Portfolio for Lambda = 3.981071705534973:\n",
            "Weights: [9.99999959e-01 6.42217814e-09 3.46756950e-08]\n",
            "Objective Value: 0.038718927860750756\n",
            "========================================\n",
            "Optimal Portfolio for Lambda = 4.466835921509633:\n",
            "Weights: [9.99999976e-01 3.33993122e-09 2.04932091e-08]\n",
            "Objective Value: 0.03823316386024796\n",
            "========================================\n",
            "Optimal Portfolio for Lambda = 5.011872336272725:\n",
            "Weights: [9.99999953e-01 5.99504705e-09 4.07624047e-08]\n",
            "Objective Value: 0.03768812730101278\n",
            "========================================\n",
            "Optimal Portfolio for Lambda = 5.623413251903491:\n",
            "Weights: [9.99999992e-01 9.20128964e-10 7.31731296e-09]\n",
            "Objective Value: 0.03707658669783758\n",
            "========================================\n",
            "Optimal Portfolio for Lambda = 6.30957344480193:\n",
            "Weights: [9.99999998e-01 1.84031689e-10 1.60894182e-09]\n",
            "Objective Value: 0.03639042654712988\n",
            "========================================\n",
            "Optimal Portfolio for Lambda = 7.07945784384138:\n",
            "Weights: [9.99999355e-01 5.16102265e-09 6.40122908e-07]\n",
            "Objective Value: 0.035620541889280065\n",
            "========================================\n",
            "Optimal Portfolio for Lambda = 7.943282347242813:\n",
            "Weights: [9.60166706e-01 1.73771116e-09 3.98332926e-02]\n",
            "Objective Value: 0.034786828228193914\n",
            "========================================\n",
            "Optimal Portfolio for Lambda = 8.91250938133746:\n",
            "Weights: [9.19478227e-01 8.55022704e-09 8.05217641e-02]\n",
            "Objective Value: 0.03392554298511875\n",
            "========================================\n",
            "Optimal Portfolio for Lambda = 10.0:\n",
            "Weights: [8.83218440e-01 4.30873344e-09 1.16781555e-01]\n",
            "Objective Value: 0.033025830788323454\n",
            "========================================\n",
            "Optimal Portfolio for Lambda = 11.220184543019629:\n",
            "Weights: [8.50897663e-01 4.64637367e-09 1.49102332e-01]\n",
            "Objective Value: 0.032075752608229896\n",
            "========================================\n",
            "Optimal Portfolio for Lambda = 12.589254117941675:\n",
            "Weights: [8.22091987e-01 2.62575788e-09 1.77908010e-01]\n",
            "Objective Value: 0.031062701648779112\n",
            "========================================\n",
            "Optimal Portfolio for Lambda = 14.12537544622754:\n",
            "Weights: [7.96416008e-01 8.20910769e-10 2.03583992e-01]\n",
            "Objective Value: 0.029973235277125438\n",
            "========================================\n",
            "Optimal Portfolio for Lambda = 15.848931924611142:\n",
            "Weights: [7.73483278e-01 9.51601428e-09 2.26516712e-01]\n",
            "Objective Value: 0.028792896649933605\n",
            "========================================\n",
            "Optimal Portfolio for Lambda = 17.78279410038923:\n",
            "Weights: [7.53112057e-01 1.17210440e-08 2.46887931e-01]\n",
            "Objective Value: 0.027506023999488663\n",
            "========================================\n",
            "Optimal Portfolio for Lambda = 19.952623149688808:\n",
            "Weights: [7.34970584e-01 1.24124196e-09 2.65029415e-01]\n",
            "Objective Value: 0.026095541151361493\n",
            "========================================\n",
            "Optimal Portfolio for Lambda = 22.38721138568338:\n",
            "Weights: [7.18778602e-01 3.90236626e-09 2.81221394e-01]\n",
            "Objective Value: 0.024542731468358003\n",
            "========================================\n",
            "Optimal Portfolio for Lambda = 25.118864315095795:\n",
            "Weights: [7.04315871e-01 4.06894301e-08 2.95684088e-01]\n",
            "Objective Value: 0.02282699011302564\n",
            "========================================\n",
            "Optimal Portfolio for Lambda = 28.18382931264455:\n",
            "Weights: [6.91470970e-01 3.31040783e-09 3.08529027e-01]\n",
            "Objective Value: 0.02092555100539586\n",
            "========================================\n",
            "Optimal Portfolio for Lambda = 31.622776601683793:\n",
            "Weights: [0.67578407 0.00723621 0.31697971]\n",
            "Objective Value: 0.01881582389335914\n",
            "========================================\n",
            "Optimal Portfolio for Lambda = 35.481338923357534:\n",
            "Weights: [0.64335129 0.04536347 0.31128524]\n",
            "Objective Value: 0.016577989131408337\n",
            "========================================\n",
            "Optimal Portfolio for Lambda = 39.810717055349734:\n",
            "Weights: [0.61448824 0.07930223 0.30620954]\n",
            "Objective Value: 0.014238912100955483\n",
            "========================================\n",
            "Optimal Portfolio for Lambda = 44.668359215096345:\n",
            "Weights: [0.58871014 0.10956958 0.30172028]\n",
            "Objective Value: 0.011767554769791279\n",
            "========================================\n",
            "Optimal Portfolio for Lambda = 50.11872336272725:\n",
            "Weights: [0.56576259 0.13653871 0.2976987 ]\n",
            "Objective Value: 0.009131123589521638\n",
            "========================================\n",
            "Optimal Portfolio for Lambda = 56.23413251903491:\n",
            "Weights: [0.54530522 0.16057736 0.29411742]\n",
            "Objective Value: 0.006294634771883103\n",
            "========================================\n",
            "Optimal Portfolio for Lambda = 63.095734448019364:\n",
            "Weights: [0.52707396 0.18200268 0.29092336]\n",
            "Objective Value: 0.0032204498333328647\n",
            "========================================\n",
            "Optimal Portfolio for Lambda = 70.79457843841374:\n",
            "Weights: [0.51082534 0.20109801 0.28807664]\n",
            "Objective Value: -0.00013222379188938468\n",
            "========================================\n",
            "Optimal Portfolio for Lambda = 79.43282347242814:\n",
            "Weights: [0.49634374 0.21811676 0.2855395 ]\n",
            "Objective Value: -0.003807874045823008\n",
            "========================================\n",
            "Optimal Portfolio for Lambda = 89.1250938133745:\n",
            "Weights: [0.483437   0.23328473 0.28327828]\n",
            "Objective Value: -0.007855274574144273\n",
            "========================================\n",
            "Optimal Portfolio for Lambda = 100.0:\n",
            "Weights: [0.47193385 0.2468032  0.28126296]\n",
            "Objective Value: -0.012328131922777583\n",
            "========================================\n",
            "Optimal Portfolio for Lambda = 112.2018454301963:\n",
            "Weights: [0.46168166 0.25885154 0.2794668 ]\n",
            "Objective Value: -0.017285798191235754\n",
            "========================================\n",
            "Optimal Portfolio for Lambda = 125.89254117941675:\n",
            "Weights: [0.45254439 0.26958964 0.27786598]\n",
            "Objective Value: -0.022794058598785426\n",
            "========================================\n",
            "Optimal Portfolio for Lambda = 141.2537544622754:\n",
            "Weights: [0.44440078 0.27915998 0.27643924]\n",
            "Objective Value: -0.02892600441441012\n",
            "========================================\n",
            "Optimal Portfolio for Lambda = 158.48931924611142:\n",
            "Weights: [0.43714279 0.28768955 0.27516766]\n",
            "Objective Value: -0.03576300283353395\n",
            "========================================\n",
            "Optimal Portfolio for Lambda = 177.82794100389228:\n",
            "Weights: [0.43067409 0.29529155 0.27403436]\n",
            "Objective Value: -0.04339577667126486\n",
            "========================================\n",
            "Optimal Portfolio for Lambda = 199.52623149688807:\n",
            "Weights: [0.42490886 0.30206683 0.27302431]\n",
            "Objective Value: -0.05192560819903179\n",
            "========================================\n",
            "Optimal Portfolio for Lambda = 223.872113856834:\n",
            "Weights: [0.4197706 0.3081053 0.2721241]\n",
            "Objective Value: -0.061465683098790996\n",
            "========================================\n",
            "Optimal Portfolio for Lambda = 251.18864315095823:\n",
            "Weights: [0.41519111 0.3134871  0.27132179]\n",
            "Objective Value: -0.07214259236840166\n",
            "========================================\n",
            "Optimal Portfolio for Lambda = 281.8382931264452:\n",
            "Weights: [0.41110964 0.31828363 0.27060672]\n",
            "Objective Value: -0.0840980121066498\n",
            "========================================\n",
            "Optimal Portfolio for Lambda = 316.22776601683796:\n",
            "Weights: [0.40747203 0.32255855 0.26996942]\n",
            "Objective Value: -0.09749058347016144\n",
            "========================================\n",
            "Optimal Portfolio for Lambda = 354.8133892335753:\n",
            "Weights: [0.40423001 0.32636857 0.26940143]\n",
            "Objective Value: -0.11249801774333226\n",
            "========================================\n",
            "Optimal Portfolio for Lambda = 398.1071705534969:\n",
            "Weights: [0.40134056 0.32976423 0.26889521]\n",
            "Objective Value: -0.12931945446136509\n",
            "========================================\n",
            "Optimal Portfolio for Lambda = 446.683592150963:\n",
            "Weights: [0.39876599 0.33278992 0.26844409]\n",
            "Objective Value: -0.14817810387114516\n",
            "========================================\n",
            "Optimal Portfolio for Lambda = 501.18723362727246:\n",
            "Weights: [0.39649181 0.33547363 0.26803457]\n",
            "Objective Value: -0.16932420916517013\n",
            "========================================\n",
            "Optimal Portfolio for Lambda = 562.341325190349:\n",
            "Weights: [0.3944447  0.33788363 0.26767167]\n",
            "Objective Value: -0.19303836555840007\n",
            "========================================\n",
            "Optimal Portfolio for Lambda = 630.957344480193:\n",
            "Weights: [0.39261149 0.34003194 0.26735657]\n",
            "Objective Value: -0.21963524561488157\n",
            "========================================\n",
            "Optimal Portfolio for Lambda = 707.945784384138:\n",
            "Weights: [0.39098997 0.34194247 0.26706756]\n",
            "Objective Value: -0.24946777444643214\n",
            "========================================\n",
            "Optimal Portfolio for Lambda = 794.3282347242822:\n",
            "Weights: [0.38952973 0.34364584 0.26682444]\n",
            "Objective Value: -0.28293181075580714\n",
            "========================================\n",
            "Optimal Portfolio for Lambda = 891.2509381337459:\n",
            "Weights: [0.38823405 0.34516234 0.2666036 ]\n",
            "Objective Value: -0.3204714026878511\n",
            "========================================\n",
            "Optimal Portfolio for Lambda = 1000.0:\n",
            "Weights: [0.3870839  0.34651392 0.26640218]\n",
            "Objective Value: -0.3625846775010952\n",
            "========================================\n",
            "Optimal Portfolio for Lambda = 1122.0184543019652:\n",
            "Weights: [0.38605884 0.34771854 0.26622263]\n",
            "Objective Value: -0.4098304527901993\n",
            "========================================\n",
            "Optimal Portfolio for Lambda = 1258.9254117941662:\n",
            "Weights: [0.38514949 0.34879345 0.26605706]\n",
            "Objective Value: -0.46283565124820686\n",
            "========================================\n",
            "Optimal Portfolio for Lambda = 1412.5375446227526:\n",
            "Weights: [0.38433481 0.34975038 0.2659148 ]\n",
            "Objective Value: -0.5223036197292138\n",
            "========================================\n",
            "Optimal Portfolio for Lambda = 1584.893192461114:\n",
            "Weights: [0.38360907 0.35060335 0.26578758]\n",
            "Objective Value: -0.5890234620131246\n",
            "========================================\n",
            "Optimal Portfolio for Lambda = 1778.2794100389228:\n",
            "Weights: [0.38296225 0.35136357 0.26567418]\n",
            "Objective Value: -0.663880509867584\n",
            "========================================\n",
            "Optimal Portfolio for Lambda = 1995.2623149688789:\n",
            "Weights: [0.38238552 0.35204104 0.26557344]\n",
            "Objective Value: -0.7478680708343324\n",
            "========================================\n",
            "Optimal Portfolio for Lambda = 2238.7211385683377:\n",
            "Weights: [0.38187159 0.35264487 0.26548355]\n",
            "Objective Value: -0.842100608823136\n",
            "========================================\n",
            "Optimal Portfolio for Lambda = 2511.886431509582:\n",
            "Weights: [0.38141368 0.35318306 0.26540326]\n",
            "Objective Value: -0.9478285323611003\n",
            "========================================\n",
            "Optimal Portfolio for Lambda = 2818.382931264455:\n",
            "Weights: [0.38100551 0.35366272 0.26533177]\n",
            "Objective Value: -1.0664547867550356\n",
            "========================================\n",
            "Optimal Portfolio for Lambda = 3162.2776601683795:\n",
            "Weights: [0.3806418  0.35409023 0.26526797]\n",
            "Objective Value: -1.1995534703286512\n",
            "========================================\n",
            "Optimal Portfolio for Lambda = 3548.133892335753:\n",
            "Weights: [0.38031769 0.35447128 0.26521103]\n",
            "Objective Value: -1.3488907217462476\n",
            "========================================\n",
            "Optimal Portfolio for Lambda = 3981.0717055349774:\n",
            "Weights: [0.38002888 0.3548109  0.26516021]\n",
            "Objective Value: -1.5164481556010942\n",
            "========================================\n",
            "Optimal Portfolio for Lambda = 4466.835921509635:\n",
            "Weights: [0.37977215 0.35511385 0.265114  ]\n",
            "Objective Value: -1.70444915725646\n",
            "========================================\n",
            "Optimal Portfolio for Lambda = 5011.872336272715:\n",
            "Weights: [0.37954495 0.35538451 0.26507054]\n",
            "Objective Value: -1.9153883859650123\n",
            "========================================\n",
            "Optimal Portfolio for Lambda = 5623.413251903491:\n",
            "Weights: [0.37934584 0.35562708 0.26502707]\n",
            "Objective Value: -2.1520648783167733\n",
            "========================================\n",
            "Optimal Portfolio for Lambda = 6309.57344480193:\n",
            "Weights: [0.3791678  0.35584307 0.26498913]\n",
            "Objective Value: -2.4176191871826305\n",
            "========================================\n",
            "Optimal Portfolio for Lambda = 7079.457843841374:\n",
            "Weights: [0.37900638 0.35603447 0.26495916]\n",
            "Objective Value: -2.715575054590961\n",
            "========================================\n",
            "Optimal Portfolio for Lambda = 7943.282347242822:\n",
            "Weights: [0.37886062 0.35620427 0.26493511]\n",
            "Objective Value: -3.0498861736131584\n",
            "========================================\n",
            "Optimal Portfolio for Lambda = 8912.509381337459:\n",
            "Weights: [0.37872983 0.35635523 0.26491494]\n",
            "Objective Value: -3.424988650435622\n",
            "========================================\n",
            "Optimal Portfolio for Lambda = 10000.0:\n",
            "Weights: [0.37861298 0.35648964 0.26489738]\n",
            "Objective Value: -3.8458598676265434\n",
            "========================================\n"
          ]
        }
      ]
    }
  ]
}