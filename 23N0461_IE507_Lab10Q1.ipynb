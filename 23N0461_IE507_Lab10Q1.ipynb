{
  "nbformat": 4,
  "nbformat_minor": 0,
  "metadata": {
    "colab": {
      "provenance": []
    },
    "kernelspec": {
      "name": "python3",
      "display_name": "Python 3"
    },
    "language_info": {
      "name": "python"
    }
  },
  "cells": [
    {
      "cell_type": "code",
      "execution_count": 1,
      "metadata": {
        "id": "GM6FpkonNXt5",
        "colab": {
          "base_uri": "https://localhost:8080/"
        },
        "outputId": "1269a7bd-ebbd-4739-cc51-c998eb726417"
      },
      "outputs": [
        {
          "output_type": "stream",
          "name": "stdout",
          "text": [
            "\u001b[2K     \u001b[90m━━━━━━━━━━━━━━━━━━━━━━━━━━━━━━━━━━━━━━━━\u001b[0m \u001b[32m12.7/12.7 MB\u001b[0m \u001b[31m70.2 MB/s\u001b[0m eta \u001b[36m0:00:00\u001b[0m\n",
            "\u001b[2K     \u001b[90m━━━━━━━━━━━━━━━━━━━━━━━━━━━━━━━━━━━━━━━━\u001b[0m \u001b[32m49.6/49.6 kB\u001b[0m \u001b[31m5.0 MB/s\u001b[0m eta \u001b[36m0:00:00\u001b[0m\n",
            "\u001b[?25hSelecting previously unselected package coinor-libcoinutils3v5:amd64.\n",
            "(Reading database ... 120875 files and directories currently installed.)\n",
            "Preparing to unpack .../0-coinor-libcoinutils3v5_2.11.4+repack1-2_amd64.deb ...\n",
            "Unpacking coinor-libcoinutils3v5:amd64 (2.11.4+repack1-2) ...\n",
            "Selecting previously unselected package coinor-libosi1v5:amd64.\n",
            "Preparing to unpack .../1-coinor-libosi1v5_0.108.6+repack1-2_amd64.deb ...\n",
            "Unpacking coinor-libosi1v5:amd64 (0.108.6+repack1-2) ...\n",
            "Selecting previously unselected package coinor-libclp1.\n",
            "Preparing to unpack .../2-coinor-libclp1_1.17.5+repack1-1_amd64.deb ...\n",
            "Unpacking coinor-libclp1 (1.17.5+repack1-1) ...\n",
            "Selecting previously unselected package coinor-libcgl1:amd64.\n",
            "Preparing to unpack .../3-coinor-libcgl1_0.60.3+repack1-3_amd64.deb ...\n",
            "Unpacking coinor-libcgl1:amd64 (0.60.3+repack1-3) ...\n",
            "Selecting previously unselected package coinor-libcbc3:amd64.\n",
            "Preparing to unpack .../4-coinor-libcbc3_2.10.7+ds1-1_amd64.deb ...\n",
            "Unpacking coinor-libcbc3:amd64 (2.10.7+ds1-1) ...\n",
            "Selecting previously unselected package coinor-cbc.\n",
            "Preparing to unpack .../5-coinor-cbc_2.10.7+ds1-1_amd64.deb ...\n",
            "Unpacking coinor-cbc (2.10.7+ds1-1) ...\n",
            "Setting up coinor-libcoinutils3v5:amd64 (2.11.4+repack1-2) ...\n",
            "Setting up coinor-libosi1v5:amd64 (0.108.6+repack1-2) ...\n",
            "Setting up coinor-libclp1 (1.17.5+repack1-1) ...\n",
            "Setting up coinor-libcgl1:amd64 (0.60.3+repack1-3) ...\n",
            "Setting up coinor-libcbc3:amd64 (2.10.7+ds1-1) ...\n",
            "Setting up coinor-cbc (2.10.7+ds1-1) ...\n",
            "Processing triggers for man-db (2.10.2-1) ...\n",
            "Processing triggers for libc-bin (2.35-0ubuntu3.1) ...\n",
            "/sbin/ldconfig.real: /usr/local/lib/libtbbbind_2_0.so.3 is not a symbolic link\n",
            "\n",
            "/sbin/ldconfig.real: /usr/local/lib/libtbbmalloc.so.2 is not a symbolic link\n",
            "\n",
            "/sbin/ldconfig.real: /usr/local/lib/libtbbbind_2_5.so.3 is not a symbolic link\n",
            "\n",
            "/sbin/ldconfig.real: /usr/local/lib/libtbbmalloc_proxy.so.2 is not a symbolic link\n",
            "\n",
            "/sbin/ldconfig.real: /usr/local/lib/libtbb.so.12 is not a symbolic link\n",
            "\n",
            "/sbin/ldconfig.real: /usr/local/lib/libtbbbind.so.3 is not a symbolic link\n",
            "\n"
          ]
        }
      ],
      "source": [
        "!pip -q install pyomo\n",
        "!apt-get -q install -y -qq coinor-cbc"
      ]
    },
    {
      "cell_type": "markdown",
      "source": [
        "**Question 1: Course Registration**"
      ],
      "metadata": {
        "id": "-XczdWMJ79v-"
      }
    },
    {
      "cell_type": "code",
      "source": [
        "from pyomo.environ import *\n",
        "import numpy as np"
      ],
      "metadata": {
        "id": "OTFj2TU85_Df"
      },
      "execution_count": 2,
      "outputs": []
    },
    {
      "cell_type": "code",
      "source": [
        "# N: no. of variables\n",
        "# M: no. of constraints\n",
        "\n",
        "N, M = 11, 11\n",
        "\n",
        "# vector of cost cofficient\n",
        "c = np.array([3, 2, 6, 5, 5, 4, 6, 8, 8, 5, 4])    # credits of all course\n",
        "\n",
        "# matrix of matrix for coefficient of constraints and vector of resource constraints\n",
        "A = np.array([\n",
        "              [1, 1, 1, 1, 1, 1, 1, 1, 1, 1, 1],   # sum(x_i) <= 9\n",
        "              [0, 0, 1, 0, 0, 0, 0, 1, 0, 0, 0],   # x_2 + x_7 <= 1\n",
        "              [0, 0, 0, 0, 1, 0, 0, 0, 0, 1, 0],   # x_4 + x_9 <= 1\n",
        "              [0, 0, 1, 0, 0, 0, 0, 0, 1, 0, 0],   # x_2 + x_8 <= 1\n",
        "              [-1, 0, 0, 0, 0, 0, 0, 0, 0, 0, 1],  # x_10 - x_0 <= 0\n",
        "              [1, 1, 1, 0, 0, 0, 0, 0, 0, 0, 0],   # x_0 + x_1 + x_2 <= 2\n",
        "              [0, 0, 0, 0, 0, 1, 1, 0, 0, 0, 0],   # x_5 + x_6 <= 1\n",
        "              [0, 0, 0, 1, 0, 0, 1, 0, 0, 1, 0],   # x_3 + x_6 + x_9 <= 2\n",
        "\n",
        "              [1, 1, 1, 1, 1, 1, 1, 1, 1, 1, 1],   # sum(x_i) >= 5\n",
        "              [1, 1, 1, 0, 0, 0, 0, 0, 0, 0, 0],   # x_0 + x_1 + x_2 >= 1\n",
        "              c,                                   # sum(c_i*x_i) >= 30\n",
        "              ])\n",
        "\n",
        "b = np.array([9, 1, 1, 1, 0, 2, 1, 2, 5, 1, 30])"
      ],
      "metadata": {
        "id": "2-ECICHi6JjW"
      },
      "execution_count": 3,
      "outputs": []
    },
    {
      "cell_type": "code",
      "source": [
        "# defining empty pyomo model as ILP_Model\n",
        "MILP_Model = ConcreteModel()\n",
        "\n",
        "# variable are defined as NonNegativeIntegers\n",
        "MILP_Model.x = Var(np.arange(N), domain = Binary, bounds= (0,1))"
      ],
      "metadata": {
        "id": "HWd_nTif6Vpd"
      },
      "execution_count": 4,
      "outputs": []
    },
    {
      "cell_type": "code",
      "source": [
        "MILP_Model.constraints = ConstraintList()\n",
        "\n",
        "[MILP_Model.constraints.add(sum(A[i][j]*MILP_Model.x[j] for j in range(N)) <= b[i]) for i in range(8)]\n",
        "\n",
        "[MILP_Model.constraints.add(sum(A[i][j]*MILP_Model.x[j] for j in range(N)) >= b[i]) for i in range(8, 11)]\n",
        "\n",
        "#[MILP_Model.constraints.add(sum(A[-1][j]*MILP_Model.x[j]*c[j] for j in range(N)) >= b[-1])]"
      ],
      "metadata": {
        "colab": {
          "base_uri": "https://localhost:8080/"
        },
        "id": "M_gHkX7y6cpc",
        "outputId": "fa7b8f3d-b7c4-40c4-c44f-41cc77e05bfa"
      },
      "execution_count": 5,
      "outputs": [
        {
          "output_type": "execute_result",
          "data": {
            "text/plain": [
              "[<pyomo.core.base.constraint._GeneralConstraintData at 0x7b5a762b5de0>,\n",
              " <pyomo.core.base.constraint._GeneralConstraintData at 0x7b5a59890340>,\n",
              " <pyomo.core.base.constraint._GeneralConstraintData at 0x7b5a598903a0>]"
            ]
          },
          "metadata": {},
          "execution_count": 5
        }
      ]
    },
    {
      "cell_type": "code",
      "source": [
        "# objective for above formulation defined\n",
        "MILP_Model.Objective = Objective(expr = sum(c[j]*MILP_Model.x[j] for j in range(N)), sense = maximize)\n",
        "\n",
        "# printing your formulation\n",
        "MILP_Model.pprint()"
      ],
      "metadata": {
        "colab": {
          "base_uri": "https://localhost:8080/"
        },
        "id": "3foWE1-s6eND",
        "outputId": "b8158632-0377-46f4-a3f4-f60f3f4d22e6"
      },
      "execution_count": 6,
      "outputs": [
        {
          "output_type": "stream",
          "name": "stdout",
          "text": [
            "2 Set Declarations\n",
            "    constraints_index : Size=1, Index=None, Ordered=Insertion\n",
            "        Key  : Dimen : Domain : Size : Members\n",
            "        None :     1 :    Any :   11 : {1, 2, 3, 4, 5, 6, 7, 8, 9, 10, 11}\n",
            "    x_index : Size=1, Index=None, Ordered=False\n",
            "        Key  : Dimen : Domain : Size : Members\n",
            "        None :     1 :    Any :   11 : {0, 1, 2, 3, 4, 5, 6, 7, 8, 9, 10}\n",
            "\n",
            "1 Var Declarations\n",
            "    x : Size=11, Index=x_index\n",
            "        Key : Lower : Value : Upper : Fixed : Stale : Domain\n",
            "          0 :     0 :  None :     1 : False :  True : Binary\n",
            "          1 :     0 :  None :     1 : False :  True : Binary\n",
            "          2 :     0 :  None :     1 : False :  True : Binary\n",
            "          3 :     0 :  None :     1 : False :  True : Binary\n",
            "          4 :     0 :  None :     1 : False :  True : Binary\n",
            "          5 :     0 :  None :     1 : False :  True : Binary\n",
            "          6 :     0 :  None :     1 : False :  True : Binary\n",
            "          7 :     0 :  None :     1 : False :  True : Binary\n",
            "          8 :     0 :  None :     1 : False :  True : Binary\n",
            "          9 :     0 :  None :     1 : False :  True : Binary\n",
            "         10 :     0 :  None :     1 : False :  True : Binary\n",
            "\n",
            "1 Objective Declarations\n",
            "    Objective : Size=1, Index=None, Active=True\n",
            "        Key  : Active : Sense    : Expression\n",
            "        None :   True : maximize : 3*x[0] + 2*x[1] + 6*x[2] + 5*x[3] + 5*x[4] + 4*x[5] + 6*x[6] + 8*x[7] + 8*x[8] + 5*x[9] + 4*x[10]\n",
            "\n",
            "1 Constraint Declarations\n",
            "    constraints : Size=11, Index=constraints_index, Active=True\n",
            "        Key : Lower : Body                                                                                              : Upper : Active\n",
            "          1 :  -Inf :                       x[0] + x[1] + x[2] + x[3] + x[4] + x[5] + x[6] + x[7] + x[8] + x[9] + x[10] :   9.0 :   True\n",
            "          2 :  -Inf :     0*x[0] + 0*x[1] + x[2] + 0*x[3] + 0*x[4] + 0*x[5] + 0*x[6] + x[7] + 0*x[8] + 0*x[9] + 0*x[10] :   1.0 :   True\n",
            "          3 :  -Inf :     0*x[0] + 0*x[1] + 0*x[2] + 0*x[3] + x[4] + 0*x[5] + 0*x[6] + 0*x[7] + 0*x[8] + x[9] + 0*x[10] :   1.0 :   True\n",
            "          4 :  -Inf :     0*x[0] + 0*x[1] + x[2] + 0*x[3] + 0*x[4] + 0*x[5] + 0*x[6] + 0*x[7] + x[8] + 0*x[9] + 0*x[10] :   1.0 :   True\n",
            "          5 :  -Inf :   - x[0] + 0*x[1] + 0*x[2] + 0*x[3] + 0*x[4] + 0*x[5] + 0*x[6] + 0*x[7] + 0*x[8] + 0*x[9] + x[10] :   0.0 :   True\n",
            "          6 :  -Inf :       x[0] + x[1] + x[2] + 0*x[3] + 0*x[4] + 0*x[5] + 0*x[6] + 0*x[7] + 0*x[8] + 0*x[9] + 0*x[10] :   2.0 :   True\n",
            "          7 :  -Inf :     0*x[0] + 0*x[1] + 0*x[2] + 0*x[3] + 0*x[4] + x[5] + x[6] + 0*x[7] + 0*x[8] + 0*x[9] + 0*x[10] :   1.0 :   True\n",
            "          8 :  -Inf :       0*x[0] + 0*x[1] + 0*x[2] + x[3] + 0*x[4] + 0*x[5] + x[6] + 0*x[7] + 0*x[8] + x[9] + 0*x[10] :   2.0 :   True\n",
            "          9 :   5.0 :                       x[0] + x[1] + x[2] + x[3] + x[4] + x[5] + x[6] + x[7] + x[8] + x[9] + x[10] :  +Inf :   True\n",
            "         10 :   1.0 :       x[0] + x[1] + x[2] + 0*x[3] + 0*x[4] + 0*x[5] + 0*x[6] + 0*x[7] + 0*x[8] + 0*x[9] + 0*x[10] :  +Inf :   True\n",
            "         11 :  30.0 : 3*x[0] + 2*x[1] + 6*x[2] + 5*x[3] + 5*x[4] + 4*x[5] + 6*x[6] + 8*x[7] + 8*x[8] + 5*x[9] + 4*x[10] :  +Inf :   True\n",
            "\n",
            "5 Declarations: x_index x constraints_index constraints Objective\n"
          ]
        }
      ]
    },
    {
      "cell_type": "code",
      "source": [
        "optCBC = SolverFactory('cbc')\n",
        "\n",
        "resultCBC = optCBC.solve(MILP_Model)\n",
        "print(resultCBC)\n",
        "\n",
        "def OptResults(Model):\n",
        "\n",
        "  print('\\nObjective = ', Model.Objective())\n",
        "\n",
        "  print('\\nDecision Variables')\n",
        "  for i in np.arange(N):\n",
        "    print('x[',i,'] = ', Model.x[i].value)\n",
        "  print('\\nConstraints')\n",
        "  Model.constraints.display()\n",
        "\n",
        "MILP_ModelSolution = OptResults(MILP_Model)"
      ],
      "metadata": {
        "colab": {
          "base_uri": "https://localhost:8080/"
        },
        "id": "Lws-da136iYd",
        "outputId": "d062136f-c324-4cc3-cf93-a480c8f0ced6"
      },
      "execution_count": 7,
      "outputs": [
        {
          "output_type": "stream",
          "name": "stdout",
          "text": [
            "\n",
            "Problem: \n",
            "- Name: unknown\n",
            "  Lower bound: 41.0\n",
            "  Upper bound: 41.0\n",
            "  Number of objectives: 1\n",
            "  Number of constraints: 11\n",
            "  Number of variables: 11\n",
            "  Number of binary variables: 11\n",
            "  Number of integer variables: 11\n",
            "  Number of nonzeros: 11\n",
            "  Sense: maximize\n",
            "Solver: \n",
            "- Status: ok\n",
            "  User time: -1.0\n",
            "  System time: 0.0\n",
            "  Wallclock time: 0.01\n",
            "  Termination condition: optimal\n",
            "  Termination message: Model was solved to optimality (subject to tolerances), and an optimal solution is available.\n",
            "  Statistics: \n",
            "    Branch and bound: \n",
            "      Number of bounded subproblems: 0\n",
            "      Number of created subproblems: 0\n",
            "    Black box: \n",
            "      Number of iterations: 0\n",
            "  Error rc: 0\n",
            "  Time: 0.06491231918334961\n",
            "Solution: \n",
            "- number of solutions: 0\n",
            "  number of solutions displayed: 0\n",
            "\n",
            "\n",
            "Objective =  41.0\n",
            "\n",
            "Decision Variables\n",
            "x[ 0 ] =  1.0\n",
            "x[ 1 ] =  1.0\n",
            "x[ 2 ] =  0.0\n",
            "x[ 3 ] =  1.0\n",
            "x[ 4 ] =  1.0\n",
            "x[ 5 ] =  0.0\n",
            "x[ 6 ] =  1.0\n",
            "x[ 7 ] =  1.0\n",
            "x[ 8 ] =  1.0\n",
            "x[ 9 ] =  0.0\n",
            "x[ 10 ] =  1.0\n",
            "\n",
            "Constraints\n",
            "constraints : Size=11\n",
            "    Key : Lower : Body : Upper\n",
            "      1 :  None :  8.0 :   9.0\n",
            "      2 :  None :  1.0 :   1.0\n",
            "      3 :  None :  1.0 :   1.0\n",
            "      4 :  None :  1.0 :   1.0\n",
            "      5 :  None :  0.0 :   0.0\n",
            "      6 :  None :  2.0 :   2.0\n",
            "      7 :  None :  1.0 :   1.0\n",
            "      8 :  None :  2.0 :   2.0\n",
            "      9 :   5.0 :  8.0 :  None\n",
            "     10 :   1.0 :  2.0 :  None\n",
            "     11 :  30.0 : 41.0 :  None\n"
          ]
        }
      ]
    },
    {
      "cell_type": "code",
      "source": [
        "# Model\n",
        "Linear_Model = ConcreteModel()\n",
        "\n",
        "# Variables\n",
        "Linear_Model.x = Var(np.arange(N), domain = Reals, bounds= (0,1))\n",
        "\n",
        "# Constraints\n",
        "Linear_Model.constraints = ConstraintList()\n",
        "\n",
        "[Linear_Model.constraints.add(sum(A[i][j]*Linear_Model.x[j] for j in range(N)) <= b[i]) for i in range(8)]\n",
        "\n",
        "[Linear_Model.constraints.add(sum(A[i][j]*Linear_Model.x[j] for j in range(N)) >= b[i]) for i in range(8, 11)]\n",
        "\n",
        "# Objective\n",
        "Linear_Model.Objective = Objective(expr = sum(c[j]*Linear_Model.x[j] for j in range(N)), sense = maximize)\n",
        "\n",
        "# Print the built Model\n",
        "Linear_Model.pprint()"
      ],
      "metadata": {
        "colab": {
          "base_uri": "https://localhost:8080/"
        },
        "id": "EP8eR6PL6m3_",
        "outputId": "280adb40-29e5-4e71-e471-fd027900b679"
      },
      "execution_count": 8,
      "outputs": [
        {
          "output_type": "stream",
          "name": "stdout",
          "text": [
            "2 Set Declarations\n",
            "    constraints_index : Size=1, Index=None, Ordered=Insertion\n",
            "        Key  : Dimen : Domain : Size : Members\n",
            "        None :     1 :    Any :   11 : {1, 2, 3, 4, 5, 6, 7, 8, 9, 10, 11}\n",
            "    x_index : Size=1, Index=None, Ordered=False\n",
            "        Key  : Dimen : Domain : Size : Members\n",
            "        None :     1 :    Any :   11 : {0, 1, 2, 3, 4, 5, 6, 7, 8, 9, 10}\n",
            "\n",
            "1 Var Declarations\n",
            "    x : Size=11, Index=x_index\n",
            "        Key : Lower : Value : Upper : Fixed : Stale : Domain\n",
            "          0 :     0 :  None :     1 : False :  True :  Reals\n",
            "          1 :     0 :  None :     1 : False :  True :  Reals\n",
            "          2 :     0 :  None :     1 : False :  True :  Reals\n",
            "          3 :     0 :  None :     1 : False :  True :  Reals\n",
            "          4 :     0 :  None :     1 : False :  True :  Reals\n",
            "          5 :     0 :  None :     1 : False :  True :  Reals\n",
            "          6 :     0 :  None :     1 : False :  True :  Reals\n",
            "          7 :     0 :  None :     1 : False :  True :  Reals\n",
            "          8 :     0 :  None :     1 : False :  True :  Reals\n",
            "          9 :     0 :  None :     1 : False :  True :  Reals\n",
            "         10 :     0 :  None :     1 : False :  True :  Reals\n",
            "\n",
            "1 Objective Declarations\n",
            "    Objective : Size=1, Index=None, Active=True\n",
            "        Key  : Active : Sense    : Expression\n",
            "        None :   True : maximize : 3*x[0] + 2*x[1] + 6*x[2] + 5*x[3] + 5*x[4] + 4*x[5] + 6*x[6] + 8*x[7] + 8*x[8] + 5*x[9] + 4*x[10]\n",
            "\n",
            "1 Constraint Declarations\n",
            "    constraints : Size=11, Index=constraints_index, Active=True\n",
            "        Key : Lower : Body                                                                                              : Upper : Active\n",
            "          1 :  -Inf :                       x[0] + x[1] + x[2] + x[3] + x[4] + x[5] + x[6] + x[7] + x[8] + x[9] + x[10] :   9.0 :   True\n",
            "          2 :  -Inf :     0*x[0] + 0*x[1] + x[2] + 0*x[3] + 0*x[4] + 0*x[5] + 0*x[6] + x[7] + 0*x[8] + 0*x[9] + 0*x[10] :   1.0 :   True\n",
            "          3 :  -Inf :     0*x[0] + 0*x[1] + 0*x[2] + 0*x[3] + x[4] + 0*x[5] + 0*x[6] + 0*x[7] + 0*x[8] + x[9] + 0*x[10] :   1.0 :   True\n",
            "          4 :  -Inf :     0*x[0] + 0*x[1] + x[2] + 0*x[3] + 0*x[4] + 0*x[5] + 0*x[6] + 0*x[7] + x[8] + 0*x[9] + 0*x[10] :   1.0 :   True\n",
            "          5 :  -Inf :   - x[0] + 0*x[1] + 0*x[2] + 0*x[3] + 0*x[4] + 0*x[5] + 0*x[6] + 0*x[7] + 0*x[8] + 0*x[9] + x[10] :   0.0 :   True\n",
            "          6 :  -Inf :       x[0] + x[1] + x[2] + 0*x[3] + 0*x[4] + 0*x[5] + 0*x[6] + 0*x[7] + 0*x[8] + 0*x[9] + 0*x[10] :   2.0 :   True\n",
            "          7 :  -Inf :     0*x[0] + 0*x[1] + 0*x[2] + 0*x[3] + 0*x[4] + x[5] + x[6] + 0*x[7] + 0*x[8] + 0*x[9] + 0*x[10] :   1.0 :   True\n",
            "          8 :  -Inf :       0*x[0] + 0*x[1] + 0*x[2] + x[3] + 0*x[4] + 0*x[5] + x[6] + 0*x[7] + 0*x[8] + x[9] + 0*x[10] :   2.0 :   True\n",
            "          9 :   5.0 :                       x[0] + x[1] + x[2] + x[3] + x[4] + x[5] + x[6] + x[7] + x[8] + x[9] + x[10] :  +Inf :   True\n",
            "         10 :   1.0 :       x[0] + x[1] + x[2] + 0*x[3] + 0*x[4] + 0*x[5] + 0*x[6] + 0*x[7] + 0*x[8] + 0*x[9] + 0*x[10] :  +Inf :   True\n",
            "         11 :  30.0 : 3*x[0] + 2*x[1] + 6*x[2] + 5*x[3] + 5*x[4] + 4*x[5] + 6*x[6] + 8*x[7] + 8*x[8] + 5*x[9] + 4*x[10] :  +Inf :   True\n",
            "\n",
            "5 Declarations: x_index x constraints_index constraints Objective\n"
          ]
        }
      ]
    },
    {
      "cell_type": "code",
      "source": [
        "# Solve\n",
        "optCBC = SolverFactory('cbc')\n",
        "\n",
        "# Results\n",
        "resultCBC = optCBC.solve(Linear_Model)\n",
        "print(resultCBC)\n",
        "\n",
        "# Value obtained for objective and constraints\n",
        "Linear_Model_Solution = OptResults(Linear_Model)"
      ],
      "metadata": {
        "colab": {
          "base_uri": "https://localhost:8080/"
        },
        "id": "s43qRKwW6rpa",
        "outputId": "f4321d1b-cf6a-4925-d660-c20f0c253b99"
      },
      "execution_count": 9,
      "outputs": [
        {
          "output_type": "stream",
          "name": "stdout",
          "text": [
            "\n",
            "Problem: \n",
            "- Name: unknown\n",
            "  Lower bound: 41.0\n",
            "  Upper bound: 41.0\n",
            "  Number of objectives: 1\n",
            "  Number of constraints: 11\n",
            "  Number of variables: 11\n",
            "  Number of nonzeros: 11\n",
            "  Sense: maximize\n",
            "Solver: \n",
            "- Status: ok\n",
            "  User time: -1.0\n",
            "  System time: 0.0\n",
            "  Wallclock time: 0.0\n",
            "  Termination condition: optimal\n",
            "  Termination message: Model was solved to optimality (subject to tolerances), and an optimal solution is available.\n",
            "  Statistics: \n",
            "    Branch and bound: \n",
            "      Number of bounded subproblems: None\n",
            "      Number of created subproblems: None\n",
            "    Black box: \n",
            "      Number of iterations: 6\n",
            "  Error rc: 0\n",
            "  Time: 0.02521228790283203\n",
            "Solution: \n",
            "- number of solutions: 0\n",
            "  number of solutions displayed: 0\n",
            "\n",
            "\n",
            "Objective =  41.0\n",
            "\n",
            "Decision Variables\n",
            "x[ 0 ] =  1.0\n",
            "x[ 1 ] =  1.0\n",
            "x[ 2 ] =  0.0\n",
            "x[ 3 ] =  1.0\n",
            "x[ 4 ] =  1.0\n",
            "x[ 5 ] =  0.0\n",
            "x[ 6 ] =  1.0\n",
            "x[ 7 ] =  1.0\n",
            "x[ 8 ] =  1.0\n",
            "x[ 9 ] =  0.0\n",
            "x[ 10 ] =  1.0\n",
            "\n",
            "Constraints\n",
            "constraints : Size=11\n",
            "    Key : Lower : Body : Upper\n",
            "      1 :  None :  8.0 :   9.0\n",
            "      2 :  None :  1.0 :   1.0\n",
            "      3 :  None :  1.0 :   1.0\n",
            "      4 :  None :  1.0 :   1.0\n",
            "      5 :  None :  0.0 :   0.0\n",
            "      6 :  None :  2.0 :   2.0\n",
            "      7 :  None :  1.0 :   1.0\n",
            "      8 :  None :  2.0 :   2.0\n",
            "      9 :   5.0 :  8.0 :  None\n",
            "     10 :   1.0 :  2.0 :  None\n",
            "     11 :  30.0 : 41.0 :  None\n"
          ]
        }
      ]
    },
    {
      "cell_type": "code",
      "source": [
        "# N: no. of variables\n",
        "# M: no. of constraints\n",
        "\n",
        "N, M = 12, 12\n",
        "\n",
        "# vector of cost cofficient\n",
        "c_new = np.append(c, 9)    # credits of all course\n",
        "\n",
        "# Add new coulm for C11 coefficients\n",
        "C11_col = np.zeros(A.shape[1])\n",
        "C11_col = np.expand_dims(C11_col, 1)\n",
        "A_new = np.hstack((A, C11_col))\n",
        "\n",
        "# Add credits of C11 for sum(c_i*x_i) >= 30 constraint\n",
        "A_new[-1, -1] = 9\n",
        "\n",
        "# Add coeeficients of the new constraint\n",
        "A_new = np.vstack((A_new, [0, 0, 0, 0, 0, 0, 0, 1, 1, 1, 0, 1]))\n",
        "\n",
        "# Update b\n",
        "b_new = np.append(b, 1)"
      ],
      "metadata": {
        "id": "nIKHwJn16vhw"
      },
      "execution_count": 10,
      "outputs": []
    },
    {
      "cell_type": "code",
      "source": [
        "# Define model\n",
        "MILP_Model = ConcreteModel()\n",
        "\n",
        "# variables\n",
        "MILP_Model.x = Var(np.arange(N), domain = Binary, bounds= (0,1))\n",
        "\n",
        "# Constraints\n",
        "MILP_Model.constraints = ConstraintList()\n",
        "\n",
        "[MILP_Model.constraints.add(sum(A_new[i][j]*MILP_Model.x[j] for j in range(N)) <= b_new[i]) for i in range(8)]\n",
        "\n",
        "[MILP_Model.constraints.add(sum(A_new[i][j]*MILP_Model.x[j] for j in range(N)) >= b_new[i]) for i in range(8, 11)]\n",
        "\n",
        "# new constraint for C11\n",
        "[MILP_Model.constraints.add(sum(A_new[-1][j]*MILP_Model.x[j] for j in range(N)) <= b_new[-1])]\n",
        "\n",
        "# Objective\n",
        "MILP_Model.Objective = Objective(expr = sum(c_new[j]*MILP_Model.x[j] for j in range(N)), sense = maximize)\n",
        "\n",
        "# Print the built Model\n",
        "MILP_Model.pprint()"
      ],
      "metadata": {
        "colab": {
          "base_uri": "https://localhost:8080/"
        },
        "id": "wgBtk6Zp63Nm",
        "outputId": "e3e38482-2026-4ded-a0ae-1326c07f5af4"
      },
      "execution_count": 11,
      "outputs": [
        {
          "output_type": "stream",
          "name": "stdout",
          "text": [
            "2 Set Declarations\n",
            "    constraints_index : Size=1, Index=None, Ordered=Insertion\n",
            "        Key  : Dimen : Domain : Size : Members\n",
            "        None :     1 :    Any :   12 : {1, 2, 3, 4, 5, 6, 7, 8, 9, 10, 11, 12}\n",
            "    x_index : Size=1, Index=None, Ordered=False\n",
            "        Key  : Dimen : Domain : Size : Members\n",
            "        None :     1 :    Any :   12 : {0, 1, 2, 3, 4, 5, 6, 7, 8, 9, 10, 11}\n",
            "\n",
            "1 Var Declarations\n",
            "    x : Size=12, Index=x_index\n",
            "        Key : Lower : Value : Upper : Fixed : Stale : Domain\n",
            "          0 :     0 :  None :     1 : False :  True : Binary\n",
            "          1 :     0 :  None :     1 : False :  True : Binary\n",
            "          2 :     0 :  None :     1 : False :  True : Binary\n",
            "          3 :     0 :  None :     1 : False :  True : Binary\n",
            "          4 :     0 :  None :     1 : False :  True : Binary\n",
            "          5 :     0 :  None :     1 : False :  True : Binary\n",
            "          6 :     0 :  None :     1 : False :  True : Binary\n",
            "          7 :     0 :  None :     1 : False :  True : Binary\n",
            "          8 :     0 :  None :     1 : False :  True : Binary\n",
            "          9 :     0 :  None :     1 : False :  True : Binary\n",
            "         10 :     0 :  None :     1 : False :  True : Binary\n",
            "         11 :     0 :  None :     1 : False :  True : Binary\n",
            "\n",
            "1 Objective Declarations\n",
            "    Objective : Size=1, Index=None, Active=True\n",
            "        Key  : Active : Sense    : Expression\n",
            "        None :   True : maximize : 3*x[0] + 2*x[1] + 6*x[2] + 5*x[3] + 5*x[4] + 4*x[5] + 6*x[6] + 8*x[7] + 8*x[8] + 5*x[9] + 4*x[10] + 9*x[11]\n",
            "\n",
            "1 Constraint Declarations\n",
            "    constraints : Size=12, Index=constraints_index, Active=True\n",
            "        Key : Lower : Body                                                                                                                                : Upper : Active\n",
            "          1 :  -Inf :                                             x[0] + x[1] + x[2] + x[3] + x[4] + x[5] + x[6] + x[7] + x[8] + x[9] + x[10] + 0.0*x[11] :   9.0 :   True\n",
            "          2 :  -Inf :         0.0*x[0] + 0.0*x[1] + x[2] + 0.0*x[3] + 0.0*x[4] + 0.0*x[5] + 0.0*x[6] + x[7] + 0.0*x[8] + 0.0*x[9] + 0.0*x[10] + 0.0*x[11] :   1.0 :   True\n",
            "          3 :  -Inf :         0.0*x[0] + 0.0*x[1] + 0.0*x[2] + 0.0*x[3] + x[4] + 0.0*x[5] + 0.0*x[6] + 0.0*x[7] + 0.0*x[8] + x[9] + 0.0*x[10] + 0.0*x[11] :   1.0 :   True\n",
            "          4 :  -Inf :         0.0*x[0] + 0.0*x[1] + x[2] + 0.0*x[3] + 0.0*x[4] + 0.0*x[5] + 0.0*x[6] + 0.0*x[7] + x[8] + 0.0*x[9] + 0.0*x[10] + 0.0*x[11] :   1.0 :   True\n",
            "          5 :  -Inf :       - x[0] + 0.0*x[1] + 0.0*x[2] + 0.0*x[3] + 0.0*x[4] + 0.0*x[5] + 0.0*x[6] + 0.0*x[7] + 0.0*x[8] + 0.0*x[9] + x[10] + 0.0*x[11] :   0.0 :   True\n",
            "          6 :  -Inf :             x[0] + x[1] + x[2] + 0.0*x[3] + 0.0*x[4] + 0.0*x[5] + 0.0*x[6] + 0.0*x[7] + 0.0*x[8] + 0.0*x[9] + 0.0*x[10] + 0.0*x[11] :   2.0 :   True\n",
            "          7 :  -Inf :         0.0*x[0] + 0.0*x[1] + 0.0*x[2] + 0.0*x[3] + 0.0*x[4] + x[5] + x[6] + 0.0*x[7] + 0.0*x[8] + 0.0*x[9] + 0.0*x[10] + 0.0*x[11] :   1.0 :   True\n",
            "          8 :  -Inf :             0.0*x[0] + 0.0*x[1] + 0.0*x[2] + x[3] + 0.0*x[4] + 0.0*x[5] + x[6] + 0.0*x[7] + 0.0*x[8] + x[9] + 0.0*x[10] + 0.0*x[11] :   2.0 :   True\n",
            "          9 :   5.0 :                                             x[0] + x[1] + x[2] + x[3] + x[4] + x[5] + x[6] + x[7] + x[8] + x[9] + x[10] + 0.0*x[11] :  +Inf :   True\n",
            "         10 :   1.0 :             x[0] + x[1] + x[2] + 0.0*x[3] + 0.0*x[4] + 0.0*x[5] + 0.0*x[6] + 0.0*x[7] + 0.0*x[8] + 0.0*x[9] + 0.0*x[10] + 0.0*x[11] :  +Inf :   True\n",
            "         11 :  30.0 : 3.0*x[0] + 2.0*x[1] + 6.0*x[2] + 5.0*x[3] + 5.0*x[4] + 4.0*x[5] + 6.0*x[6] + 8.0*x[7] + 8.0*x[8] + 5.0*x[9] + 4.0*x[10] + 9.0*x[11] :  +Inf :   True\n",
            "         12 :  -Inf :                 0.0*x[0] + 0.0*x[1] + 0.0*x[2] + 0.0*x[3] + 0.0*x[4] + 0.0*x[5] + 0.0*x[6] + x[7] + x[8] + x[9] + 0.0*x[10] + x[11] :   1.0 :   True\n",
            "\n",
            "5 Declarations: x_index x constraints_index constraints Objective\n"
          ]
        }
      ]
    },
    {
      "cell_type": "code",
      "source": [
        "# Solve\n",
        "optCBC = SolverFactory('cbc')\n",
        "\n",
        "# Results\n",
        "resultCBC = optCBC.solve(MILP_Model)\n",
        "print(resultCBC)\n",
        "\n",
        "# Value obtained for objective and constraints\n",
        "MILP_Model_Solution = OptResults(MILP_Model)"
      ],
      "metadata": {
        "colab": {
          "base_uri": "https://localhost:8080/"
        },
        "id": "RCoM2rQK7BtP",
        "outputId": "f962b98c-9a7f-4403-a40f-8c8caa8f607a"
      },
      "execution_count": 12,
      "outputs": [
        {
          "output_type": "stream",
          "name": "stdout",
          "text": [
            "\n",
            "Problem: \n",
            "- Name: unknown\n",
            "  Lower bound: 38.0\n",
            "  Upper bound: 38.0\n",
            "  Number of objectives: 1\n",
            "  Number of constraints: 12\n",
            "  Number of variables: 12\n",
            "  Number of binary variables: 12\n",
            "  Number of integer variables: 12\n",
            "  Number of nonzeros: 12\n",
            "  Sense: maximize\n",
            "Solver: \n",
            "- Status: ok\n",
            "  User time: -1.0\n",
            "  System time: 0.01\n",
            "  Wallclock time: 0.01\n",
            "  Termination condition: optimal\n",
            "  Termination message: Model was solved to optimality (subject to tolerances), and an optimal solution is available.\n",
            "  Statistics: \n",
            "    Branch and bound: \n",
            "      Number of bounded subproblems: 0\n",
            "      Number of created subproblems: 0\n",
            "    Black box: \n",
            "      Number of iterations: 0\n",
            "  Error rc: 0\n",
            "  Time: 0.03386068344116211\n",
            "Solution: \n",
            "- number of solutions: 0\n",
            "  number of solutions displayed: 0\n",
            "\n",
            "\n",
            "Objective =  38.0\n",
            "\n",
            "Decision Variables\n",
            "x[ 0 ] =  1.0\n",
            "x[ 1 ] =  0.0\n",
            "x[ 2 ] =  1.0\n",
            "x[ 3 ] =  1.0\n",
            "x[ 4 ] =  1.0\n",
            "x[ 5 ] =  0.0\n",
            "x[ 6 ] =  1.0\n",
            "x[ 7 ] =  0.0\n",
            "x[ 8 ] =  0.0\n",
            "x[ 9 ] =  0.0\n",
            "x[ 10 ] =  1.0\n",
            "x[ 11 ] =  1.0\n",
            "\n",
            "Constraints\n",
            "constraints : Size=12\n",
            "    Key : Lower : Body : Upper\n",
            "      1 :  None :  6.0 :   9.0\n",
            "      2 :  None :  1.0 :   1.0\n",
            "      3 :  None :  1.0 :   1.0\n",
            "      4 :  None :  1.0 :   1.0\n",
            "      5 :  None :  0.0 :   0.0\n",
            "      6 :  None :  2.0 :   2.0\n",
            "      7 :  None :  1.0 :   1.0\n",
            "      8 :  None :  2.0 :   2.0\n",
            "      9 :   5.0 :  6.0 :  None\n",
            "     10 :   1.0 :  2.0 :  None\n",
            "     11 :  30.0 : 38.0 :  None\n",
            "     12 :  None :  1.0 :   1.0\n"
          ]
        }
      ]
    },
    {
      "cell_type": "code",
      "source": [
        "# Define model\n",
        "Linear_Model = ConcreteModel()\n",
        "\n",
        "# variables\n",
        "Linear_Model.x = Var(np.arange(N), domain = Reals, bounds= (0,1))\n",
        "\n",
        "# Constraints\n",
        "Linear_Model.constraints = ConstraintList()\n",
        "\n",
        "[Linear_Model.constraints.add(sum(A_new[i][j]*Linear_Model.x[j] for j in range(N)) <= b_new[i]) for i in range(8)]\n",
        "\n",
        "[Linear_Model.constraints.add(sum(A_new[i][j]*Linear_Model.x[j] for j in range(N)) >= b_new[i]) for i in range(8, 11)]\n",
        "\n",
        "# new constraint for C11\n",
        "[Linear_Model.constraints.add(sum(A_new[-1][j]*Linear_Model.x[j] for j in range(N)) <= b_new[-1])]\n",
        "\n",
        "# Objective\n",
        "Linear_Model.Objective = Objective(expr = sum(c_new[j]*Linear_Model.x[j] for j in range(N)), sense = maximize)\n",
        "\n",
        "# Print the built Model\n",
        "Linear_Model.pprint()"
      ],
      "metadata": {
        "colab": {
          "base_uri": "https://localhost:8080/"
        },
        "id": "rzlohuwT7D-v",
        "outputId": "913b76a1-6997-45e5-c7b7-09ca6c0498c2"
      },
      "execution_count": 13,
      "outputs": [
        {
          "output_type": "stream",
          "name": "stdout",
          "text": [
            "2 Set Declarations\n",
            "    constraints_index : Size=1, Index=None, Ordered=Insertion\n",
            "        Key  : Dimen : Domain : Size : Members\n",
            "        None :     1 :    Any :   12 : {1, 2, 3, 4, 5, 6, 7, 8, 9, 10, 11, 12}\n",
            "    x_index : Size=1, Index=None, Ordered=False\n",
            "        Key  : Dimen : Domain : Size : Members\n",
            "        None :     1 :    Any :   12 : {0, 1, 2, 3, 4, 5, 6, 7, 8, 9, 10, 11}\n",
            "\n",
            "1 Var Declarations\n",
            "    x : Size=12, Index=x_index\n",
            "        Key : Lower : Value : Upper : Fixed : Stale : Domain\n",
            "          0 :     0 :  None :     1 : False :  True :  Reals\n",
            "          1 :     0 :  None :     1 : False :  True :  Reals\n",
            "          2 :     0 :  None :     1 : False :  True :  Reals\n",
            "          3 :     0 :  None :     1 : False :  True :  Reals\n",
            "          4 :     0 :  None :     1 : False :  True :  Reals\n",
            "          5 :     0 :  None :     1 : False :  True :  Reals\n",
            "          6 :     0 :  None :     1 : False :  True :  Reals\n",
            "          7 :     0 :  None :     1 : False :  True :  Reals\n",
            "          8 :     0 :  None :     1 : False :  True :  Reals\n",
            "          9 :     0 :  None :     1 : False :  True :  Reals\n",
            "         10 :     0 :  None :     1 : False :  True :  Reals\n",
            "         11 :     0 :  None :     1 : False :  True :  Reals\n",
            "\n",
            "1 Objective Declarations\n",
            "    Objective : Size=1, Index=None, Active=True\n",
            "        Key  : Active : Sense    : Expression\n",
            "        None :   True : maximize : 3*x[0] + 2*x[1] + 6*x[2] + 5*x[3] + 5*x[4] + 4*x[5] + 6*x[6] + 8*x[7] + 8*x[8] + 5*x[9] + 4*x[10] + 9*x[11]\n",
            "\n",
            "1 Constraint Declarations\n",
            "    constraints : Size=12, Index=constraints_index, Active=True\n",
            "        Key : Lower : Body                                                                                                                                : Upper : Active\n",
            "          1 :  -Inf :                                             x[0] + x[1] + x[2] + x[3] + x[4] + x[5] + x[6] + x[7] + x[8] + x[9] + x[10] + 0.0*x[11] :   9.0 :   True\n",
            "          2 :  -Inf :         0.0*x[0] + 0.0*x[1] + x[2] + 0.0*x[3] + 0.0*x[4] + 0.0*x[5] + 0.0*x[6] + x[7] + 0.0*x[8] + 0.0*x[9] + 0.0*x[10] + 0.0*x[11] :   1.0 :   True\n",
            "          3 :  -Inf :         0.0*x[0] + 0.0*x[1] + 0.0*x[2] + 0.0*x[3] + x[4] + 0.0*x[5] + 0.0*x[6] + 0.0*x[7] + 0.0*x[8] + x[9] + 0.0*x[10] + 0.0*x[11] :   1.0 :   True\n",
            "          4 :  -Inf :         0.0*x[0] + 0.0*x[1] + x[2] + 0.0*x[3] + 0.0*x[4] + 0.0*x[5] + 0.0*x[6] + 0.0*x[7] + x[8] + 0.0*x[9] + 0.0*x[10] + 0.0*x[11] :   1.0 :   True\n",
            "          5 :  -Inf :       - x[0] + 0.0*x[1] + 0.0*x[2] + 0.0*x[3] + 0.0*x[4] + 0.0*x[5] + 0.0*x[6] + 0.0*x[7] + 0.0*x[8] + 0.0*x[9] + x[10] + 0.0*x[11] :   0.0 :   True\n",
            "          6 :  -Inf :             x[0] + x[1] + x[2] + 0.0*x[3] + 0.0*x[4] + 0.0*x[5] + 0.0*x[6] + 0.0*x[7] + 0.0*x[8] + 0.0*x[9] + 0.0*x[10] + 0.0*x[11] :   2.0 :   True\n",
            "          7 :  -Inf :         0.0*x[0] + 0.0*x[1] + 0.0*x[2] + 0.0*x[3] + 0.0*x[4] + x[5] + x[6] + 0.0*x[7] + 0.0*x[8] + 0.0*x[9] + 0.0*x[10] + 0.0*x[11] :   1.0 :   True\n",
            "          8 :  -Inf :             0.0*x[0] + 0.0*x[1] + 0.0*x[2] + x[3] + 0.0*x[4] + 0.0*x[5] + x[6] + 0.0*x[7] + 0.0*x[8] + x[9] + 0.0*x[10] + 0.0*x[11] :   2.0 :   True\n",
            "          9 :   5.0 :                                             x[0] + x[1] + x[2] + x[3] + x[4] + x[5] + x[6] + x[7] + x[8] + x[9] + x[10] + 0.0*x[11] :  +Inf :   True\n",
            "         10 :   1.0 :             x[0] + x[1] + x[2] + 0.0*x[3] + 0.0*x[4] + 0.0*x[5] + 0.0*x[6] + 0.0*x[7] + 0.0*x[8] + 0.0*x[9] + 0.0*x[10] + 0.0*x[11] :  +Inf :   True\n",
            "         11 :  30.0 : 3.0*x[0] + 2.0*x[1] + 6.0*x[2] + 5.0*x[3] + 5.0*x[4] + 4.0*x[5] + 6.0*x[6] + 8.0*x[7] + 8.0*x[8] + 5.0*x[9] + 4.0*x[10] + 9.0*x[11] :  +Inf :   True\n",
            "         12 :  -Inf :                 0.0*x[0] + 0.0*x[1] + 0.0*x[2] + 0.0*x[3] + 0.0*x[4] + 0.0*x[5] + 0.0*x[6] + x[7] + x[8] + x[9] + 0.0*x[10] + x[11] :   1.0 :   True\n",
            "\n",
            "5 Declarations: x_index x constraints_index constraints Objective\n"
          ]
        }
      ]
    },
    {
      "cell_type": "code",
      "source": [
        "# Solve\n",
        "optCBC = SolverFactory('cbc')\n",
        "\n",
        "# Results\n",
        "resultCBC = optCBC.solve(Linear_Model)\n",
        "print(resultCBC)\n",
        "\n",
        "# Value obtained for objective and constraints\n",
        "Linear_Model_Solution = OptResults(Linear_Model)"
      ],
      "metadata": {
        "colab": {
          "base_uri": "https://localhost:8080/"
        },
        "id": "wg9Cdjnc7Jf9",
        "outputId": "f0b61bc1-d98f-433e-c6cb-40612246299c"
      },
      "execution_count": 14,
      "outputs": [
        {
          "output_type": "stream",
          "name": "stdout",
          "text": [
            "\n",
            "Problem: \n",
            "- Name: unknown\n",
            "  Lower bound: 38.0\n",
            "  Upper bound: 38.0\n",
            "  Number of objectives: 1\n",
            "  Number of constraints: 12\n",
            "  Number of variables: 12\n",
            "  Number of nonzeros: 12\n",
            "  Sense: maximize\n",
            "Solver: \n",
            "- Status: ok\n",
            "  User time: -1.0\n",
            "  System time: 0.0\n",
            "  Wallclock time: 0.0\n",
            "  Termination condition: optimal\n",
            "  Termination message: Model was solved to optimality (subject to tolerances), and an optimal solution is available.\n",
            "  Statistics: \n",
            "    Branch and bound: \n",
            "      Number of bounded subproblems: None\n",
            "      Number of created subproblems: None\n",
            "    Black box: \n",
            "      Number of iterations: 4\n",
            "  Error rc: 0\n",
            "  Time: 0.026879549026489258\n",
            "Solution: \n",
            "- number of solutions: 0\n",
            "  number of solutions displayed: 0\n",
            "\n",
            "\n",
            "Objective =  38.0\n",
            "\n",
            "Decision Variables\n",
            "x[ 0 ] =  1.0\n",
            "x[ 1 ] =  0.0\n",
            "x[ 2 ] =  1.0\n",
            "x[ 3 ] =  1.0\n",
            "x[ 4 ] =  1.0\n",
            "x[ 5 ] =  0.0\n",
            "x[ 6 ] =  1.0\n",
            "x[ 7 ] =  0.0\n",
            "x[ 8 ] =  0.0\n",
            "x[ 9 ] =  0.0\n",
            "x[ 10 ] =  1.0\n",
            "x[ 11 ] =  1.0\n",
            "\n",
            "Constraints\n",
            "constraints : Size=12\n",
            "    Key : Lower : Body : Upper\n",
            "      1 :  None :  6.0 :   9.0\n",
            "      2 :  None :  1.0 :   1.0\n",
            "      3 :  None :  1.0 :   1.0\n",
            "      4 :  None :  1.0 :   1.0\n",
            "      5 :  None :  0.0 :   0.0\n",
            "      6 :  None :  2.0 :   2.0\n",
            "      7 :  None :  1.0 :   1.0\n",
            "      8 :  None :  2.0 :   2.0\n",
            "      9 :   5.0 :  6.0 :  None\n",
            "     10 :   1.0 :  2.0 :  None\n",
            "     11 :  30.0 : 38.0 :  None\n",
            "     12 :  None :  1.0 :   1.0\n"
          ]
        }
      ]
    },
    {
      "cell_type": "code",
      "source": [],
      "metadata": {
        "id": "He_TAdgN73st"
      },
      "execution_count": 14,
      "outputs": []
    }
  ]
}