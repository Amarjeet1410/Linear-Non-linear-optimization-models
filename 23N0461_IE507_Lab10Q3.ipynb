{
  "nbformat": 4,
  "nbformat_minor": 0,
  "metadata": {
    "colab": {
      "provenance": []
    },
    "kernelspec": {
      "name": "python3",
      "display_name": "Python 3"
    },
    "language_info": {
      "name": "python"
    }
  },
  "cells": [
    {
      "cell_type": "markdown",
      "source": [
        "**Question 3: Transportation Problem**\n"
      ],
      "metadata": {
        "id": "bjbmmCyV9lQ6"
      }
    },
    {
      "cell_type": "code",
      "execution_count": null,
      "metadata": {
        "id": "GM6FpkonNXt5",
        "colab": {
          "base_uri": "https://localhost:8080/"
        },
        "outputId": "1269a7bd-ebbd-4739-cc51-c998eb726417"
      },
      "outputs": [
        {
          "output_type": "stream",
          "name": "stdout",
          "text": [
            "\u001b[2K     \u001b[90m━━━━━━━━━━━━━━━━━━━━━━━━━━━━━━━━━━━━━━━━\u001b[0m \u001b[32m12.7/12.7 MB\u001b[0m \u001b[31m70.2 MB/s\u001b[0m eta \u001b[36m0:00:00\u001b[0m\n",
            "\u001b[2K     \u001b[90m━━━━━━━━━━━━━━━━━━━━━━━━━━━━━━━━━━━━━━━━\u001b[0m \u001b[32m49.6/49.6 kB\u001b[0m \u001b[31m5.0 MB/s\u001b[0m eta \u001b[36m0:00:00\u001b[0m\n",
            "\u001b[?25hSelecting previously unselected package coinor-libcoinutils3v5:amd64.\n",
            "(Reading database ... 120875 files and directories currently installed.)\n",
            "Preparing to unpack .../0-coinor-libcoinutils3v5_2.11.4+repack1-2_amd64.deb ...\n",
            "Unpacking coinor-libcoinutils3v5:amd64 (2.11.4+repack1-2) ...\n",
            "Selecting previously unselected package coinor-libosi1v5:amd64.\n",
            "Preparing to unpack .../1-coinor-libosi1v5_0.108.6+repack1-2_amd64.deb ...\n",
            "Unpacking coinor-libosi1v5:amd64 (0.108.6+repack1-2) ...\n",
            "Selecting previously unselected package coinor-libclp1.\n",
            "Preparing to unpack .../2-coinor-libclp1_1.17.5+repack1-1_amd64.deb ...\n",
            "Unpacking coinor-libclp1 (1.17.5+repack1-1) ...\n",
            "Selecting previously unselected package coinor-libcgl1:amd64.\n",
            "Preparing to unpack .../3-coinor-libcgl1_0.60.3+repack1-3_amd64.deb ...\n",
            "Unpacking coinor-libcgl1:amd64 (0.60.3+repack1-3) ...\n",
            "Selecting previously unselected package coinor-libcbc3:amd64.\n",
            "Preparing to unpack .../4-coinor-libcbc3_2.10.7+ds1-1_amd64.deb ...\n",
            "Unpacking coinor-libcbc3:amd64 (2.10.7+ds1-1) ...\n",
            "Selecting previously unselected package coinor-cbc.\n",
            "Preparing to unpack .../5-coinor-cbc_2.10.7+ds1-1_amd64.deb ...\n",
            "Unpacking coinor-cbc (2.10.7+ds1-1) ...\n",
            "Setting up coinor-libcoinutils3v5:amd64 (2.11.4+repack1-2) ...\n",
            "Setting up coinor-libosi1v5:amd64 (0.108.6+repack1-2) ...\n",
            "Setting up coinor-libclp1 (1.17.5+repack1-1) ...\n",
            "Setting up coinor-libcgl1:amd64 (0.60.3+repack1-3) ...\n",
            "Setting up coinor-libcbc3:amd64 (2.10.7+ds1-1) ...\n",
            "Setting up coinor-cbc (2.10.7+ds1-1) ...\n",
            "Processing triggers for man-db (2.10.2-1) ...\n",
            "Processing triggers for libc-bin (2.35-0ubuntu3.1) ...\n",
            "/sbin/ldconfig.real: /usr/local/lib/libtbbbind_2_0.so.3 is not a symbolic link\n",
            "\n",
            "/sbin/ldconfig.real: /usr/local/lib/libtbbmalloc.so.2 is not a symbolic link\n",
            "\n",
            "/sbin/ldconfig.real: /usr/local/lib/libtbbbind_2_5.so.3 is not a symbolic link\n",
            "\n",
            "/sbin/ldconfig.real: /usr/local/lib/libtbbmalloc_proxy.so.2 is not a symbolic link\n",
            "\n",
            "/sbin/ldconfig.real: /usr/local/lib/libtbb.so.12 is not a symbolic link\n",
            "\n",
            "/sbin/ldconfig.real: /usr/local/lib/libtbbbind.so.3 is not a symbolic link\n",
            "\n"
          ]
        }
      ],
      "source": [
        "!pip -q install pyomo\n",
        "!apt-get -q install -y -qq coinor-cbc"
      ]
    },
    {
      "cell_type": "code",
      "source": [
        "# number of variable representing warehouse (M=8) and markets (N=8)\n",
        "M, N = 8,8\n",
        "\n",
        "# since variable are two dimensional ie., x_{ij}, therefore both row and column indicies are defined below\n",
        "row_indicies = np.arange(M)\n",
        "col_indicies = np.arange(N)\n",
        "\n",
        "# matrix of cost cofficient\n",
        "cost = np.array([[627, 617, 1270, 2072, 1415,2943, 1064, 4265], [159, 1432, 351, 3372, 237, 3373, 1456, 5059], [609, 1943, 77, 3365, 298, 3021, 1484, 4803], [2143, 671, 3876, 537, 1902, 1941, 1682, 3348],\n",
        "                 [2742, 2089, 1931, 2199, 1226, 739, 691, 1128],[2053, 860, 2995, 68, 2069, 2065, 993, 3342],[656, 817, 1245, 2141, 1534, 3351, 1137, 3887],[195, 1862, 1331, 2921, 402, 2825, 563, 4441]])\n",
        "\n",
        "warehouse_cap = np.array([185,350,405,280,105,75,425,270])\n",
        "market_demand = np.array([175, 400, 550, 70, 650, 100, 65, 85])\n",
        "# defining an empty model using pyomo\n",
        "TransModel = ConcreteModel()\n",
        "\n",
        "# defining varibles used in model x_{ij} (in total 8*8 = 64 variables)\n",
        "TransModel.x = Var(row_indicies, col_indicies, domain= NonNegativeReals)\n",
        "\n",
        "# setting up the objective function\n",
        "TransModel.Objective = Objective(expr = sum(cost[i][j]*TransModel.x[i,j] for i in row_indicies for j in col_indicies), sense = minimize)"
      ],
      "metadata": {
        "id": "m5mSvODD-C-6"
      },
      "execution_count": null,
      "outputs": []
    },
    {
      "cell_type": "code",
      "source": [
        "# below we define constraints based on available demand at hub and capacity at plant\n",
        "# creating empty list of constraints\n",
        "TransModel.constraints = ConstraintList()\n",
        "\n",
        "# adding constraint for production capacity\n",
        "[TransModel.constraints.add(expr = sum(TransModel.x[i,j] for j in col_indicies) <= warehouse_cap[i]) for i in row_indicies]\n",
        "[TransModel.constraints.add(expr = sum(TransModel.x[i,j] for i in row_indicies) == market_demand[j]) for j in col_indicies]\n",
        "\n",
        "# printing out pyomo model\n",
        "TransModel.pprint()"
      ],
      "metadata": {
        "colab": {
          "base_uri": "https://localhost:8080/"
        },
        "id": "h3dL6C7q-Vzj",
        "outputId": "635ce04a-0136-47ea-9ca0-00fda4774228"
      },
      "execution_count": null,
      "outputs": [
        {
          "output_type": "stream",
          "name": "stdout",
          "text": [
            "4 Set Declarations\n",
            "    constraints_index : Size=1, Index=None, Ordered=Insertion\n",
            "        Key  : Dimen : Domain : Size : Members\n",
            "        None :     1 :    Any :   16 : {1, 2, 3, 4, 5, 6, 7, 8, 9, 10, 11, 12, 13, 14, 15, 16}\n",
            "    x_index : Size=1, Index=None, Ordered=False\n",
            "        Key  : Dimen : Domain              : Size : Members\n",
            "        None :     2 : x_index_0*x_index_1 :   64 : {(0, 0), (0, 1), (0, 2), (0, 3), (0, 4), (0, 5), (0, 6), (0, 7), (1, 0), (1, 1), (1, 2), (1, 3), (1, 4), (1, 5), (1, 6), (1, 7), (2, 0), (2, 1), (2, 2), (2, 3), (2, 4), (2, 5), (2, 6), (2, 7), (3, 0), (3, 1), (3, 2), (3, 3), (3, 4), (3, 5), (3, 6), (3, 7), (4, 0), (4, 1), (4, 2), (4, 3), (4, 4), (4, 5), (4, 6), (4, 7), (5, 0), (5, 1), (5, 2), (5, 3), (5, 4), (5, 5), (5, 6), (5, 7), (6, 0), (6, 1), (6, 2), (6, 3), (6, 4), (6, 5), (6, 6), (6, 7), (7, 0), (7, 1), (7, 2), (7, 3), (7, 4), (7, 5), (7, 6), (7, 7)}\n",
            "    x_index_0 : Size=1, Index=None, Ordered=False\n",
            "        Key  : Dimen : Domain : Size : Members\n",
            "        None :     1 :    Any :    8 : {0, 1, 2, 3, 4, 5, 6, 7}\n",
            "    x_index_1 : Size=1, Index=None, Ordered=False\n",
            "        Key  : Dimen : Domain : Size : Members\n",
            "        None :     1 :    Any :    8 : {0, 1, 2, 3, 4, 5, 6, 7}\n",
            "\n",
            "1 Var Declarations\n",
            "    x : Size=64, Index=x_index\n",
            "        Key    : Lower : Value : Upper : Fixed : Stale : Domain\n",
            "        (0, 0) :     0 :  None :  None : False :  True : NonNegativeReals\n",
            "        (0, 1) :     0 :  None :  None : False :  True : NonNegativeReals\n",
            "        (0, 2) :     0 :  None :  None : False :  True : NonNegativeReals\n",
            "        (0, 3) :     0 :  None :  None : False :  True : NonNegativeReals\n",
            "        (0, 4) :     0 :  None :  None : False :  True : NonNegativeReals\n",
            "        (0, 5) :     0 :  None :  None : False :  True : NonNegativeReals\n",
            "        (0, 6) :     0 :  None :  None : False :  True : NonNegativeReals\n",
            "        (0, 7) :     0 :  None :  None : False :  True : NonNegativeReals\n",
            "        (1, 0) :     0 :  None :  None : False :  True : NonNegativeReals\n",
            "        (1, 1) :     0 :  None :  None : False :  True : NonNegativeReals\n",
            "        (1, 2) :     0 :  None :  None : False :  True : NonNegativeReals\n",
            "        (1, 3) :     0 :  None :  None : False :  True : NonNegativeReals\n",
            "        (1, 4) :     0 :  None :  None : False :  True : NonNegativeReals\n",
            "        (1, 5) :     0 :  None :  None : False :  True : NonNegativeReals\n",
            "        (1, 6) :     0 :  None :  None : False :  True : NonNegativeReals\n",
            "        (1, 7) :     0 :  None :  None : False :  True : NonNegativeReals\n",
            "        (2, 0) :     0 :  None :  None : False :  True : NonNegativeReals\n",
            "        (2, 1) :     0 :  None :  None : False :  True : NonNegativeReals\n",
            "        (2, 2) :     0 :  None :  None : False :  True : NonNegativeReals\n",
            "        (2, 3) :     0 :  None :  None : False :  True : NonNegativeReals\n",
            "        (2, 4) :     0 :  None :  None : False :  True : NonNegativeReals\n",
            "        (2, 5) :     0 :  None :  None : False :  True : NonNegativeReals\n",
            "        (2, 6) :     0 :  None :  None : False :  True : NonNegativeReals\n",
            "        (2, 7) :     0 :  None :  None : False :  True : NonNegativeReals\n",
            "        (3, 0) :     0 :  None :  None : False :  True : NonNegativeReals\n",
            "        (3, 1) :     0 :  None :  None : False :  True : NonNegativeReals\n",
            "        (3, 2) :     0 :  None :  None : False :  True : NonNegativeReals\n",
            "        (3, 3) :     0 :  None :  None : False :  True : NonNegativeReals\n",
            "        (3, 4) :     0 :  None :  None : False :  True : NonNegativeReals\n",
            "        (3, 5) :     0 :  None :  None : False :  True : NonNegativeReals\n",
            "        (3, 6) :     0 :  None :  None : False :  True : NonNegativeReals\n",
            "        (3, 7) :     0 :  None :  None : False :  True : NonNegativeReals\n",
            "        (4, 0) :     0 :  None :  None : False :  True : NonNegativeReals\n",
            "        (4, 1) :     0 :  None :  None : False :  True : NonNegativeReals\n",
            "        (4, 2) :     0 :  None :  None : False :  True : NonNegativeReals\n",
            "        (4, 3) :     0 :  None :  None : False :  True : NonNegativeReals\n",
            "        (4, 4) :     0 :  None :  None : False :  True : NonNegativeReals\n",
            "        (4, 5) :     0 :  None :  None : False :  True : NonNegativeReals\n",
            "        (4, 6) :     0 :  None :  None : False :  True : NonNegativeReals\n",
            "        (4, 7) :     0 :  None :  None : False :  True : NonNegativeReals\n",
            "        (5, 0) :     0 :  None :  None : False :  True : NonNegativeReals\n",
            "        (5, 1) :     0 :  None :  None : False :  True : NonNegativeReals\n",
            "        (5, 2) :     0 :  None :  None : False :  True : NonNegativeReals\n",
            "        (5, 3) :     0 :  None :  None : False :  True : NonNegativeReals\n",
            "        (5, 4) :     0 :  None :  None : False :  True : NonNegativeReals\n",
            "        (5, 5) :     0 :  None :  None : False :  True : NonNegativeReals\n",
            "        (5, 6) :     0 :  None :  None : False :  True : NonNegativeReals\n",
            "        (5, 7) :     0 :  None :  None : False :  True : NonNegativeReals\n",
            "        (6, 0) :     0 :  None :  None : False :  True : NonNegativeReals\n",
            "        (6, 1) :     0 :  None :  None : False :  True : NonNegativeReals\n",
            "        (6, 2) :     0 :  None :  None : False :  True : NonNegativeReals\n",
            "        (6, 3) :     0 :  None :  None : False :  True : NonNegativeReals\n",
            "        (6, 4) :     0 :  None :  None : False :  True : NonNegativeReals\n",
            "        (6, 5) :     0 :  None :  None : False :  True : NonNegativeReals\n",
            "        (6, 6) :     0 :  None :  None : False :  True : NonNegativeReals\n",
            "        (6, 7) :     0 :  None :  None : False :  True : NonNegativeReals\n",
            "        (7, 0) :     0 :  None :  None : False :  True : NonNegativeReals\n",
            "        (7, 1) :     0 :  None :  None : False :  True : NonNegativeReals\n",
            "        (7, 2) :     0 :  None :  None : False :  True : NonNegativeReals\n",
            "        (7, 3) :     0 :  None :  None : False :  True : NonNegativeReals\n",
            "        (7, 4) :     0 :  None :  None : False :  True : NonNegativeReals\n",
            "        (7, 5) :     0 :  None :  None : False :  True : NonNegativeReals\n",
            "        (7, 6) :     0 :  None :  None : False :  True : NonNegativeReals\n",
            "        (7, 7) :     0 :  None :  None : False :  True : NonNegativeReals\n",
            "\n",
            "1 Objective Declarations\n",
            "    Objective : Size=1, Index=None, Active=True\n",
            "        Key  : Active : Sense    : Expression\n",
            "        None :   True : minimize : 627*x[0,0] + 617*x[0,1] + 1270*x[0,2] + 2072*x[0,3] + 1415*x[0,4] + 2943*x[0,5] + 1064*x[0,6] + 4265*x[0,7] + 159*x[1,0] + 1432*x[1,1] + 351*x[1,2] + 3372*x[1,3] + 237*x[1,4] + 3373*x[1,5] + 1456*x[1,6] + 5059*x[1,7] + 609*x[2,0] + 1943*x[2,1] + 77*x[2,2] + 3365*x[2,3] + 298*x[2,4] + 3021*x[2,5] + 1484*x[2,6] + 4803*x[2,7] + 2143*x[3,0] + 671*x[3,1] + 3876*x[3,2] + 537*x[3,3] + 1902*x[3,4] + 1941*x[3,5] + 1682*x[3,6] + 3348*x[3,7] + 2742*x[4,0] + 2089*x[4,1] + 1931*x[4,2] + 2199*x[4,3] + 1226*x[4,4] + 739*x[4,5] + 691*x[4,6] + 1128*x[4,7] + 2053*x[5,0] + 860*x[5,1] + 2995*x[5,2] + 68*x[5,3] + 2069*x[5,4] + 2065*x[5,5] + 993*x[5,6] + 3342*x[5,7] + 656*x[6,0] + 817*x[6,1] + 1245*x[6,2] + 2141*x[6,3] + 1534*x[6,4] + 3351*x[6,5] + 1137*x[6,6] + 3887*x[6,7] + 195*x[7,0] + 1862*x[7,1] + 1331*x[7,2] + 2921*x[7,3] + 402*x[7,4] + 2825*x[7,5] + 563*x[7,6] + 4441*x[7,7]\n",
            "\n",
            "1 Constraint Declarations\n",
            "    constraints : Size=16, Index=constraints_index, Active=True\n",
            "        Key : Lower : Body                                                                  : Upper : Active\n",
            "          1 :  -Inf : x[0,0] + x[0,1] + x[0,2] + x[0,3] + x[0,4] + x[0,5] + x[0,6] + x[0,7] : 185.0 :   True\n",
            "          2 :  -Inf : x[1,0] + x[1,1] + x[1,2] + x[1,3] + x[1,4] + x[1,5] + x[1,6] + x[1,7] : 350.0 :   True\n",
            "          3 :  -Inf : x[2,0] + x[2,1] + x[2,2] + x[2,3] + x[2,4] + x[2,5] + x[2,6] + x[2,7] : 405.0 :   True\n",
            "          4 :  -Inf : x[3,0] + x[3,1] + x[3,2] + x[3,3] + x[3,4] + x[3,5] + x[3,6] + x[3,7] : 280.0 :   True\n",
            "          5 :  -Inf : x[4,0] + x[4,1] + x[4,2] + x[4,3] + x[4,4] + x[4,5] + x[4,6] + x[4,7] : 105.0 :   True\n",
            "          6 :  -Inf : x[5,0] + x[5,1] + x[5,2] + x[5,3] + x[5,4] + x[5,5] + x[5,6] + x[5,7] :  75.0 :   True\n",
            "          7 :  -Inf : x[6,0] + x[6,1] + x[6,2] + x[6,3] + x[6,4] + x[6,5] + x[6,6] + x[6,7] : 425.0 :   True\n",
            "          8 :  -Inf : x[7,0] + x[7,1] + x[7,2] + x[7,3] + x[7,4] + x[7,5] + x[7,6] + x[7,7] : 270.0 :   True\n",
            "          9 : 175.0 : x[0,0] + x[1,0] + x[2,0] + x[3,0] + x[4,0] + x[5,0] + x[6,0] + x[7,0] : 175.0 :   True\n",
            "         10 : 400.0 : x[0,1] + x[1,1] + x[2,1] + x[3,1] + x[4,1] + x[5,1] + x[6,1] + x[7,1] : 400.0 :   True\n",
            "         11 : 550.0 : x[0,2] + x[1,2] + x[2,2] + x[3,2] + x[4,2] + x[5,2] + x[6,2] + x[7,2] : 550.0 :   True\n",
            "         12 :  70.0 : x[0,3] + x[1,3] + x[2,3] + x[3,3] + x[4,3] + x[5,3] + x[6,3] + x[7,3] :  70.0 :   True\n",
            "         13 : 650.0 : x[0,4] + x[1,4] + x[2,4] + x[3,4] + x[4,4] + x[5,4] + x[6,4] + x[7,4] : 650.0 :   True\n",
            "         14 : 100.0 : x[0,5] + x[1,5] + x[2,5] + x[3,5] + x[4,5] + x[5,5] + x[6,5] + x[7,5] : 100.0 :   True\n",
            "         15 :  65.0 : x[0,6] + x[1,6] + x[2,6] + x[3,6] + x[4,6] + x[5,6] + x[6,6] + x[7,6] :  65.0 :   True\n",
            "         16 :  85.0 : x[0,7] + x[1,7] + x[2,7] + x[3,7] + x[4,7] + x[5,7] + x[6,7] + x[7,7] :  85.0 :   True\n",
            "\n",
            "7 Declarations: x_index_0 x_index_1 x_index x Objective constraints_index constraints\n"
          ]
        }
      ]
    },
    {
      "cell_type": "code",
      "source": [
        "# installing cbc solver in collab session\n",
        "!apt-get install -y -qq coinor-cbc\n",
        "# using solverfactory to solve above constructed pyomo model\n",
        "optCBC = SolverFactory('cbc')\n",
        "result = optCBC.solve(TransModel)\n",
        "\n",
        "print('Solver status:', result.solver.status)\n",
        "print('Solver termination condition:',result.solver.termination_condition)"
      ],
      "metadata": {
        "colab": {
          "base_uri": "https://localhost:8080/"
        },
        "id": "Iax7oP5w-a8Z",
        "outputId": "b0a6921e-8e86-4218-a65e-fc29c7ce60b8"
      },
      "execution_count": null,
      "outputs": [
        {
          "output_type": "stream",
          "name": "stdout",
          "text": [
            "Solver status: ok\n",
            "Solver termination condition: optimal\n"
          ]
        }
      ]
    },
    {
      "cell_type": "code",
      "source": [
        "import pandas as pd\n",
        "result1 = pd.DataFrame({'M1':[TransModel.x[i,0].value for i in row_indicies],\n",
        "                        'M2':[TransModel.x[i,1].value for i in row_indicies],\n",
        "                        'M3':[TransModel.x[i,2].value for i in row_indicies],\n",
        "                        'M4':[TransModel.x[i,3].value for i in row_indicies],\n",
        "                        'M5':[TransModel.x[i,4].value for i in row_indicies],\n",
        "                        'M6':[TransModel.x[i,5].value for i in row_indicies],\n",
        "                        'M7':[TransModel.x[i,6].value for i in row_indicies],\n",
        "                        'M8':[TransModel.x[i,7].value for i in row_indicies]})"
      ],
      "metadata": {
        "id": "flZXkax_-f9s"
      },
      "execution_count": null,
      "outputs": []
    },
    {
      "cell_type": "code",
      "source": [
        "print(result1)\n"
      ],
      "metadata": {
        "colab": {
          "base_uri": "https://localhost:8080/"
        },
        "id": "PShtwANw-mmx",
        "outputId": "ae62418b-a09e-41d9-ab1f-76435f4b1733"
      },
      "execution_count": null,
      "outputs": [
        {
          "output_type": "stream",
          "name": "stdout",
          "text": [
            "      M1     M2     M3    M4     M5    M6    M7    M8\n",
            "0    0.0  185.0    0.0   0.0    0.0   0.0   0.0   0.0\n",
            "1    0.0    0.0    0.0   0.0  350.0   0.0   0.0   0.0\n",
            "2    0.0    0.0  375.0   0.0   30.0   0.0   0.0   0.0\n",
            "3    0.0  200.0    0.0   0.0    0.0  80.0   0.0   0.0\n",
            "4    0.0    0.0    0.0   0.0    0.0  20.0   0.0  85.0\n",
            "5    0.0    0.0    0.0  70.0    0.0   0.0   5.0   0.0\n",
            "6  175.0   15.0  175.0   0.0    0.0   0.0  60.0   0.0\n",
            "7    0.0    0.0    0.0   0.0  270.0   0.0   0.0   0.0\n"
          ]
        }
      ]
    },
    {
      "cell_type": "code",
      "source": [
        "TransModel.Objective()"
      ],
      "metadata": {
        "colab": {
          "base_uri": "https://localhost:8080/"
        },
        "id": "GL8lxSwb-pt7",
        "outputId": "fc936091-1217-4d4d-d0c4-8f47241decb3"
      },
      "execution_count": null,
      "outputs": [
        {
          "output_type": "execute_result",
          "data": {
            "text/plain": [
              "1166465.0"
            ]
          },
          "metadata": {},
          "execution_count": 63
        }
      ]
    },
    {
      "cell_type": "code",
      "source": [
        "#3.3\n",
        "# number of variable representing warehouse (M=8) and markets (N=8)\n",
        "M, N = 8,8\n",
        "\n",
        "# since variable are two dimensional ie., x_{ij}, therefore both row and column indicies are defined below\n",
        "row_indicies = np.arange(M)\n",
        "col_indicies = np.arange(N)\n",
        "\n",
        "# matrix of cost cofficient\n",
        "cost = np.array([[627, 617, 1270, 2072, 1415,2943, 1064, 4265], [100000, 1432, 351, 3372, 237, 3373, 1456, 5059], [609, 1943, 77, 3365, 298, 3021, 1484, 4803], [2143, 671, 3876, 537, 1902, 1941, 1682, 3348],\n",
        "                 [2742, 2089, 1931, 2199, 1226, 739, 691, 100000],[2053, 860, 2995, 100000, 2069, 2065, 993, 3342],[656, 817, 1245, 2141, 1534, 3351, 1137, 3887],[195, 1862, 1331, 2921, 402, 2825, 563, 4441]])\n",
        "\n",
        "warehouse_cap = np.array([185,350,405,280,105,75,425,270])\n",
        "market_demand = np.array([175, 400, 550, 70, 650, 100, 65, 85])\n",
        "# defining an empty model using pyomo\n",
        "TransModel = ConcreteModel()\n",
        "\n",
        "# defining varibles used in model x_{ij} (in total 8*8 = 64 variables)\n",
        "TransModel.x = Var(row_indicies, col_indicies, domain= NonNegativeReals)\n",
        "\n",
        "# setting up the objective function\n",
        "TransModel.Objective = Objective(expr = sum(cost[i][j]*TransModel.x[i,j] for i in row_indicies for j in col_indicies), sense = minimize)"
      ],
      "metadata": {
        "id": "oIrUVF8P-9l1"
      },
      "execution_count": null,
      "outputs": []
    },
    {
      "cell_type": "code",
      "source": [
        "# below we define constraints based on available demand at hub and capacity at plant\n",
        "# creating empty list of constraints\n",
        "TransModel.constraints = ConstraintList()\n",
        "\n",
        "# adding constraint for production capacity\n",
        "[TransModel.constraints.add(expr = sum(TransModel.x[i,j] for j in col_indicies) <= warehouse_cap[i]) for i in row_indicies]\n",
        "[TransModel.constraints.add(expr = sum(TransModel.x[i,j] for i in row_indicies) == market_demand[j]) for j in col_indicies]\n",
        "\n",
        "# printing out pyomo model\n",
        "TransModel.pprint()\n"
      ],
      "metadata": {
        "colab": {
          "base_uri": "https://localhost:8080/"
        },
        "id": "fgZ2w8-A_CB6",
        "outputId": "663c0a34-a16c-4228-df33-3898e04c0cb2"
      },
      "execution_count": null,
      "outputs": [
        {
          "output_type": "stream",
          "name": "stdout",
          "text": [
            "4 Set Declarations\n",
            "    constraints_index : Size=1, Index=None, Ordered=Insertion\n",
            "        Key  : Dimen : Domain : Size : Members\n",
            "        None :     1 :    Any :   16 : {1, 2, 3, 4, 5, 6, 7, 8, 9, 10, 11, 12, 13, 14, 15, 16}\n",
            "    x_index : Size=1, Index=None, Ordered=False\n",
            "        Key  : Dimen : Domain              : Size : Members\n",
            "        None :     2 : x_index_0*x_index_1 :   64 : {(0, 0), (0, 1), (0, 2), (0, 3), (0, 4), (0, 5), (0, 6), (0, 7), (1, 0), (1, 1), (1, 2), (1, 3), (1, 4), (1, 5), (1, 6), (1, 7), (2, 0), (2, 1), (2, 2), (2, 3), (2, 4), (2, 5), (2, 6), (2, 7), (3, 0), (3, 1), (3, 2), (3, 3), (3, 4), (3, 5), (3, 6), (3, 7), (4, 0), (4, 1), (4, 2), (4, 3), (4, 4), (4, 5), (4, 6), (4, 7), (5, 0), (5, 1), (5, 2), (5, 3), (5, 4), (5, 5), (5, 6), (5, 7), (6, 0), (6, 1), (6, 2), (6, 3), (6, 4), (6, 5), (6, 6), (6, 7), (7, 0), (7, 1), (7, 2), (7, 3), (7, 4), (7, 5), (7, 6), (7, 7)}\n",
            "    x_index_0 : Size=1, Index=None, Ordered=False\n",
            "        Key  : Dimen : Domain : Size : Members\n",
            "        None :     1 :    Any :    8 : {0, 1, 2, 3, 4, 5, 6, 7}\n",
            "    x_index_1 : Size=1, Index=None, Ordered=False\n",
            "        Key  : Dimen : Domain : Size : Members\n",
            "        None :     1 :    Any :    8 : {0, 1, 2, 3, 4, 5, 6, 7}\n",
            "\n",
            "1 Var Declarations\n",
            "    x : Size=64, Index=x_index\n",
            "        Key    : Lower : Value : Upper : Fixed : Stale : Domain\n",
            "        (0, 0) :     0 :  None :  None : False :  True : NonNegativeReals\n",
            "        (0, 1) :     0 :  None :  None : False :  True : NonNegativeReals\n",
            "        (0, 2) :     0 :  None :  None : False :  True : NonNegativeReals\n",
            "        (0, 3) :     0 :  None :  None : False :  True : NonNegativeReals\n",
            "        (0, 4) :     0 :  None :  None : False :  True : NonNegativeReals\n",
            "        (0, 5) :     0 :  None :  None : False :  True : NonNegativeReals\n",
            "        (0, 6) :     0 :  None :  None : False :  True : NonNegativeReals\n",
            "        (0, 7) :     0 :  None :  None : False :  True : NonNegativeReals\n",
            "        (1, 0) :     0 :  None :  None : False :  True : NonNegativeReals\n",
            "        (1, 1) :     0 :  None :  None : False :  True : NonNegativeReals\n",
            "        (1, 2) :     0 :  None :  None : False :  True : NonNegativeReals\n",
            "        (1, 3) :     0 :  None :  None : False :  True : NonNegativeReals\n",
            "        (1, 4) :     0 :  None :  None : False :  True : NonNegativeReals\n",
            "        (1, 5) :     0 :  None :  None : False :  True : NonNegativeReals\n",
            "        (1, 6) :     0 :  None :  None : False :  True : NonNegativeReals\n",
            "        (1, 7) :     0 :  None :  None : False :  True : NonNegativeReals\n",
            "        (2, 0) :     0 :  None :  None : False :  True : NonNegativeReals\n",
            "        (2, 1) :     0 :  None :  None : False :  True : NonNegativeReals\n",
            "        (2, 2) :     0 :  None :  None : False :  True : NonNegativeReals\n",
            "        (2, 3) :     0 :  None :  None : False :  True : NonNegativeReals\n",
            "        (2, 4) :     0 :  None :  None : False :  True : NonNegativeReals\n",
            "        (2, 5) :     0 :  None :  None : False :  True : NonNegativeReals\n",
            "        (2, 6) :     0 :  None :  None : False :  True : NonNegativeReals\n",
            "        (2, 7) :     0 :  None :  None : False :  True : NonNegativeReals\n",
            "        (3, 0) :     0 :  None :  None : False :  True : NonNegativeReals\n",
            "        (3, 1) :     0 :  None :  None : False :  True : NonNegativeReals\n",
            "        (3, 2) :     0 :  None :  None : False :  True : NonNegativeReals\n",
            "        (3, 3) :     0 :  None :  None : False :  True : NonNegativeReals\n",
            "        (3, 4) :     0 :  None :  None : False :  True : NonNegativeReals\n",
            "        (3, 5) :     0 :  None :  None : False :  True : NonNegativeReals\n",
            "        (3, 6) :     0 :  None :  None : False :  True : NonNegativeReals\n",
            "        (3, 7) :     0 :  None :  None : False :  True : NonNegativeReals\n",
            "        (4, 0) :     0 :  None :  None : False :  True : NonNegativeReals\n",
            "        (4, 1) :     0 :  None :  None : False :  True : NonNegativeReals\n",
            "        (4, 2) :     0 :  None :  None : False :  True : NonNegativeReals\n",
            "        (4, 3) :     0 :  None :  None : False :  True : NonNegativeReals\n",
            "        (4, 4) :     0 :  None :  None : False :  True : NonNegativeReals\n",
            "        (4, 5) :     0 :  None :  None : False :  True : NonNegativeReals\n",
            "        (4, 6) :     0 :  None :  None : False :  True : NonNegativeReals\n",
            "        (4, 7) :     0 :  None :  None : False :  True : NonNegativeReals\n",
            "        (5, 0) :     0 :  None :  None : False :  True : NonNegativeReals\n",
            "        (5, 1) :     0 :  None :  None : False :  True : NonNegativeReals\n",
            "        (5, 2) :     0 :  None :  None : False :  True : NonNegativeReals\n",
            "        (5, 3) :     0 :  None :  None : False :  True : NonNegativeReals\n",
            "        (5, 4) :     0 :  None :  None : False :  True : NonNegativeReals\n",
            "        (5, 5) :     0 :  None :  None : False :  True : NonNegativeReals\n",
            "        (5, 6) :     0 :  None :  None : False :  True : NonNegativeReals\n",
            "        (5, 7) :     0 :  None :  None : False :  True : NonNegativeReals\n",
            "        (6, 0) :     0 :  None :  None : False :  True : NonNegativeReals\n",
            "        (6, 1) :     0 :  None :  None : False :  True : NonNegativeReals\n",
            "        (6, 2) :     0 :  None :  None : False :  True : NonNegativeReals\n",
            "        (6, 3) :     0 :  None :  None : False :  True : NonNegativeReals\n",
            "        (6, 4) :     0 :  None :  None : False :  True : NonNegativeReals\n",
            "        (6, 5) :     0 :  None :  None : False :  True : NonNegativeReals\n",
            "        (6, 6) :     0 :  None :  None : False :  True : NonNegativeReals\n",
            "        (6, 7) :     0 :  None :  None : False :  True : NonNegativeReals\n",
            "        (7, 0) :     0 :  None :  None : False :  True : NonNegativeReals\n",
            "        (7, 1) :     0 :  None :  None : False :  True : NonNegativeReals\n",
            "        (7, 2) :     0 :  None :  None : False :  True : NonNegativeReals\n",
            "        (7, 3) :     0 :  None :  None : False :  True : NonNegativeReals\n",
            "        (7, 4) :     0 :  None :  None : False :  True : NonNegativeReals\n",
            "        (7, 5) :     0 :  None :  None : False :  True : NonNegativeReals\n",
            "        (7, 6) :     0 :  None :  None : False :  True : NonNegativeReals\n",
            "        (7, 7) :     0 :  None :  None : False :  True : NonNegativeReals\n",
            "\n",
            "1 Objective Declarations\n",
            "    Objective : Size=1, Index=None, Active=True\n",
            "        Key  : Active : Sense    : Expression\n",
            "        None :   True : minimize : 627*x[0,0] + 617*x[0,1] + 1270*x[0,2] + 2072*x[0,3] + 1415*x[0,4] + 2943*x[0,5] + 1064*x[0,6] + 4265*x[0,7] + 100000*x[1,0] + 1432*x[1,1] + 351*x[1,2] + 3372*x[1,3] + 237*x[1,4] + 3373*x[1,5] + 1456*x[1,6] + 5059*x[1,7] + 609*x[2,0] + 1943*x[2,1] + 77*x[2,2] + 3365*x[2,3] + 298*x[2,4] + 3021*x[2,5] + 1484*x[2,6] + 4803*x[2,7] + 2143*x[3,0] + 671*x[3,1] + 3876*x[3,2] + 537*x[3,3] + 1902*x[3,4] + 1941*x[3,5] + 1682*x[3,6] + 3348*x[3,7] + 2742*x[4,0] + 2089*x[4,1] + 1931*x[4,2] + 2199*x[4,3] + 1226*x[4,4] + 739*x[4,5] + 691*x[4,6] + 100000*x[4,7] + 2053*x[5,0] + 860*x[5,1] + 2995*x[5,2] + 100000*x[5,3] + 2069*x[5,4] + 2065*x[5,5] + 993*x[5,6] + 3342*x[5,7] + 656*x[6,0] + 817*x[6,1] + 1245*x[6,2] + 2141*x[6,3] + 1534*x[6,4] + 3351*x[6,5] + 1137*x[6,6] + 3887*x[6,7] + 195*x[7,0] + 1862*x[7,1] + 1331*x[7,2] + 2921*x[7,3] + 402*x[7,4] + 2825*x[7,5] + 563*x[7,6] + 4441*x[7,7]\n",
            "\n",
            "1 Constraint Declarations\n",
            "    constraints : Size=16, Index=constraints_index, Active=True\n",
            "        Key : Lower : Body                                                                  : Upper : Active\n",
            "          1 :  -Inf : x[0,0] + x[0,1] + x[0,2] + x[0,3] + x[0,4] + x[0,5] + x[0,6] + x[0,7] : 185.0 :   True\n",
            "          2 :  -Inf : x[1,0] + x[1,1] + x[1,2] + x[1,3] + x[1,4] + x[1,5] + x[1,6] + x[1,7] : 350.0 :   True\n",
            "          3 :  -Inf : x[2,0] + x[2,1] + x[2,2] + x[2,3] + x[2,4] + x[2,5] + x[2,6] + x[2,7] : 405.0 :   True\n",
            "          4 :  -Inf : x[3,0] + x[3,1] + x[3,2] + x[3,3] + x[3,4] + x[3,5] + x[3,6] + x[3,7] : 280.0 :   True\n",
            "          5 :  -Inf : x[4,0] + x[4,1] + x[4,2] + x[4,3] + x[4,4] + x[4,5] + x[4,6] + x[4,7] : 105.0 :   True\n",
            "          6 :  -Inf : x[5,0] + x[5,1] + x[5,2] + x[5,3] + x[5,4] + x[5,5] + x[5,6] + x[5,7] :  75.0 :   True\n",
            "          7 :  -Inf : x[6,0] + x[6,1] + x[6,2] + x[6,3] + x[6,4] + x[6,5] + x[6,6] + x[6,7] : 425.0 :   True\n",
            "          8 :  -Inf : x[7,0] + x[7,1] + x[7,2] + x[7,3] + x[7,4] + x[7,5] + x[7,6] + x[7,7] : 270.0 :   True\n",
            "          9 : 175.0 : x[0,0] + x[1,0] + x[2,0] + x[3,0] + x[4,0] + x[5,0] + x[6,0] + x[7,0] : 175.0 :   True\n",
            "         10 : 400.0 : x[0,1] + x[1,1] + x[2,1] + x[3,1] + x[4,1] + x[5,1] + x[6,1] + x[7,1] : 400.0 :   True\n",
            "         11 : 550.0 : x[0,2] + x[1,2] + x[2,2] + x[3,2] + x[4,2] + x[5,2] + x[6,2] + x[7,2] : 550.0 :   True\n",
            "         12 :  70.0 : x[0,3] + x[1,3] + x[2,3] + x[3,3] + x[4,3] + x[5,3] + x[6,3] + x[7,3] :  70.0 :   True\n",
            "         13 : 650.0 : x[0,4] + x[1,4] + x[2,4] + x[3,4] + x[4,4] + x[5,4] + x[6,4] + x[7,4] : 650.0 :   True\n",
            "         14 : 100.0 : x[0,5] + x[1,5] + x[2,5] + x[3,5] + x[4,5] + x[5,5] + x[6,5] + x[7,5] : 100.0 :   True\n",
            "         15 :  65.0 : x[0,6] + x[1,6] + x[2,6] + x[3,6] + x[4,6] + x[5,6] + x[6,6] + x[7,6] :  65.0 :   True\n",
            "         16 :  85.0 : x[0,7] + x[1,7] + x[2,7] + x[3,7] + x[4,7] + x[5,7] + x[6,7] + x[7,7] :  85.0 :   True\n",
            "\n",
            "7 Declarations: x_index_0 x_index_1 x_index x Objective constraints_index constraints\n"
          ]
        }
      ]
    },
    {
      "cell_type": "code",
      "source": [
        "8# installing cbc solver in collab session\n",
        "!apt-get install -y -qq coinor-cbc\n",
        "# using solverfactory to solve above constructed pyomo model\n",
        "optCBC = SolverFactory('cbc')\n",
        "result = optCBC.solve(TransModel)\n",
        "\n",
        "print('Solver status:', result.solver.status)\n",
        "print('Solver termination condition:',result.solver.termination_condition)"
      ],
      "metadata": {
        "colab": {
          "base_uri": "https://localhost:8080/"
        },
        "id": "8clTM_7r_IiG",
        "outputId": "06be9ba3-e5ea-4cbb-8978-79d8e6ded0c1"
      },
      "execution_count": null,
      "outputs": [
        {
          "output_type": "stream",
          "name": "stdout",
          "text": [
            "Solver status: ok\n",
            "Solver termination condition: optimal\n"
          ]
        }
      ]
    },
    {
      "cell_type": "code",
      "source": [
        "import pandas as pd\n",
        "result2 = pd.DataFrame({'M1':[TransModel.x[i,0].value for i in row_indicies],\n",
        "                        'M2':[TransModel.x[i,1].value for i in row_indicies],\n",
        "                        'M3':[TransModel.x[i,2].value for i in row_indicies],\n",
        "                        'M4':[TransModel.x[i,3].value for i in row_indicies],\n",
        "                        'M5':[TransModel.x[i,4].value for i in row_indicies],\n",
        "                        'M6':[TransModel.x[i,5].value for i in row_indicies],\n",
        "                        'M7':[TransModel.x[i,6].value for i in row_indicies],\n",
        "                        'M8':[TransModel.x[i,7].value for i in row_indicies]})"
      ],
      "metadata": {
        "id": "3qE5OTTT_OAI"
      },
      "execution_count": null,
      "outputs": []
    },
    {
      "cell_type": "code",
      "source": [
        "print(result2)"
      ],
      "metadata": {
        "colab": {
          "base_uri": "https://localhost:8080/"
        },
        "id": "JcqVsmcY_RnK",
        "outputId": "ecf9214d-6ab7-4eee-ff39-d4374f50e68e"
      },
      "execution_count": null,
      "outputs": [
        {
          "output_type": "stream",
          "name": "stdout",
          "text": [
            "      M1     M2     M3    M4     M5     M6    M7    M8\n",
            "0    0.0  185.0    0.0   0.0    0.0    0.0   0.0   0.0\n",
            "1    0.0    0.0    0.0   0.0  350.0    0.0   0.0   0.0\n",
            "2    0.0    0.0  375.0   0.0   30.0    0.0   0.0   0.0\n",
            "3    0.0  200.0    0.0  70.0    0.0    0.0   0.0  10.0\n",
            "4    0.0    0.0    0.0   0.0    0.0  100.0   5.0   0.0\n",
            "5    0.0    0.0    0.0   0.0    0.0    0.0   0.0  75.0\n",
            "6  175.0   15.0  175.0   0.0    0.0    0.0  60.0   0.0\n",
            "7    0.0    0.0    0.0   0.0  270.0    0.0   0.0   0.0\n"
          ]
        }
      ]
    },
    {
      "cell_type": "code",
      "source": [
        "TransModel.Objective()"
      ],
      "metadata": {
        "colab": {
          "base_uri": "https://localhost:8080/"
        },
        "id": "4OZM5kox_U2l",
        "outputId": "d519f73a-e8e9-46ef-fd2c-2687343d7c36"
      },
      "execution_count": null,
      "outputs": [
        {
          "output_type": "execute_result",
          "data": {
            "text/plain": [
              "1289875.0"
            ]
          },
          "metadata": {},
          "execution_count": 73
        }
      ]
    }
  ]
}