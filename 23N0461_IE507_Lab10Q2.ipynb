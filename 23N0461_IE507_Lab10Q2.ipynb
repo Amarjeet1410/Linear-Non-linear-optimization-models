{
  "nbformat": 4,
  "nbformat_minor": 0,
  "metadata": {
    "colab": {
      "provenance": []
    },
    "kernelspec": {
      "name": "python3",
      "display_name": "Python 3"
    },
    "language_info": {
      "name": "python"
    }
  },
  "cells": [
    {
      "cell_type": "markdown",
      "source": [
        "**Question 2: Linear Programming Vs MILP**"
      ],
      "metadata": {
        "id": "MPMuiNpC9Fh0"
      }
    },
    {
      "cell_type": "code",
      "execution_count": null,
      "metadata": {
        "id": "GM6FpkonNXt5",
        "colab": {
          "base_uri": "https://localhost:8080/"
        },
        "outputId": "1269a7bd-ebbd-4739-cc51-c998eb726417"
      },
      "outputs": [
        {
          "output_type": "stream",
          "name": "stdout",
          "text": [
            "\u001b[2K     \u001b[90m━━━━━━━━━━━━━━━━━━━━━━━━━━━━━━━━━━━━━━━━\u001b[0m \u001b[32m12.7/12.7 MB\u001b[0m \u001b[31m70.2 MB/s\u001b[0m eta \u001b[36m0:00:00\u001b[0m\n",
            "\u001b[2K     \u001b[90m━━━━━━━━━━━━━━━━━━━━━━━━━━━━━━━━━━━━━━━━\u001b[0m \u001b[32m49.6/49.6 kB\u001b[0m \u001b[31m5.0 MB/s\u001b[0m eta \u001b[36m0:00:00\u001b[0m\n",
            "\u001b[?25hSelecting previously unselected package coinor-libcoinutils3v5:amd64.\n",
            "(Reading database ... 120875 files and directories currently installed.)\n",
            "Preparing to unpack .../0-coinor-libcoinutils3v5_2.11.4+repack1-2_amd64.deb ...\n",
            "Unpacking coinor-libcoinutils3v5:amd64 (2.11.4+repack1-2) ...\n",
            "Selecting previously unselected package coinor-libosi1v5:amd64.\n",
            "Preparing to unpack .../1-coinor-libosi1v5_0.108.6+repack1-2_amd64.deb ...\n",
            "Unpacking coinor-libosi1v5:amd64 (0.108.6+repack1-2) ...\n",
            "Selecting previously unselected package coinor-libclp1.\n",
            "Preparing to unpack .../2-coinor-libclp1_1.17.5+repack1-1_amd64.deb ...\n",
            "Unpacking coinor-libclp1 (1.17.5+repack1-1) ...\n",
            "Selecting previously unselected package coinor-libcgl1:amd64.\n",
            "Preparing to unpack .../3-coinor-libcgl1_0.60.3+repack1-3_amd64.deb ...\n",
            "Unpacking coinor-libcgl1:amd64 (0.60.3+repack1-3) ...\n",
            "Selecting previously unselected package coinor-libcbc3:amd64.\n",
            "Preparing to unpack .../4-coinor-libcbc3_2.10.7+ds1-1_amd64.deb ...\n",
            "Unpacking coinor-libcbc3:amd64 (2.10.7+ds1-1) ...\n",
            "Selecting previously unselected package coinor-cbc.\n",
            "Preparing to unpack .../5-coinor-cbc_2.10.7+ds1-1_amd64.deb ...\n",
            "Unpacking coinor-cbc (2.10.7+ds1-1) ...\n",
            "Setting up coinor-libcoinutils3v5:amd64 (2.11.4+repack1-2) ...\n",
            "Setting up coinor-libosi1v5:amd64 (0.108.6+repack1-2) ...\n",
            "Setting up coinor-libclp1 (1.17.5+repack1-1) ...\n",
            "Setting up coinor-libcgl1:amd64 (0.60.3+repack1-3) ...\n",
            "Setting up coinor-libcbc3:amd64 (2.10.7+ds1-1) ...\n",
            "Setting up coinor-cbc (2.10.7+ds1-1) ...\n",
            "Processing triggers for man-db (2.10.2-1) ...\n",
            "Processing triggers for libc-bin (2.35-0ubuntu3.1) ...\n",
            "/sbin/ldconfig.real: /usr/local/lib/libtbbbind_2_0.so.3 is not a symbolic link\n",
            "\n",
            "/sbin/ldconfig.real: /usr/local/lib/libtbbmalloc.so.2 is not a symbolic link\n",
            "\n",
            "/sbin/ldconfig.real: /usr/local/lib/libtbbbind_2_5.so.3 is not a symbolic link\n",
            "\n",
            "/sbin/ldconfig.real: /usr/local/lib/libtbbmalloc_proxy.so.2 is not a symbolic link\n",
            "\n",
            "/sbin/ldconfig.real: /usr/local/lib/libtbb.so.12 is not a symbolic link\n",
            "\n",
            "/sbin/ldconfig.real: /usr/local/lib/libtbbbind.so.3 is not a symbolic link\n",
            "\n"
          ]
        }
      ],
      "source": [
        "!pip -q install pyomo\n",
        "!apt-get -q install -y -qq coinor-cbc"
      ]
    },
    {
      "cell_type": "code",
      "source": [
        "from pyomo.environ import *\n",
        "import numpy as np"
      ],
      "metadata": {
        "id": "OTFj2TU85_Df"
      },
      "execution_count": null,
      "outputs": []
    },
    {
      "cell_type": "code",
      "source": [
        "import pandas as pd"
      ],
      "metadata": {
        "id": "_gnNNU8l7NLG"
      },
      "execution_count": null,
      "outputs": []
    },
    {
      "cell_type": "code",
      "source": [
        "!apt-get -q install -y -qq glpk-utils\n",
        "optLP = SolverFactory('glpk', execute='/usr/bin/glpsol')"
      ],
      "metadata": {
        "colab": {
          "base_uri": "https://localhost:8080/"
        },
        "id": "q7xXX46b75BZ",
        "outputId": "2185d709-76bc-4d3b-8703-cdbef82a1b49"
      },
      "execution_count": null,
      "outputs": [
        {
          "output_type": "stream",
          "name": "stdout",
          "text": [
            "Selecting previously unselected package libsuitesparseconfig5:amd64.\n",
            "(Reading database ... \r(Reading database ... 5%\r(Reading database ... 10%\r(Reading database ... 15%\r(Reading database ... 20%\r(Reading database ... 25%\r(Reading database ... 30%\r(Reading database ... 35%\r(Reading database ... 40%\r(Reading database ... 45%\r(Reading database ... 50%\r(Reading database ... 55%\r(Reading database ... 60%\r(Reading database ... 65%\r(Reading database ... 70%\r(Reading database ... 75%\r(Reading database ... 80%\r(Reading database ... 85%\r(Reading database ... 90%\r(Reading database ... 95%\r(Reading database ... 100%\r(Reading database ... 120920 files and directories currently installed.)\n",
            "Preparing to unpack .../libsuitesparseconfig5_1%3a5.10.1+dfsg-4build1_amd64.deb ...\n",
            "Unpacking libsuitesparseconfig5:amd64 (1:5.10.1+dfsg-4build1) ...\n",
            "Selecting previously unselected package libamd2:amd64.\n",
            "Preparing to unpack .../libamd2_1%3a5.10.1+dfsg-4build1_amd64.deb ...\n",
            "Unpacking libamd2:amd64 (1:5.10.1+dfsg-4build1) ...\n",
            "Selecting previously unselected package libcolamd2:amd64.\n",
            "Preparing to unpack .../libcolamd2_1%3a5.10.1+dfsg-4build1_amd64.deb ...\n",
            "Unpacking libcolamd2:amd64 (1:5.10.1+dfsg-4build1) ...\n",
            "Selecting previously unselected package libglpk40:amd64.\n",
            "Preparing to unpack .../libglpk40_5.0-1_amd64.deb ...\n",
            "Unpacking libglpk40:amd64 (5.0-1) ...\n",
            "Selecting previously unselected package glpk-utils.\n",
            "Preparing to unpack .../glpk-utils_5.0-1_amd64.deb ...\n",
            "Unpacking glpk-utils (5.0-1) ...\n",
            "Setting up libsuitesparseconfig5:amd64 (1:5.10.1+dfsg-4build1) ...\n",
            "Setting up libamd2:amd64 (1:5.10.1+dfsg-4build1) ...\n",
            "Setting up libcolamd2:amd64 (1:5.10.1+dfsg-4build1) ...\n",
            "Setting up libglpk40:amd64 (5.0-1) ...\n",
            "Setting up glpk-utils (5.0-1) ...\n",
            "Processing triggers for man-db (2.10.2-1) ...\n",
            "Processing triggers for libc-bin (2.35-0ubuntu3.1) ...\n",
            "/sbin/ldconfig.real: /usr/local/lib/libtbbbind_2_0.so.3 is not a symbolic link\n",
            "\n",
            "/sbin/ldconfig.real: /usr/local/lib/libtbbmalloc.so.2 is not a symbolic link\n",
            "\n",
            "/sbin/ldconfig.real: /usr/local/lib/libtbbbind_2_5.so.3 is not a symbolic link\n",
            "\n",
            "/sbin/ldconfig.real: /usr/local/lib/libtbbmalloc_proxy.so.2 is not a symbolic link\n",
            "\n",
            "/sbin/ldconfig.real: /usr/local/lib/libtbb.so.12 is not a symbolic link\n",
            "\n",
            "/sbin/ldconfig.real: /usr/local/lib/libtbbbind.so.3 is not a symbolic link\n",
            "\n"
          ]
        }
      ]
    },
    {
      "cell_type": "code",
      "source": [
        "!apt-get -q install -y -qq coinor-cbc\n",
        "optCBC = SolverFactory('cbc')"
      ],
      "metadata": {
        "id": "7qB1Ci5D7-IB"
      },
      "execution_count": null,
      "outputs": []
    },
    {
      "cell_type": "code",
      "source": [
        "# model\n",
        "\n",
        "#variables\n",
        "M = 5 #number of variables for planes\n",
        "N = 2 #number of constraints\n",
        "\n",
        "c=np.array([12, 14, 10, 15, 14]) #objective function\n",
        "A=np.array([[6, 7.5, 9.5, 10, 12.5],\n",
        "            [4.25, 3.25, 2.5, 3.45, 2.25]])\n",
        "\n",
        "b=np.array([59, 73])\n",
        "\n",
        "Model2 = ConcreteModel()  #defining empty model\n",
        "\n",
        "Model2.x = Var(np.arange(M), domain = NonNegativeIntegers)  #defining variable type\n",
        "\n",
        "Model2.constraints = ConstraintList()  #defining empty constraints list\n",
        "\n",
        "[Model2.constraints.add(sum(A[i][j]*Model2.x[j] for j in range(M)) <= b[i]) for i in range(N)]  #constraints\n",
        "\n",
        "Model2.Objective = Objective(expr = sum(c[j]*Model2.x[j] for j in range(M)), sense = maximize)   #objective function\n",
        "\n",
        "Model2.pprint()  #print the model"
      ],
      "metadata": {
        "colab": {
          "base_uri": "https://localhost:8080/"
        },
        "id": "on8uJfv48GiN",
        "outputId": "6a32d866-1394-4469-efca-074b32ef9403"
      },
      "execution_count": null,
      "outputs": [
        {
          "output_type": "stream",
          "name": "stdout",
          "text": [
            "2 Set Declarations\n",
            "    constraints_index : Size=1, Index=None, Ordered=Insertion\n",
            "        Key  : Dimen : Domain : Size : Members\n",
            "        None :     1 :    Any :    2 : {1, 2}\n",
            "    x_index : Size=1, Index=None, Ordered=False\n",
            "        Key  : Dimen : Domain : Size : Members\n",
            "        None :     1 :    Any :    5 : {0, 1, 2, 3, 4}\n",
            "\n",
            "1 Var Declarations\n",
            "    x : Size=5, Index=x_index\n",
            "        Key : Lower : Value : Upper : Fixed : Stale : Domain\n",
            "          0 :     0 :  None :  None : False :  True : NonNegativeIntegers\n",
            "          1 :     0 :  None :  None : False :  True : NonNegativeIntegers\n",
            "          2 :     0 :  None :  None : False :  True : NonNegativeIntegers\n",
            "          3 :     0 :  None :  None : False :  True : NonNegativeIntegers\n",
            "          4 :     0 :  None :  None : False :  True : NonNegativeIntegers\n",
            "\n",
            "1 Objective Declarations\n",
            "    Objective : Size=1, Index=None, Active=True\n",
            "        Key  : Active : Sense    : Expression\n",
            "        None :   True : maximize : 12*x[0] + 14*x[1] + 10*x[2] + 15*x[3] + 14*x[4]\n",
            "\n",
            "1 Constraint Declarations\n",
            "    constraints : Size=2, Index=constraints_index, Active=True\n",
            "        Key : Lower : Body                                                     : Upper : Active\n",
            "          1 :  -Inf :   6.0*x[0] + 7.5*x[1] + 9.5*x[2] + 10.0*x[3] + 12.5*x[4] :  59.0 :   True\n",
            "          2 :  -Inf : 4.25*x[0] + 3.25*x[1] + 2.5*x[2] + 3.45*x[3] + 2.25*x[4] :  73.0 :   True\n",
            "\n",
            "5 Declarations: x_index x constraints_index constraints Objective\n"
          ]
        }
      ]
    },
    {
      "cell_type": "code",
      "source": [
        "#solving the problem\n",
        "result_Model2 = optCBC.solve(Model2)\n",
        "print(result_Model2)"
      ],
      "metadata": {
        "colab": {
          "base_uri": "https://localhost:8080/"
        },
        "id": "K5tRYNlA8O60",
        "outputId": "36e49a34-dafb-4992-c81d-a0b865502a75"
      },
      "execution_count": null,
      "outputs": [
        {
          "output_type": "stream",
          "name": "stdout",
          "text": [
            "\n",
            "Problem: \n",
            "- Name: unknown\n",
            "  Lower bound: 114.0\n",
            "  Upper bound: 114.0\n",
            "  Number of objectives: 1\n",
            "  Number of constraints: 2\n",
            "  Number of variables: 5\n",
            "  Number of binary variables: 0\n",
            "  Number of integer variables: 5\n",
            "  Number of nonzeros: 5\n",
            "  Sense: maximize\n",
            "Solver: \n",
            "- Status: ok\n",
            "  User time: -1.0\n",
            "  System time: 0.01\n",
            "  Wallclock time: 0.02\n",
            "  Termination condition: optimal\n",
            "  Termination message: Model was solved to optimality (subject to tolerances), and an optimal solution is available.\n",
            "  Statistics: \n",
            "    Branch and bound: \n",
            "      Number of bounded subproblems: 0\n",
            "      Number of created subproblems: 0\n",
            "    Black box: \n",
            "      Number of iterations: 2\n",
            "  Error rc: 0\n",
            "  Time: 0.05765986442565918\n",
            "Solution: \n",
            "- number of solutions: 0\n",
            "  number of solutions displayed: 0\n",
            "\n"
          ]
        }
      ]
    },
    {
      "cell_type": "code",
      "source": [
        "# snip to code for a function to print optimal solution as an output\n",
        "def OptResults(Model):\n",
        "  # display solution\n",
        "  print('\\nObjective = ', Model.Objective())\n",
        "\n",
        "  print('\\nDecision Variables')\n",
        "  for i in np.arange(M):                      #this M is not a local variable in the function, but an already defined variable in the previous cell\n",
        "    print('x[',i,'] = ', Model.x[i].value)\n",
        "  print('\\nConstraints')\n",
        "  Model.constraints.display()"
      ],
      "metadata": {
        "id": "b9cr8mah8S8F"
      },
      "execution_count": null,
      "outputs": []
    },
    {
      "cell_type": "code",
      "source": [
        "#printing the solution\n",
        "\n",
        "OptResults(Model2)"
      ],
      "metadata": {
        "colab": {
          "base_uri": "https://localhost:8080/"
        },
        "id": "6mBspea48W5g",
        "outputId": "7f275a34-5f9d-4958-c256-03dd256fe6ed"
      },
      "execution_count": null,
      "outputs": [
        {
          "output_type": "stream",
          "name": "stdout",
          "text": [
            "\n",
            "Objective =  114.0\n",
            "\n",
            "Decision Variables\n",
            "x[ 0 ] =  6.0\n",
            "x[ 1 ] =  3.0\n",
            "x[ 2 ] =  0.0\n",
            "x[ 3 ] =  0.0\n",
            "x[ 4 ] =  0.0\n",
            "\n",
            "Constraints\n",
            "constraints : Size=2\n",
            "    Key : Lower : Body  : Upper\n",
            "      1 :  None :  58.5 :  59.0\n",
            "      2 :  None : 35.25 :  73.0\n"
          ]
        }
      ]
    },
    {
      "cell_type": "code",
      "source": [
        "#Q2.3 Relaxing the variables from integers to real values"
      ],
      "metadata": {
        "id": "cDtijgLm8ZpT"
      },
      "execution_count": null,
      "outputs": []
    },
    {
      "cell_type": "code",
      "source": [
        "# new_model\n",
        "\n",
        "#variables\n",
        "M = 5 #number of variables for planes\n",
        "N = 2 #number of constraints\n",
        "\n",
        "c=np.array([12, 14, 10, 15, 14]) #objective function\n",
        "A=np.array([[6, 7.5, 9.5, 10, 12.5],\n",
        "            [4.25, 3.25, 2.5, 3.45, 2.25]])\n",
        "\n",
        "b=np.array([59, 73])\n",
        "\n",
        "new_Model = ConcreteModel()  #defining empty model\n",
        "\n",
        "new_Model.x = Var(np.arange(M), domain = NonNegativeReals)  #defining variable type\n",
        "\n",
        "new_Model.constraints = ConstraintList()  #defining empty constraints list\n",
        "\n",
        "[new_Model.constraints.add(sum(A[i][j]*new_Model.x[j] for j in range(M)) <= b[i]) for i in range(N)]  #constraints\n",
        "\n",
        "new_Model.Objective = Objective(expr = sum(c[j]*new_Model.x[j] for j in range(M)), sense = maximize)   #objective function\n",
        "\n",
        "new_Model.pprint()  #print the model"
      ],
      "metadata": {
        "colab": {
          "base_uri": "https://localhost:8080/"
        },
        "id": "RminMk1l8dX5",
        "outputId": "31624688-4442-4fd2-d8b1-c1353542ba6e"
      },
      "execution_count": null,
      "outputs": [
        {
          "output_type": "stream",
          "name": "stdout",
          "text": [
            "2 Set Declarations\n",
            "    constraints_index : Size=1, Index=None, Ordered=Insertion\n",
            "        Key  : Dimen : Domain : Size : Members\n",
            "        None :     1 :    Any :    2 : {1, 2}\n",
            "    x_index : Size=1, Index=None, Ordered=False\n",
            "        Key  : Dimen : Domain : Size : Members\n",
            "        None :     1 :    Any :    5 : {0, 1, 2, 3, 4}\n",
            "\n",
            "1 Var Declarations\n",
            "    x : Size=5, Index=x_index\n",
            "        Key : Lower : Value : Upper : Fixed : Stale : Domain\n",
            "          0 :     0 :  None :  None : False :  True : NonNegativeReals\n",
            "          1 :     0 :  None :  None : False :  True : NonNegativeReals\n",
            "          2 :     0 :  None :  None : False :  True : NonNegativeReals\n",
            "          3 :     0 :  None :  None : False :  True : NonNegativeReals\n",
            "          4 :     0 :  None :  None : False :  True : NonNegativeReals\n",
            "\n",
            "1 Objective Declarations\n",
            "    Objective : Size=1, Index=None, Active=True\n",
            "        Key  : Active : Sense    : Expression\n",
            "        None :   True : maximize : 12*x[0] + 14*x[1] + 10*x[2] + 15*x[3] + 14*x[4]\n",
            "\n",
            "1 Constraint Declarations\n",
            "    constraints : Size=2, Index=constraints_index, Active=True\n",
            "        Key : Lower : Body                                                     : Upper : Active\n",
            "          1 :  -Inf :   6.0*x[0] + 7.5*x[1] + 9.5*x[2] + 10.0*x[3] + 12.5*x[4] :  59.0 :   True\n",
            "          2 :  -Inf : 4.25*x[0] + 3.25*x[1] + 2.5*x[2] + 3.45*x[3] + 2.25*x[4] :  73.0 :   True\n",
            "\n",
            "5 Declarations: x_index x constraints_index constraints Objective\n"
          ]
        }
      ]
    },
    {
      "cell_type": "code",
      "source": [
        "#solving the problem\n",
        "result_new_Model = optCBC.solve(new_Model)\n",
        "print(result_new_Model)"
      ],
      "metadata": {
        "colab": {
          "base_uri": "https://localhost:8080/"
        },
        "id": "b1tdX_BH8ke3",
        "outputId": "0814e21c-68b7-49d4-e73f-10b0dcd9697c"
      },
      "execution_count": null,
      "outputs": [
        {
          "output_type": "stream",
          "name": "stdout",
          "text": [
            "\n",
            "Problem: \n",
            "- Name: unknown\n",
            "  Lower bound: 118.0\n",
            "  Upper bound: 118.0\n",
            "  Number of objectives: 1\n",
            "  Number of constraints: 2\n",
            "  Number of variables: 5\n",
            "  Number of nonzeros: 5\n",
            "  Sense: maximize\n",
            "Solver: \n",
            "- Status: ok\n",
            "  User time: -1.0\n",
            "  System time: 0.0\n",
            "  Wallclock time: 0.0\n",
            "  Termination condition: optimal\n",
            "  Termination message: Model was solved to optimality (subject to tolerances), and an optimal solution is available.\n",
            "  Statistics: \n",
            "    Branch and bound: \n",
            "      Number of bounded subproblems: None\n",
            "      Number of created subproblems: None\n",
            "    Black box: \n",
            "      Number of iterations: 3\n",
            "  Error rc: 0\n",
            "  Time: 0.021207571029663086\n",
            "Solution: \n",
            "- number of solutions: 0\n",
            "  number of solutions displayed: 0\n",
            "\n"
          ]
        }
      ]
    },
    {
      "cell_type": "code",
      "source": [
        "# snip to code for a function to print optimal solution as an output\n",
        "def OptResults(Model):\n",
        "  # display solution\n",
        "  print('\\nObjective = ', Model.Objective())\n",
        "\n",
        "  print('\\nDecision Variables')\n",
        "  for i in np.arange(M):                      #this M is not a local variable in the function, but an already defined variable in the previous cell\n",
        "    print('x[',i,'] = ', Model.x[i].value)\n",
        "  print('\\nConstraints')\n",
        "  Model.constraints.display()"
      ],
      "metadata": {
        "id": "vQJyZt_s8oMS"
      },
      "execution_count": null,
      "outputs": []
    },
    {
      "cell_type": "code",
      "source": [
        "OptResults(new_Model)"
      ],
      "metadata": {
        "colab": {
          "base_uri": "https://localhost:8080/"
        },
        "id": "1Qq5yNr08r9R",
        "outputId": "f97924af-6a8a-4c41-e309-0b5881e87b19"
      },
      "execution_count": null,
      "outputs": [
        {
          "output_type": "stream",
          "name": "stdout",
          "text": [
            "\n",
            "Objective =  117.9999996\n",
            "\n",
            "Decision Variables\n",
            "x[ 0 ] =  9.8333333\n",
            "x[ 1 ] =  0.0\n",
            "x[ 2 ] =  0.0\n",
            "x[ 3 ] =  0.0\n",
            "x[ 4 ] =  0.0\n",
            "\n",
            "Constraints\n",
            "constraints : Size=2\n",
            "    Key : Lower : Body         : Upper\n",
            "      1 :  None :   58.9999998 :  59.0\n",
            "      2 :  None : 41.791666525 :  73.0\n"
          ]
        }
      ]
    },
    {
      "cell_type": "code",
      "source": [
        "#Q2.5 Changing the RHS of the constraints in both MILP and LP"
      ],
      "metadata": {
        "id": "38Q92_fh9AB2"
      },
      "execution_count": null,
      "outputs": []
    },
    {
      "cell_type": "code",
      "source": [
        "# for MILP\n",
        "\n",
        "#variables\n",
        "M = 5 #number of variables for planes\n",
        "N = 2 #number of constraints\n",
        "\n",
        "c=np.array([12, 14, 10, 15, 14]) #objective function\n",
        "A=np.array([[6, 7.5, 9.5, 10, 12.5],\n",
        "            [4.25, 3.25, 2.5, 3.45, 2.25]])\n",
        "\n",
        "b=np.array([71, 87])\n",
        "\n",
        "new_Model = ConcreteModel()  #defining empty model\n",
        "\n",
        "new_Model.x = Var(np.arange(M), domain = NonNegativeIntegers)  #defining variable type\n",
        "\n",
        "new_Model.constraints = ConstraintList()  #defining empty constraints list\n",
        "\n",
        "[new_Model.constraints.add(sum(A[i][j]*new_Model.x[j] for j in range(M)) <= b[i]) for i in range(N)]  #constraints\n",
        "\n",
        "new_Model.Objective = Objective(expr = sum(c[j]*new_Model.x[j] for j in range(M)), sense = maximize)   #objective function\n",
        "\n",
        "#solving the problem\n",
        "result_new_Model = optCBC.solve(new_Model)"
      ],
      "metadata": {
        "id": "VP9qD0r_9Bmj"
      },
      "execution_count": null,
      "outputs": []
    },
    {
      "cell_type": "code",
      "source": [
        "OptResults(new_Model)"
      ],
      "metadata": {
        "colab": {
          "base_uri": "https://localhost:8080/"
        },
        "id": "7LAGcZ3W9GGi",
        "outputId": "3c2cd4d7-b040-4f6c-bd37-229872251f35"
      },
      "execution_count": null,
      "outputs": [
        {
          "output_type": "stream",
          "name": "stdout",
          "text": [
            "\n",
            "Objective =  138.0\n",
            "\n",
            "Decision Variables\n",
            "x[ 0 ] =  8.0\n",
            "x[ 1 ] =  3.0\n",
            "x[ 2 ] =  0.0\n",
            "x[ 3 ] =  0.0\n",
            "x[ 4 ] =  0.0\n",
            "\n",
            "Constraints\n",
            "constraints : Size=2\n",
            "    Key : Lower : Body  : Upper\n",
            "      1 :  None :  70.5 :  71.0\n",
            "      2 :  None : 43.75 :  87.0\n"
          ]
        }
      ]
    },
    {
      "cell_type": "code",
      "source": [
        "# for LP\n",
        "\n",
        "#variables\n",
        "M = 5 #number of variables for planes\n",
        "N = 2 #number of constraints\n",
        "\n",
        "c=np.array([12, 14, 10, 15, 14]) #objective function\n",
        "A=np.array([[6, 7.5, 9.5, 10, 12.5],\n",
        "            [4.25, 3.25, 2.5, 3.45, 2.25]])\n",
        "\n",
        "b=np.array([71, 87])\n",
        "\n",
        "new_Model = ConcreteModel()  #defining empty model\n",
        "\n",
        "new_Model.x = Var(np.arange(M), domain = NonNegativeReals)  #defining variable type\n",
        "\n",
        "new_Model.constraints = ConstraintList()  #defining empty constraints list\n",
        "\n",
        "[new_Model.constraints.add(sum(A[i][j]*new_Model.x[j] for j in range(M)) <= b[i]) for i in range(N)]  #constraints\n",
        "\n",
        "new_Model.Objective = Objective(expr = sum(c[j]*new_Model.x[j] for j in range(M)), sense = maximize)   #objective function\n",
        "\n",
        "#solving the problem\n",
        "result_new_Model = optCBC.solve(new_Model)"
      ],
      "metadata": {
        "id": "a8eAPc0A9KFV"
      },
      "execution_count": null,
      "outputs": []
    },
    {
      "cell_type": "code",
      "source": [
        "OptResults(new_Model)"
      ],
      "metadata": {
        "colab": {
          "base_uri": "https://localhost:8080/"
        },
        "id": "gQl427b59Obo",
        "outputId": "5f1de433-3a4a-40f7-8816-ae122b650267"
      },
      "execution_count": null,
      "outputs": [
        {
          "output_type": "stream",
          "name": "stdout",
          "text": [
            "\n",
            "Objective =  141.999996\n",
            "\n",
            "Decision Variables\n",
            "x[ 0 ] =  11.833333\n",
            "x[ 1 ] =  0.0\n",
            "x[ 2 ] =  0.0\n",
            "x[ 3 ] =  0.0\n",
            "x[ 4 ] =  0.0\n",
            "\n",
            "Constraints\n",
            "constraints : Size=2\n",
            "    Key : Lower : Body        : Upper\n",
            "      1 :  None :   70.999998 :  71.0\n",
            "      2 :  None : 50.29166525 :  87.0\n"
          ]
        }
      ]
    },
    {
      "cell_type": "code",
      "source": [
        "#2.6 For different values of RHS"
      ],
      "metadata": {
        "id": "2WFpTNoL9SUG"
      },
      "execution_count": null,
      "outputs": []
    },
    {
      "cell_type": "code",
      "source": [
        "# for MILP with budget and parking area as 69,88\n",
        "\n",
        "#variables\n",
        "M = 5 #number of variables for planes\n",
        "N = 2 #number of constraints\n",
        "\n",
        "c=np.array([12, 14, 10, 15, 14]) #objective function\n",
        "A=np.array([[6, 7.5, 9.5, 10, 12.5],\n",
        "            [4.25, 3.25, 2.5, 3.45, 2.25]])\n",
        "\n",
        "b=np.array([69, 88])\n",
        "\n",
        "new_Model = ConcreteModel()  #defining empty model\n",
        "\n",
        "new_Model.x = Var(np.arange(M), domain = NonNegativeIntegers)  #defining variable type\n",
        "\n",
        "new_Model.constraints = ConstraintList()  #defining empty constraints list\n",
        "\n",
        "[new_Model.constraints.add(sum(A[i][j]*new_Model.x[j] for j in range(M)) <= b[i]) for i in range(N)]  #constraints\n",
        "\n",
        "new_Model.Objective = Objective(expr = sum(c[j]*new_Model.x[j] for j in range(M)), sense = maximize)   #objective function\n",
        "\n",
        "#solving the problem\n",
        "result_new_Model = optCBC.solve(new_Model)\n",
        "\n",
        "OptResults(new_Model)"
      ],
      "metadata": {
        "colab": {
          "base_uri": "https://localhost:8080/"
        },
        "id": "zaPkX9W99WKT",
        "outputId": "5ee05336-3cb4-4946-8a19-892ddd0ba1b2"
      },
      "execution_count": null,
      "outputs": [
        {
          "output_type": "stream",
          "name": "stdout",
          "text": [
            "\n",
            "Objective =  136.0\n",
            "\n",
            "Decision Variables\n",
            "x[ 0 ] =  9.0\n",
            "x[ 1 ] =  2.0\n",
            "x[ 2 ] =  0.0\n",
            "x[ 3 ] =  0.0\n",
            "x[ 4 ] =  0.0\n",
            "\n",
            "Constraints\n",
            "constraints : Size=2\n",
            "    Key : Lower : Body  : Upper\n",
            "      1 :  None :  69.0 :  69.0\n",
            "      2 :  None : 44.75 :  88.0\n"
          ]
        }
      ]
    },
    {
      "cell_type": "code",
      "source": [
        "# for LP with budget and parking area as 69,88\n",
        "\n",
        "#variables\n",
        "M = 5 #number of variables for planes\n",
        "N = 2 #number of constraints\n",
        "\n",
        "c=np.array([12, 14, 10, 15, 14]) #objective function\n",
        "A=np.array([[6, 7.5, 9.5, 10, 12.5],\n",
        "            [4.25, 3.25, 2.5, 3.45, 2.25]])\n",
        "\n",
        "b=np.array([69, 88])\n",
        "\n",
        "new_Model = ConcreteModel()  #defining empty model\n",
        "\n",
        "new_Model.x = Var(np.arange(M), domain = NonNegativeReals)  #defining variable type\n",
        "\n",
        "new_Model.constraints = ConstraintList()  #defining empty constraints list\n",
        "\n",
        "[new_Model.constraints.add(sum(A[i][j]*new_Model.x[j] for j in range(M)) <= b[i]) for i in range(N)]  #constraints\n",
        "\n",
        "new_Model.Objective = Objective(expr = sum(c[j]*new_Model.x[j] for j in range(M)), sense = maximize)   #objective function\n",
        "\n",
        "#solving the problem\n",
        "result_new_Model = optCBC.solve(new_Model)\n",
        "\n",
        "OptResults(new_Model)"
      ],
      "metadata": {
        "colab": {
          "base_uri": "https://localhost:8080/"
        },
        "id": "petbjPKs9bFY",
        "outputId": "b49048bd-94b6-4238-81e1-f98b791a6909"
      },
      "execution_count": null,
      "outputs": [
        {
          "output_type": "stream",
          "name": "stdout",
          "text": [
            "\n",
            "Objective =  138.0\n",
            "\n",
            "Decision Variables\n",
            "x[ 0 ] =  11.5\n",
            "x[ 1 ] =  0.0\n",
            "x[ 2 ] =  0.0\n",
            "x[ 3 ] =  0.0\n",
            "x[ 4 ] =  0.0\n",
            "\n",
            "Constraints\n",
            "constraints : Size=2\n",
            "    Key : Lower : Body   : Upper\n",
            "      1 :  None :   69.0 :  69.0\n",
            "      2 :  None : 48.875 :  88.0\n"
          ]
        }
      ]
    },
    {
      "cell_type": "code",
      "source": [
        "# for MILP with budget and parking area as 67,89\n",
        "\n",
        "#variables\n",
        "M = 5 #number of variables for planes\n",
        "N = 2 #number of constraints\n",
        "\n",
        "c=np.array([12, 14, 10, 15, 14]) #objective function\n",
        "A=np.array([[6, 7.5, 9.5, 10, 12.5],\n",
        "            [4.25, 3.25, 2.5, 3.45, 2.25]])\n",
        "\n",
        "b=np.array([67, 89])\n",
        "\n",
        "new_Model = ConcreteModel()  #defining empty model\n",
        "\n",
        "new_Model.x = Var(np.arange(M), domain = NonNegativeIntegers)  #defining variable type\n",
        "\n",
        "new_Model.constraints = ConstraintList()  #defining empty constraints list\n",
        "\n",
        "[new_Model.constraints.add(sum(A[i][j]*new_Model.x[j] for j in range(M)) <= b[i]) for i in range(N)]  #constraints\n",
        "\n",
        "new_Model.Objective = Objective(expr = sum(c[j]*new_Model.x[j] for j in range(M)), sense = maximize)   #objective function\n",
        "\n",
        "#solving the problem\n",
        "result_new_Model = optCBC.solve(new_Model)\n",
        "\n",
        "OptResults(new_Model)"
      ],
      "metadata": {
        "colab": {
          "base_uri": "https://localhost:8080/"
        },
        "id": "Zokea9cK9i2j",
        "outputId": "1676b8ad-223e-43b3-b94f-363a0087cbfd"
      },
      "execution_count": null,
      "outputs": [
        {
          "output_type": "stream",
          "name": "stdout",
          "text": [
            "\n",
            "Objective =  132.0\n",
            "\n",
            "Decision Variables\n",
            "x[ 0 ] =  11.0\n",
            "x[ 1 ] =  0.0\n",
            "x[ 2 ] =  0.0\n",
            "x[ 3 ] =  0.0\n",
            "x[ 4 ] =  0.0\n",
            "\n",
            "Constraints\n",
            "constraints : Size=2\n",
            "    Key : Lower : Body  : Upper\n",
            "      1 :  None :  66.0 :  67.0\n",
            "      2 :  None : 46.75 :  89.0\n"
          ]
        }
      ]
    },
    {
      "cell_type": "code",
      "source": [
        "# for LP with budget and parking area as 67,89\n",
        "\n",
        "#variables\n",
        "M = 5 #number of variables for planes\n",
        "N = 2 #number of constraints\n",
        "\n",
        "c=np.array([12, 14, 10, 15, 14]) #objective function\n",
        "A=np.array([[6, 7.5, 9.5, 10, 12.5],\n",
        "            [4.25, 3.25, 2.5, 3.45, 2.25]])\n",
        "\n",
        "b=np.array([67, 89])\n",
        "\n",
        "new_Model = ConcreteModel()  #defining empty model\n",
        "\n",
        "new_Model.x = Var(np.arange(M), domain = NonNegativeReals)  #defining variable type\n",
        "\n",
        "new_Model.constraints = ConstraintList()  #defining empty constraints list\n",
        "\n",
        "[new_Model.constraints.add(sum(A[i][j]*new_Model.x[j] for j in range(M)) <= b[i]) for i in range(N)]  #constraints\n",
        "\n",
        "new_Model.Objective = Objective(expr = sum(c[j]*new_Model.x[j] for j in range(M)), sense = maximize)   #objective function\n",
        "\n",
        "#solving the problem\n",
        "result_new_Model = optCBC.solve(new_Model)\n",
        "\n",
        "OptResults(new_Model)"
      ],
      "metadata": {
        "colab": {
          "base_uri": "https://localhost:8080/"
        },
        "id": "26LGT-vn9nA0",
        "outputId": "a14c17c1-ce7c-435a-f8bc-750520be4512"
      },
      "execution_count": null,
      "outputs": [
        {
          "output_type": "stream",
          "name": "stdout",
          "text": [
            "\n",
            "Objective =  134.000004\n",
            "\n",
            "Decision Variables\n",
            "x[ 0 ] =  11.166667\n",
            "x[ 1 ] =  0.0\n",
            "x[ 2 ] =  0.0\n",
            "x[ 3 ] =  0.0\n",
            "x[ 4 ] =  0.0\n",
            "\n",
            "Constraints\n",
            "constraints : Size=2\n",
            "    Key : Lower : Body        : Upper\n",
            "      1 :  None :   67.000002 :  67.0\n",
            "      2 :  None : 47.45833475 :  89.0\n"
          ]
        }
      ]
    },
    {
      "cell_type": "code",
      "source": [
        "# for MILP with budget and parking area as 65,90\n",
        "\n",
        "#variables\n",
        "M = 5 #number of variables for planes\n",
        "N = 2 #number of constraints\n",
        "\n",
        "c=np.array([12, 14, 10, 15, 14]) #objective function\n",
        "A=np.array([[6, 7.5, 9.5, 10, 12.5],\n",
        "            [4.25, 3.25, 2.5, 3.45, 2.25]])\n",
        "\n",
        "b=np.array([65, 90])\n",
        "\n",
        "new_Model = ConcreteModel()  #defining empty model\n",
        "\n",
        "new_Model.x = Var(np.arange(M), domain = NonNegativeIntegers)  #defining variable type\n",
        "\n",
        "new_Model.constraints = ConstraintList()  #defining empty constraints list\n",
        "\n",
        "[new_Model.constraints.add(sum(A[i][j]*new_Model.x[j] for j in range(M)) <= b[i]) for i in range(N)]  #constraints\n",
        "\n",
        "new_Model.Objective = Objective(expr = sum(c[j]*new_Model.x[j] for j in range(M)), sense = maximize)   #objective function\n",
        "\n",
        "#solving the problem\n",
        "result_new_Model = optCBC.solve(new_Model)\n",
        "\n",
        "OptResults(new_Model)"
      ],
      "metadata": {
        "colab": {
          "base_uri": "https://localhost:8080/"
        },
        "id": "Tpwpn3I69rdy",
        "outputId": "20ca2f63-72dd-4bbc-c7f0-11d04e86d593"
      },
      "execution_count": null,
      "outputs": [
        {
          "output_type": "stream",
          "name": "stdout",
          "text": [
            "\n",
            "Objective =  126.0\n",
            "\n",
            "Decision Variables\n",
            "x[ 0 ] =  7.0\n",
            "x[ 1 ] =  3.0\n",
            "x[ 2 ] =  0.0\n",
            "x[ 3 ] =  0.0\n",
            "x[ 4 ] =  0.0\n",
            "\n",
            "Constraints\n",
            "constraints : Size=2\n",
            "    Key : Lower : Body : Upper\n",
            "      1 :  None : 64.5 :  65.0\n",
            "      2 :  None : 39.5 :  90.0\n"
          ]
        }
      ]
    },
    {
      "cell_type": "code",
      "source": [
        "# for LP with budget and parking area as 65,90\n",
        "\n",
        "#variables\n",
        "M = 5 #number of variables for planes\n",
        "N = 2 #number of constraints\n",
        "\n",
        "c=np.array([12, 14, 10, 15, 14]) #objective function\n",
        "A=np.array([[6, 7.5, 9.5, 10, 12.5],\n",
        "            [4.25, 3.25, 2.5, 3.45, 2.25]])\n",
        "\n",
        "b=np.array([65, 90])\n",
        "\n",
        "new_Model = ConcreteModel()  #defining empty model\n",
        "\n",
        "new_Model.x = Var(np.arange(M), domain = NonNegativeReals)  #defining variable type\n",
        "\n",
        "new_Model.constraints = ConstraintList()  #defining empty constraints list\n",
        "\n",
        "[new_Model.constraints.add(sum(A[i][j]*new_Model.x[j] for j in range(M)) <= b[i]) for i in range(N)]  #constraints\n",
        "\n",
        "new_Model.Objective = Objective(expr = sum(c[j]*new_Model.x[j] for j in range(M)), sense = maximize)   #objective function\n",
        "\n",
        "#solving the problem\n",
        "result_new_Model = optCBC.solve(new_Model)\n",
        "\n",
        "OptResults(new_Model)"
      ],
      "metadata": {
        "colab": {
          "base_uri": "https://localhost:8080/"
        },
        "id": "Fb8yZLrg9vXX",
        "outputId": "7c5b442d-827f-49c3-e836-b997d16ab1d0"
      },
      "execution_count": null,
      "outputs": [
        {
          "output_type": "stream",
          "name": "stdout",
          "text": [
            "\n",
            "Objective =  129.999996\n",
            "\n",
            "Decision Variables\n",
            "x[ 0 ] =  10.833333\n",
            "x[ 1 ] =  0.0\n",
            "x[ 2 ] =  0.0\n",
            "x[ 3 ] =  0.0\n",
            "x[ 4 ] =  0.0\n",
            "\n",
            "Constraints\n",
            "constraints : Size=2\n",
            "    Key : Lower : Body        : Upper\n",
            "      1 :  None :   64.999998 :  65.0\n",
            "      2 :  None : 46.04166525 :  90.0\n"
          ]
        }
      ]
    },
    {
      "cell_type": "code",
      "source": [
        "# for MILP with budget and parking area as 63,91\n",
        "\n",
        "#variables\n",
        "M = 5 #number of variables for planes\n",
        "N = 2 #number of constraints\n",
        "\n",
        "c=np.array([12, 14, 10, 15, 14]) #objective function\n",
        "A=np.array([[6, 7.5, 9.5, 10, 12.5],\n",
        "            [4.25, 3.25, 2.5, 3.45, 2.25]])\n",
        "\n",
        "b=np.array([63, 91])\n",
        "\n",
        "new_Model = ConcreteModel()  #defining empty model\n",
        "\n",
        "new_Model.x = Var(np.arange(M), domain = NonNegativeIntegers)  #defining variable type\n",
        "\n",
        "new_Model.constraints = ConstraintList()  #defining empty constraints list\n",
        "\n",
        "[new_Model.constraints.add(sum(A[i][j]*new_Model.x[j] for j in range(M)) <= b[i]) for i in range(N)]  #constraints\n",
        "\n",
        "new_Model.Objective = Objective(expr = sum(c[j]*new_Model.x[j] for j in range(M)), sense = maximize)   #objective function\n",
        "\n",
        "#solving the problem\n",
        "result_new_Model = optCBC.solve(new_Model)\n",
        "\n",
        "OptResults(new_Model)"
      ],
      "metadata": {
        "colab": {
          "base_uri": "https://localhost:8080/"
        },
        "id": "pyM5uK3K90Fk",
        "outputId": "6cac54c3-23bc-4d7e-fa5a-7550c71b15df"
      },
      "execution_count": null,
      "outputs": [
        {
          "output_type": "stream",
          "name": "stdout",
          "text": [
            "\n",
            "Objective =  124.0\n",
            "\n",
            "Decision Variables\n",
            "x[ 0 ] =  8.0\n",
            "x[ 1 ] =  2.0\n",
            "x[ 2 ] =  0.0\n",
            "x[ 3 ] =  0.0\n",
            "x[ 4 ] =  0.0\n",
            "\n",
            "Constraints\n",
            "constraints : Size=2\n",
            "    Key : Lower : Body : Upper\n",
            "      1 :  None : 63.0 :  63.0\n",
            "      2 :  None : 40.5 :  91.0\n"
          ]
        }
      ]
    },
    {
      "cell_type": "code",
      "source": [
        "# for LP with budget and parking area as 63,91\n",
        "\n",
        "#variables\n",
        "M = 5 #number of variables for planes\n",
        "N = 2 #number of constraints\n",
        "\n",
        "c=np.array([12, 14, 10, 15, 14]) #objective function\n",
        "A=np.array([[6, 7.5, 9.5, 10, 12.5],\n",
        "            [4.25, 3.25, 2.5, 3.45, 2.25]])\n",
        "\n",
        "b=np.array([63, 91])\n",
        "\n",
        "new_Model = ConcreteModel()  #defining empty model\n",
        "\n",
        "new_Model.x = Var(np.arange(M), domain = NonNegativeReals)  #defining variable type\n",
        "\n",
        "new_Model.constraints = ConstraintList()  #defining empty constraints list\n",
        "\n",
        "[new_Model.constraints.add(sum(A[i][j]*new_Model.x[j] for j in range(M)) <= b[i]) for i in range(N)]  #constraints\n",
        "\n",
        "new_Model.Objective = Objective(expr = sum(c[j]*new_Model.x[j] for j in range(M)), sense = maximize)   #objective function\n",
        "\n",
        "#solving the problem\n",
        "result_new_Model = optCBC.solve(new_Model)\n",
        "\n",
        "OptResults(new_Model)"
      ],
      "metadata": {
        "colab": {
          "base_uri": "https://localhost:8080/"
        },
        "id": "25I2Y5sB9582",
        "outputId": "5ecb888b-93d4-460d-8293-2ec8530187fc"
      },
      "execution_count": null,
      "outputs": [
        {
          "output_type": "stream",
          "name": "stdout",
          "text": [
            "\n",
            "Objective =  126.0\n",
            "\n",
            "Decision Variables\n",
            "x[ 0 ] =  10.5\n",
            "x[ 1 ] =  0.0\n",
            "x[ 2 ] =  0.0\n",
            "x[ 3 ] =  0.0\n",
            "x[ 4 ] =  0.0\n",
            "\n",
            "Constraints\n",
            "constraints : Size=2\n",
            "    Key : Lower : Body   : Upper\n",
            "      1 :  None :   63.0 :  63.0\n",
            "      2 :  None : 44.625 :  91.0\n"
          ]
        }
      ]
    }
  ]
}